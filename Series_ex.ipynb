{
 "cells": [
  {
   "cell_type": "markdown",
   "id": "d5404195-fdc9-48ff-be4b-06271b90cb45",
   "metadata": {},
   "source": [
    "# 판다스 용도\n",
    "## 데이터 수집 정리하는 역할\n",
    "# 자료 형식\n",
    "## 시리즈, 데이터프레임\n",
    "# 판다스 목적\n",
    "## 서로 다른 여러가지 유형의 데이터를 공통 포맷을 정리하는 것"
   ]
  },
  {
   "cell_type": "markdown",
   "id": "94a59193-2511-461b-975b-a6ed215e886d",
   "metadata": {},
   "source": [
    "1. 시리즈\n",
    " 1.1 1차원 배열"
   ]
  },
  {
   "cell_type": "code",
   "execution_count": null,
   "id": "12a2c6fc-f7ab-471a-8181-d74ce5b11be7",
   "metadata": {},
   "outputs": [],
   "source": [
    "import pandas as pd\n",
    "dict_data ={'a':1, 'b':2, 'c':3}\n",
    "\n",
    "sr = pd.Series(dict_data)\n",
    "\n",
    "print(type(sr))\n",
    "\n",
    "print(sr)"
   ]
  },
  {
   "cell_type": "markdown",
   "id": "c16f366c",
   "metadata": {},
   "source": [
    "리스트 자료를 시리즈로만들기기"
   ]
  },
  {
   "cell_type": "code",
   "execution_count": null,
   "id": "b2ea1d56-1ffc-4ac5-8c40-6b83afeba4b9",
   "metadata": {},
   "outputs": [],
   "source": [
    "import pandas as pd\n",
    "\n",
    "list_data = [100, 200, 300]\n",
    "list_sr = pd.Series(list_data, index=['a', 'b', 'c'])\n",
    "print(list_sr)"
   ]
  },
  {
   "cell_type": "markdown",
   "id": "534f3e94",
   "metadata": {},
   "source": [
    "튜플 자료를 시리즈로 만들기"
   ]
  },
  {
   "cell_type": "code",
   "execution_count": null,
   "id": "3a1fbe31",
   "metadata": {},
   "outputs": [],
   "source": [
    "tuple_data = (300, 400)\n",
    "tuple_sr = pd.Series(tuple_data, index=['a', 'b'])\n",
    "print(tuple_data)\n",
    "type(tuple_sr)"
   ]
  },
  {
   "cell_type": "code",
   "execution_count": null,
   "id": "5a7cfa53",
   "metadata": {},
   "outputs": [],
   "source": [
    "import pandas as pd\n",
    "\n",
    "d_list = ['2019-01-02', 3.14, 'ABC', '100', 'True']\n",
    "\n",
    "sr = pd.Series(d_list)\n",
    "\n",
    "print(sr)"
   ]
  },
  {
   "cell_type": "code",
   "execution_count": null,
   "id": "0489a6e3",
   "metadata": {},
   "outputs": [],
   "source": [
    "print(len(sr))\n",
    "\n",
    "print(sr.shape)\n",
    "\n",
    "print(sr.ndim)"
   ]
  },
  {
   "cell_type": "code",
   "execution_count": null,
   "id": "e53f224f",
   "metadata": {},
   "outputs": [],
   "source": [
    "sr_index = sr.index\n",
    "print(sr_index)\n",
    "sr_values =sr.values\n",
    "print(sr_values)"
   ]
  },
  {
   "cell_type": "code",
   "execution_count": null,
   "id": "cf0ddb3f",
   "metadata": {},
   "outputs": [],
   "source": [
    "dic_data = {\"딸기\":5000, \"바나나\":300}\n",
    "\n",
    "sr_fruits = pd.Series(dic_data)\n",
    "\n",
    "print(sr_fruits)\n",
    "\n",
    "fruits = sr_fruits.index\n",
    "print(fruits)\n"
   ]
  },
  {
   "cell_type": "code",
   "execution_count": null,
   "id": "5cc1dbd0",
   "metadata": {},
   "outputs": [],
   "source": [
    "dic = {'a':10,'b':20,'c':30,'d':40,'e':50,'f':60}\n",
    "\n",
    "sr_dic = pd.Series(dic)\n",
    "\n",
    "sr_dic\n"
   ]
  },
  {
   "cell_type": "code",
   "execution_count": null,
   "id": "ccb8381b",
   "metadata": {},
   "outputs": [],
   "source": [
    "num_list = list(range(10,61,10))\n",
    "i_list = ['a','b','c','d','e','f']\n",
    "sr010 = pd.Series(num_list, index=i_list)\n",
    "sr010\n",
    "\n",
    "print(sr010['c'],sr010[2])"
   ]
  },
  {
   "cell_type": "code",
   "execution_count": 18,
   "id": "79244e20",
   "metadata": {},
   "outputs": [
    {
     "name": "stdout",
     "output_type": "stream",
     "text": [
      "이름              영인\n",
      "생년월일    2010-05-01\n",
      "성별               여\n",
      "학생여부          True\n",
      "dtype: object\n"
     ]
    }
   ],
   "source": [
    "tup_data = ('영인', '2010-05-01', '여', True)\n",
    "sr = pd.Series(tup_data, index=['이름', '생년월일', '성별', '학생여부'])\n",
    "print(sr)"
   ]
  },
  {
   "cell_type": "code",
   "execution_count": 20,
   "id": "b4d67bdb",
   "metadata": {},
   "outputs": [
    {
     "name": "stdout",
     "output_type": "stream",
     "text": [
      "이름        영인\n",
      "성별         여\n",
      "학생여부    True\n",
      "dtype: object\n"
     ]
    }
   ],
   "source": [
    "print(sr[['이름', '성별', '학생여부']])\n"
   ]
  },
  {
   "cell_type": "code",
   "execution_count": null,
   "id": "29510309",
   "metadata": {},
   "outputs": [
    {
     "name": "stdout",
     "output_type": "stream",
     "text": [
      "이름              영인\n",
      "생년월일    2010-05-01\n",
      "dtype: object\n"
     ]
    }
   ],
   "source": [
    "if sr['학생여부']:\n",
    "    print(sr[['이름', '생년월일']])\n",
    "else:\n",
    "    print(sr['이름'])\n",
    "    \n",
    "\n",
    "print\n"
   ]
  },
  {
   "cell_type": "code",
   "execution_count": 23,
   "id": "f3ab8816",
   "metadata": {},
   "outputs": [
    {
     "name": "stdout",
     "output_type": "stream",
     "text": [
      "이름              영인\n",
      "생년월일    2010-05-01\n",
      "성별               여\n",
      "dtype: object\n"
     ]
    }
   ],
   "source": [
    "print(sr['이름':'성별'])"
   ]
  },
  {
   "cell_type": "code",
   "execution_count": 29,
   "id": "a24b2c9b",
   "metadata": {},
   "outputs": [
    {
     "name": "stdout",
     "output_type": "stream",
     "text": [
      "1      0\n",
      "2      0\n",
      "3      0\n",
      "4      0\n",
      "5      0\n",
      "      ..\n",
      "96     0\n",
      "97     0\n",
      "98     0\n",
      "99     0\n",
      "100    0\n",
      "Length: 100, dtype: int64\n"
     ]
    }
   ],
   "source": [
    "sr_empty = pd.Series()\n",
    "\n",
    "ind = range(1,101)\n",
    "\n",
    "sr_5 = pd.Series(0, index=ind)\n",
    "print(sr_5)"
   ]
  },
  {
   "cell_type": "markdown",
   "id": "f4016139",
   "metadata": {},
   "source": [
    "문제1) 시리즈 생성\n",
    "\n",
    "리스트 [100, 200, 300, 400, 500]를 사용해서 인덱스가 'a', 'b', 'c', 'd', 'e'인 시리즈를 만들어 출력하시오."
   ]
  },
  {
   "cell_type": "code",
   "execution_count": 33,
   "id": "3f9431af",
   "metadata": {},
   "outputs": [
    {
     "data": {
      "text/plain": [
       "a    100\n",
       "b    200\n",
       "c    300\n",
       "d    400\n",
       "e    500\n",
       "dtype: int64"
      ]
     },
     "execution_count": 33,
     "metadata": {},
     "output_type": "execute_result"
    }
   ],
   "source": [
    "import pandas as pd\n",
    "\n",
    "mylist = [100, 200, 300, 400, 500]\n",
    "myIndex = ['a', 'b', 'c', 'd', 'e']\n",
    "\n",
    "my_sr = pd.Series(mylist,index=myIndex)\n",
    "my_sr"
   ]
  },
  {
   "cell_type": "markdown",
   "id": "66174403",
   "metadata": {},
   "source": [
    "문제2) 값 선택 및 슬라이싱\n",
    "\n",
    "아래 시리즈에서 인덱스 'b'와 'd'에 해당하는 값을 출력하시오."
   ]
  },
  {
   "cell_type": "code",
   "execution_count": null,
   "id": "a82b266f",
   "metadata": {},
   "outputs": [
    {
     "name": "stdout",
     "output_type": "stream",
     "text": [
      "a    100\n",
      "b    200\n",
      "dtype: int64\n"
     ]
    }
   ],
   "source": [
    "print(my_sr[['b','d']])"
   ]
  },
  {
   "cell_type": "markdown",
   "id": "44f93fa0",
   "metadata": {},
   "source": [
    "문제3) 조건 필터링\n",
    "\n",
    "다음 시리즈에서 값이 30보다 큰 데이터만 출력하시오."
   ]
  },
  {
   "cell_type": "code",
   "execution_count": 3,
   "id": "7ef6d9bc",
   "metadata": {},
   "outputs": [
    {
     "data": {
      "text/plain": [
       "C    35\n",
       "D    45\n",
       "E    55\n",
       "dtype: int64"
      ]
     },
     "execution_count": 3,
     "metadata": {},
     "output_type": "execute_result"
    }
   ],
   "source": [
    "import pandas as pd\n",
    "s = pd.Series([15, 25, 35, 45, 55], index=['A', 'B', 'C', 'D', 'E'])\n",
    "s_30 = s[s > 30]\n",
    "s_30"
   ]
  },
  {
   "cell_type": "markdown",
   "id": "4668dea6",
   "metadata": {},
   "source": [
    "문제4) 연산 적용\n",
    "\n",
    "아래 시리즈에 10을 더한 새로운 시리즈를 만들어 출력하시오."
   ]
  },
  {
   "cell_type": "code",
   "execution_count": 2,
   "id": "8b630d2e",
   "metadata": {},
   "outputs": [
    {
     "data": {
      "text/plain": [
       "0    15\n",
       "1    20\n",
       "2    25\n",
       "3    30\n",
       "4    35\n",
       "dtype: int64"
      ]
     },
     "execution_count": 2,
     "metadata": {},
     "output_type": "execute_result"
    }
   ],
   "source": [
    "import pandas as pd\n",
    "s = pd.Series([5, 10, 15, 20, 25])\n",
    "s += 10\n",
    "s"
   ]
  },
  {
   "cell_type": "markdown",
   "id": "4e03c697",
   "metadata": {},
   "source": [
    "문제5) 딕셔너리로 시리즈 만들기 & 값 접근\n",
    "\n",
    "다음 딕셔너리를 시리즈로 만들고 'Python' 과목 점수를 출력하시오."
   ]
  },
  {
   "cell_type": "code",
   "execution_count": null,
   "id": "81e5a9df",
   "metadata": {},
   "outputs": [],
   "source": [
    "scores = {\n",
    "    'Python': 95,\n",
    "    'Math': 88,\n",
    "    'English': 76,\n",
    "    'History': 82\n",
    "}"
   ]
  },
  {
   "cell_type": "markdown",
   "id": "18fdabb4",
   "metadata": {},
   "source": [
    "문제6) 시리즈 인덱스 변경\n",
    "\n",
    "아래 시리즈의 인덱스를 'A', 'B', 'C', 'D', 'E'로 바꿔서 출력하시오."
   ]
  },
  {
   "cell_type": "code",
   "execution_count": 1,
   "id": "e942a714",
   "metadata": {},
   "outputs": [
    {
     "data": {
      "text/plain": [
       "A    12\n",
       "B    24\n",
       "C    36\n",
       "D    48\n",
       "E    60\n",
       "dtype: int64"
      ]
     },
     "execution_count": 1,
     "metadata": {},
     "output_type": "execute_result"
    }
   ],
   "source": [
    "import pandas as pd\n",
    "s = pd.Series([12, 24, 36, 48, 60])\n",
    "s.index = ['A', 'B', 'C', 'D', 'E']\n",
    "\n",
    "s"
   ]
  },
  {
   "cell_type": "markdown",
   "id": "18ce3666",
   "metadata": {},
   "source": [
    "문제7) 시리즈 값의 평균 구하기\n",
    "\n",
    "다음 시리즈의 평균값을 계산하시오."
   ]
  },
  {
   "cell_type": "code",
   "execution_count": 8,
   "id": "8f5a2018",
   "metadata": {},
   "outputs": [
    {
     "name": "stdout",
     "output_type": "stream",
     "text": [
      "75\n",
      "95\n",
      "85.6\n"
     ]
    }
   ],
   "source": [
    "import pandas as pd\n",
    "s = pd.Series([80, 90, 75, 95, 88,])\n",
    "print(s.min())\n",
    "print(s.max())\n",
    "print(s.mean())\n"
   ]
  },
  {
   "cell_type": "markdown",
   "id": "81eb59e5",
   "metadata": {},
   "source": [
    "문제8) 시리즈 정렬\n",
    "\n",
    "아래 시리즈를 값 기준으로 오름차순 정렬하여 출력하시오."
   ]
  },
  {
   "cell_type": "code",
   "execution_count": 9,
   "id": "e4d4bf41",
   "metadata": {},
   "outputs": [
    {
     "data": {
      "text/plain": [
       "1    16\n",
       "3    33\n",
       "0    42\n",
       "2    58\n",
       "4    95\n",
       "dtype: int64"
      ]
     },
     "execution_count": 9,
     "metadata": {},
     "output_type": "execute_result"
    }
   ],
   "source": [
    "import pandas as pd\n",
    "s = pd.Series([42, 16, 58, 33, 95])\n",
    "s.sort_values()"
   ]
  },
  {
   "cell_type": "markdown",
   "id": "09e33189",
   "metadata": {},
   "source": [
    "문제9) 시리즈 NaN 처리\n",
    "\n",
    "다음 시리즈에서 NaN을 0으로 채운 새로운 시리즈를 만들어 출력하시오."
   ]
  },
  {
   "cell_type": "code",
   "execution_count": 13,
   "id": "3e912b20",
   "metadata": {},
   "outputs": [
    {
     "name": "stdout",
     "output_type": "stream",
     "text": [
      "0    10.0\n",
      "1     0.0\n",
      "2    30.0\n",
      "3     0.0\n",
      "4    50.0\n",
      "dtype: float64\n"
     ]
    }
   ],
   "source": [
    "import pandas as pd\n",
    "import numpy as np\n",
    "\n",
    "s = pd.Series([10, np.nan, 30, np.nan, 50])\n",
    "s_1 = pd.Series([10,'a',30,'b',50])\n",
    "s_0 = s.fillna(0)\n",
    "print(s_0)\n"
   ]
  },
  {
   "cell_type": "markdown",
   "id": "21cb9c0e",
   "metadata": {},
   "source": [
    "문제10) 시리즈 불린 인덱싱\n",
    "\n",
    "다음 시리즈에서 True인 인덱스만 출력하시오."
   ]
  },
  {
   "cell_type": "code",
   "execution_count": 19,
   "id": "dacb8c45",
   "metadata": {},
   "outputs": [
    {
     "name": "stdout",
     "output_type": "stream",
     "text": [
      "Index(['A', 'C', 'E'], dtype='object')\n"
     ]
    }
   ],
   "source": [
    "import pandas as pd\n",
    "\n",
    "s = pd.Series([True, False, True, False, True], index=['A', 'B', 'C', 'D', 'E'])\n",
    "\n",
    "print(s [s].index)"
   ]
  },
  {
   "cell_type": "code",
   "execution_count": 23,
   "id": "5c15b891",
   "metadata": {},
   "outputs": [
    {
     "name": "stdout",
     "output_type": "stream",
     "text": [
      "1     30\n",
      "3    100\n",
      "dtype: int64\n"
     ]
    }
   ],
   "source": [
    "s_num = [10, 30, 20, 100]\n",
    "sr_num = pd.Series(s_num)\n",
    "\n",
    "print(sr_num[sr_num>=30])"
   ]
  },
  {
   "cell_type": "code",
   "execution_count": null,
   "id": "e666923c",
   "metadata": {},
   "outputs": [],
   "source": []
  }
 ],
 "metadata": {
  "kernelspec": {
   "display_name": "ai",
   "language": "python",
   "name": "python3"
  },
  "language_info": {
   "codemirror_mode": {
    "name": "ipython",
    "version": 3
   },
   "file_extension": ".py",
   "mimetype": "text/x-python",
   "name": "python",
   "nbconvert_exporter": "python",
   "pygments_lexer": "ipython3",
   "version": "3.10.16"
  }
 },
 "nbformat": 4,
 "nbformat_minor": 5
}
