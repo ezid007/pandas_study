{
 "cells": [
  {
   "cell_type": "markdown",
   "id": "69070f0e",
   "metadata": {},
   "source": [
    "문제1) 시리즈 연산 \n",
    "\n",
    "시리즈와 숫자 연산하는 문제입니다\n",
    "\n",
    "할인 적용하기\n",
    "\n",
    "아래와 같은 상품 가격 데이터가 Series로 주어졌습니다.\n",
    "\n",
    "요구사항\n",
    "\n",
    "- 시리즈를 만들고\n",
    "\n",
    "- 모든 상품 가격에 10% 할인된 금액을 계산해서 출력하세요.\n",
    "\n",
    "(힌트: 가격 * 0.9)"
   ]
  },
  {
   "cell_type": "code",
   "execution_count": 16,
   "id": "3745843f",
   "metadata": {},
   "outputs": [
    {
     "ename": "SyntaxError",
     "evalue": "invalid syntax (4252729858.py, line 8)",
     "output_type": "error",
     "traceback": [
      "\u001b[1;36m  Cell \u001b[1;32mIn[16], line 8\u001b[1;36m\u001b[0m\n\u001b[1;33m    item_div =\u001b[0m\n\u001b[1;37m               ^\u001b[0m\n\u001b[1;31mSyntaxError\u001b[0m\u001b[1;31m:\u001b[0m invalid syntax\n"
     ]
    }
   ],
   "source": [
    "import pandas as pd\n",
    "\n",
    "\n",
    "item = {'상품명':['키보드', '마우스', '모니터'],'가격':[30000, 15000, 200000]}\n",
    "\n",
    "item_Ser = pd.Series(item)\n",
    "\n",
    "item_div = \n",
    "\n"
   ]
  },
  {
   "cell_type": "code",
   "execution_count": null,
   "id": "b045d391",
   "metadata": {},
   "outputs": [
    {
     "name": "stdout",
     "output_type": "stream",
     "text": [
      "키보드     30000\n",
      "마우스     15000\n",
      "모니터    200000\n",
      "dtype: int64\n",
      "키보드     27000.0\n",
      "마우스     13500.0\n",
      "모니터    180000.0\n",
      "dtype: float64\n"
     ]
    }
   ],
   "source": [
    "# 문제1) 산술연산 문제1)\n",
    "\n",
    "import pandas as pd\n",
    "\n",
    "price = pd.Series([30000, 15000, 200000], index=['키보드', '마우스', '모니터'])\n",
    "print(price)\n",
    "discount_price = price * 0.9\n",
    "print(discount_price)"
   ]
  },
  {
   "cell_type": "markdown",
   "id": "744492c5",
   "metadata": {},
   "source": [
    "문제2) 시리즈 연산 \n",
    "시리즈와 숫자 연산하는 문제입니다\n",
    "\n",
    "요구사항\n",
    "모든 메뉴 가격에 부가세 10%를 추가해서 최종 결제 금액을 계산하세요.\n",
    "(힌트: 가격 * 1.1)"
   ]
  },
  {
   "cell_type": "code",
   "execution_count": null,
   "id": "4cf5c2f1",
   "metadata": {},
   "outputs": [
    {
     "data": {
      "text/plain": [
       "햄버거     6050.0\n",
       "피자     16500.0\n",
       "파스타    13200.0\n",
       "dtype: float64"
      ]
     },
     "execution_count": 14,
     "metadata": {},
     "output_type": "execute_result"
    }
   ],
   "source": [
    "import pandas as pd\n",
    "\n",
    "item = pd.Series([5500, 15000, 12000], index=['햄버거', '피자', '파스타'])\n",
    "\n",
    "item_up = item*1.1\n",
    "\n",
    "item_up\n"
   ]
  },
  {
   "cell_type": "markdown",
   "id": "1bb8b27b",
   "metadata": {},
   "source": [
    "문제3) 시리즈와 시리즈 연산 문제\n",
    "\n",
    "​상품 총 금액 계산하기\n",
    "\n",
    "다음과 같이 상품 가격과 구매 수량 데이터가 주어졌습니다.\n",
    "\n",
    "요구사항\n",
    "\n",
    "상품 가격과 수량 두 개의 Series를 곱해서\n",
    "\n",
    "각 상품의 총 금액(가격 × 수량) 을 계산한 결과를 출력하세요."
   ]
  },
  {
   "cell_type": "code",
   "execution_count": null,
   "id": "26d09acd",
   "metadata": {},
   "outputs": [
    {
     "data": {
      "text/plain": [
       "키보드     60000\n",
       "마우스     45000\n",
       "모니터    200000\n",
       "dtype: int64"
      ]
     },
     "execution_count": 1,
     "metadata": {},
     "output_type": "execute_result"
    }
   ],
   "source": [
    "import pandas as pd\n",
    "\n",
    "item_price = pd.Series([30000, 15000, 200000], index=['키보드', '마우스', '모니터'])\n",
    "\n",
    "item_num = pd.Series([2, 3, 1], index=['키보드', '마우스', '모니터'])\n",
    "\n",
    "item_sum = item_price * item_num\n",
    "\n",
    "item_sum"
   ]
  },
  {
   "cell_type": "markdown",
   "id": "e2b1b30d",
   "metadata": {},
   "source": [
    "문제4) 시험 점수 평균 계산하기\n",
    "\n",
    "아래는 학생들의 중간고사 점수와 기말고사 점수가 Series로 주어져 있습니다.\n",
    "\n",
    "요구사항\n",
    "\n",
    "중간고사와 기말고사 점수를 이용해서 학생별 평균 점수를 계산해서 출력하세요.\n",
    "\n",
    "(힌트: (중간고사 + 기말고사) / 2)"
   ]
  },
  {
   "cell_type": "code",
   "execution_count": null,
   "id": "f49896ef",
   "metadata": {},
   "outputs": [
    {
     "name": "stdout",
     "output_type": "stream",
     "text": [
      "철수    85.0\n",
      "영희    90.0\n",
      "민수    83.0\n",
      "dtype: float64\n"
     ]
    },
    {
     "data": {
      "application/vnd.microsoft.datawrangler.viewer.v0+json": {
       "columns": [
        {
         "name": "index",
         "rawType": "object",
         "type": "string"
        },
        {
         "name": "중간",
         "rawType": "float64",
         "type": "float"
        },
        {
         "name": "기말",
         "rawType": "float64",
         "type": "float"
        },
        {
         "name": "평균",
         "rawType": "float64",
         "type": "float"
        }
       ],
       "conversionMethod": "pd.DataFrame",
       "ref": "ff850837-4613-4472-acf0-0d7ab66b48f5",
       "rows": [
        [
         "철수",
         "80.0",
         "90.0",
         "85.0"
        ],
        [
         "영희",
         "85.0",
         "95.0",
         "90.0"
        ],
        [
         "민수",
         "78.0",
         "88.0",
         "83.0"
        ]
       ],
       "shape": {
        "columns": 3,
        "rows": 3
       }
      },
      "text/html": [
       "<div>\n",
       "<style scoped>\n",
       "    .dataframe tbody tr th:only-of-type {\n",
       "        vertical-align: middle;\n",
       "    }\n",
       "\n",
       "    .dataframe tbody tr th {\n",
       "        vertical-align: top;\n",
       "    }\n",
       "\n",
       "    .dataframe thead th {\n",
       "        text-align: right;\n",
       "    }\n",
       "</style>\n",
       "<table border=\"1\" class=\"dataframe\">\n",
       "  <thead>\n",
       "    <tr style=\"text-align: right;\">\n",
       "      <th></th>\n",
       "      <th>중간</th>\n",
       "      <th>기말</th>\n",
       "      <th>평균</th>\n",
       "    </tr>\n",
       "  </thead>\n",
       "  <tbody>\n",
       "    <tr>\n",
       "      <th>철수</th>\n",
       "      <td>80.0</td>\n",
       "      <td>90.0</td>\n",
       "      <td>85.0</td>\n",
       "    </tr>\n",
       "    <tr>\n",
       "      <th>영희</th>\n",
       "      <td>85.0</td>\n",
       "      <td>95.0</td>\n",
       "      <td>90.0</td>\n",
       "    </tr>\n",
       "    <tr>\n",
       "      <th>민수</th>\n",
       "      <td>78.0</td>\n",
       "      <td>88.0</td>\n",
       "      <td>83.0</td>\n",
       "    </tr>\n",
       "  </tbody>\n",
       "</table>\n",
       "</div>"
      ],
      "text/plain": [
       "      중간    기말    평균\n",
       "철수  80.0  90.0  85.0\n",
       "영희  85.0  95.0  90.0\n",
       "민수  78.0  88.0  83.0"
      ]
     },
     "execution_count": 7,
     "metadata": {},
     "output_type": "execute_result"
    }
   ],
   "source": [
    "import pandas as pd\n",
    "\n",
    "mid_grade = pd.Series([80, 85, 78], index=['철수', '영희', '민수'])\n",
    "\n",
    "last_grade = pd.Series({\"철수\":90, \"영희\":95, \"민수\":88})\n",
    "\n",
    "avg_score = (mid_grade + last_grade)/2\n",
    "\n",
    "print(avg_score)\n",
    "\n",
    "df = pd.DataFrame([mid_grade, last_grade, avg_score], index=['중간', '기말', '평균'])\n",
    "\n",
    "df.T"
   ]
  },
  {
   "cell_type": "markdown",
   "id": "d223d948",
   "metadata": {},
   "source": [
    "문제5) pandas의 연산 메소드(add(), sub(), mul(), div())를 활용하는 문제\n",
    "\n",
    "요구사항\n",
    "\n",
    "연산 메소드 mul()과 sub()를 사용해서 아래 계산을 수행하세요.\n",
    "\n",
    "최종가격 = 가격 - (가격 × 할인율/100)\n",
    "\n",
    "​\n",
    "\n",
    "조건:\n",
    "\n",
    "mul()을 사용해 할인액을 계산.\n",
    "\n",
    "sub()을 사용해 최종 가격을 계산.\n",
    "\n",
    "최종 결과를 출력하세요."
   ]
  },
  {
   "cell_type": "code",
   "execution_count": null,
   "id": "3093bc04",
   "metadata": {},
   "outputs": [
    {
     "name": "stdout",
     "output_type": "stream",
     "text": [
      "키보드    27000.0\n",
      "마우스    14250.0\n",
      "모니터    16000.0\n",
      "dtype: float64\n"
     ]
    },
    {
     "data": {
      "application/vnd.microsoft.datawrangler.viewer.v0+json": {
       "columns": [
        {
         "name": "index",
         "rawType": "object",
         "type": "string"
        },
        {
         "name": "원가가격",
         "rawType": "float64",
         "type": "float"
        },
        {
         "name": "최종가격",
         "rawType": "float64",
         "type": "float"
        }
       ],
       "conversionMethod": "pd.DataFrame",
       "ref": "ac78a64b-4067-4188-8bfd-64eeaaf6e7dd",
       "rows": [
        [
         "키보드",
         "30000.0",
         "27000.0"
        ],
        [
         "마우스",
         "15000.0",
         "14250.0"
        ],
        [
         "모니터",
         "20000.0",
         "16000.0"
        ]
       ],
       "shape": {
        "columns": 2,
        "rows": 3
       }
      },
      "text/html": [
       "<div>\n",
       "<style scoped>\n",
       "    .dataframe tbody tr th:only-of-type {\n",
       "        vertical-align: middle;\n",
       "    }\n",
       "\n",
       "    .dataframe tbody tr th {\n",
       "        vertical-align: top;\n",
       "    }\n",
       "\n",
       "    .dataframe thead th {\n",
       "        text-align: right;\n",
       "    }\n",
       "</style>\n",
       "<table border=\"1\" class=\"dataframe\">\n",
       "  <thead>\n",
       "    <tr style=\"text-align: right;\">\n",
       "      <th></th>\n",
       "      <th>원가가격</th>\n",
       "      <th>최종가격</th>\n",
       "    </tr>\n",
       "  </thead>\n",
       "  <tbody>\n",
       "    <tr>\n",
       "      <th>키보드</th>\n",
       "      <td>30000.0</td>\n",
       "      <td>27000.0</td>\n",
       "    </tr>\n",
       "    <tr>\n",
       "      <th>마우스</th>\n",
       "      <td>15000.0</td>\n",
       "      <td>14250.0</td>\n",
       "    </tr>\n",
       "    <tr>\n",
       "      <th>모니터</th>\n",
       "      <td>20000.0</td>\n",
       "      <td>16000.0</td>\n",
       "    </tr>\n",
       "  </tbody>\n",
       "</table>\n",
       "</div>"
      ],
      "text/plain": [
       "        원가가격     최종가격\n",
       "키보드  30000.0  27000.0\n",
       "마우스  15000.0  14250.0\n",
       "모니터  20000.0  16000.0"
      ]
     },
     "execution_count": 8,
     "metadata": {},
     "output_type": "execute_result"
    }
   ],
   "source": [
    "# 문제5\n",
    "price = pd.Series([30000, 15000, 20000], index = ['키보드', '마우스', '모니터']) \n",
    "dis_rate = pd.Series([10, 5, 20], index = ['키보드', '마우스', '모니터'])\n",
    "cal1 =  price.mul(dis_rate, fill_value=0)\n",
    "cal2 = cal1.div(100.0, fill_value=0)\n",
    "fin_price = price.sub(cal2, fill_value=0)\n",
    "print(fin_price)\n",
    "df = pd.DataFrame( [price, fin_price], index=['원가가격', '최종가격'] )\n",
    "data=df.T\n",
    "data"
   ]
  },
  {
   "cell_type": "code",
   "execution_count": null,
   "id": "8a3c54c9",
   "metadata": {},
   "outputs": [
    {
     "data": {
      "application/vnd.microsoft.datawrangler.viewer.v0+json": {
       "columns": [
        {
         "name": "index",
         "rawType": "int64",
         "type": "integer"
        },
        {
         "name": "survived",
         "rawType": "int64",
         "type": "integer"
        },
        {
         "name": "pclass",
         "rawType": "int64",
         "type": "integer"
        },
        {
         "name": "sex",
         "rawType": "object",
         "type": "string"
        },
        {
         "name": "age",
         "rawType": "float64",
         "type": "float"
        },
        {
         "name": "sibsp",
         "rawType": "int64",
         "type": "integer"
        },
        {
         "name": "parch",
         "rawType": "int64",
         "type": "integer"
        },
        {
         "name": "fare",
         "rawType": "float64",
         "type": "float"
        },
        {
         "name": "embarked",
         "rawType": "object",
         "type": "unknown"
        },
        {
         "name": "class",
         "rawType": "category",
         "type": "unknown"
        },
        {
         "name": "who",
         "rawType": "object",
         "type": "string"
        },
        {
         "name": "adult_male",
         "rawType": "bool",
         "type": "boolean"
        },
        {
         "name": "deck",
         "rawType": "category",
         "type": "unknown"
        },
        {
         "name": "embark_town",
         "rawType": "object",
         "type": "unknown"
        },
        {
         "name": "alive",
         "rawType": "object",
         "type": "string"
        },
        {
         "name": "alone",
         "rawType": "bool",
         "type": "boolean"
        }
       ],
       "conversionMethod": "pd.DataFrame",
       "ref": "b46f0bfe-ebdd-4544-858e-4f3b8a9a8cab",
       "rows": [
        [
         "0",
         "0",
         "3",
         "male",
         "22.0",
         "1",
         "0",
         "7.25",
         "S",
         "Third",
         "man",
         "True",
         null,
         "Southampton",
         "no",
         "False"
        ],
        [
         "1",
         "1",
         "1",
         "female",
         "38.0",
         "1",
         "0",
         "71.2833",
         "C",
         "First",
         "woman",
         "False",
         "C",
         "Cherbourg",
         "yes",
         "False"
        ],
        [
         "2",
         "1",
         "3",
         "female",
         "26.0",
         "0",
         "0",
         "7.925",
         "S",
         "Third",
         "woman",
         "False",
         null,
         "Southampton",
         "yes",
         "True"
        ],
        [
         "3",
         "1",
         "1",
         "female",
         "35.0",
         "1",
         "0",
         "53.1",
         "S",
         "First",
         "woman",
         "False",
         "C",
         "Southampton",
         "yes",
         "False"
        ],
        [
         "4",
         "0",
         "3",
         "male",
         "35.0",
         "0",
         "0",
         "8.05",
         "S",
         "Third",
         "man",
         "True",
         null,
         "Southampton",
         "no",
         "True"
        ],
        [
         "5",
         "0",
         "3",
         "male",
         null,
         "0",
         "0",
         "8.4583",
         "Q",
         "Third",
         "man",
         "True",
         null,
         "Queenstown",
         "no",
         "True"
        ],
        [
         "6",
         "0",
         "1",
         "male",
         "54.0",
         "0",
         "0",
         "51.8625",
         "S",
         "First",
         "man",
         "True",
         "E",
         "Southampton",
         "no",
         "True"
        ],
        [
         "7",
         "0",
         "3",
         "male",
         "2.0",
         "3",
         "1",
         "21.075",
         "S",
         "Third",
         "child",
         "False",
         null,
         "Southampton",
         "no",
         "False"
        ],
        [
         "8",
         "1",
         "3",
         "female",
         "27.0",
         "0",
         "2",
         "11.1333",
         "S",
         "Third",
         "woman",
         "False",
         null,
         "Southampton",
         "yes",
         "False"
        ],
        [
         "9",
         "1",
         "2",
         "female",
         "14.0",
         "1",
         "0",
         "30.0708",
         "C",
         "Second",
         "child",
         "False",
         null,
         "Cherbourg",
         "yes",
         "False"
        ],
        [
         "10",
         "1",
         "3",
         "female",
         "4.0",
         "1",
         "1",
         "16.7",
         "S",
         "Third",
         "child",
         "False",
         "G",
         "Southampton",
         "yes",
         "False"
        ],
        [
         "11",
         "1",
         "1",
         "female",
         "58.0",
         "0",
         "0",
         "26.55",
         "S",
         "First",
         "woman",
         "False",
         "C",
         "Southampton",
         "yes",
         "True"
        ],
        [
         "12",
         "0",
         "3",
         "male",
         "20.0",
         "0",
         "0",
         "8.05",
         "S",
         "Third",
         "man",
         "True",
         null,
         "Southampton",
         "no",
         "True"
        ],
        [
         "13",
         "0",
         "3",
         "male",
         "39.0",
         "1",
         "5",
         "31.275",
         "S",
         "Third",
         "man",
         "True",
         null,
         "Southampton",
         "no",
         "False"
        ],
        [
         "14",
         "0",
         "3",
         "female",
         "14.0",
         "0",
         "0",
         "7.8542",
         "S",
         "Third",
         "child",
         "False",
         null,
         "Southampton",
         "no",
         "True"
        ],
        [
         "15",
         "1",
         "2",
         "female",
         "55.0",
         "0",
         "0",
         "16.0",
         "S",
         "Second",
         "woman",
         "False",
         null,
         "Southampton",
         "yes",
         "True"
        ],
        [
         "16",
         "0",
         "3",
         "male",
         "2.0",
         "4",
         "1",
         "29.125",
         "Q",
         "Third",
         "child",
         "False",
         null,
         "Queenstown",
         "no",
         "False"
        ],
        [
         "17",
         "1",
         "2",
         "male",
         null,
         "0",
         "0",
         "13.0",
         "S",
         "Second",
         "man",
         "True",
         null,
         "Southampton",
         "yes",
         "True"
        ],
        [
         "18",
         "0",
         "3",
         "female",
         "31.0",
         "1",
         "0",
         "18.0",
         "S",
         "Third",
         "woman",
         "False",
         null,
         "Southampton",
         "no",
         "False"
        ],
        [
         "19",
         "1",
         "3",
         "female",
         null,
         "0",
         "0",
         "7.225",
         "C",
         "Third",
         "woman",
         "False",
         null,
         "Cherbourg",
         "yes",
         "True"
        ],
        [
         "20",
         "0",
         "2",
         "male",
         "35.0",
         "0",
         "0",
         "26.0",
         "S",
         "Second",
         "man",
         "True",
         null,
         "Southampton",
         "no",
         "True"
        ],
        [
         "21",
         "1",
         "2",
         "male",
         "34.0",
         "0",
         "0",
         "13.0",
         "S",
         "Second",
         "man",
         "True",
         "D",
         "Southampton",
         "yes",
         "True"
        ],
        [
         "22",
         "1",
         "3",
         "female",
         "15.0",
         "0",
         "0",
         "8.0292",
         "Q",
         "Third",
         "child",
         "False",
         null,
         "Queenstown",
         "yes",
         "True"
        ],
        [
         "23",
         "1",
         "1",
         "male",
         "28.0",
         "0",
         "0",
         "35.5",
         "S",
         "First",
         "man",
         "True",
         "A",
         "Southampton",
         "yes",
         "True"
        ],
        [
         "24",
         "0",
         "3",
         "female",
         "8.0",
         "3",
         "1",
         "21.075",
         "S",
         "Third",
         "child",
         "False",
         null,
         "Southampton",
         "no",
         "False"
        ],
        [
         "25",
         "1",
         "3",
         "female",
         "38.0",
         "1",
         "5",
         "31.3875",
         "S",
         "Third",
         "woman",
         "False",
         null,
         "Southampton",
         "yes",
         "False"
        ],
        [
         "26",
         "0",
         "3",
         "male",
         null,
         "0",
         "0",
         "7.225",
         "C",
         "Third",
         "man",
         "True",
         null,
         "Cherbourg",
         "no",
         "True"
        ],
        [
         "27",
         "0",
         "1",
         "male",
         "19.0",
         "3",
         "2",
         "263.0",
         "S",
         "First",
         "man",
         "True",
         "C",
         "Southampton",
         "no",
         "False"
        ],
        [
         "28",
         "1",
         "3",
         "female",
         null,
         "0",
         "0",
         "7.8792",
         "Q",
         "Third",
         "woman",
         "False",
         null,
         "Queenstown",
         "yes",
         "True"
        ],
        [
         "29",
         "0",
         "3",
         "male",
         null,
         "0",
         "0",
         "7.8958",
         "S",
         "Third",
         "man",
         "True",
         null,
         "Southampton",
         "no",
         "True"
        ],
        [
         "30",
         "0",
         "1",
         "male",
         "40.0",
         "0",
         "0",
         "27.7208",
         "C",
         "First",
         "man",
         "True",
         null,
         "Cherbourg",
         "no",
         "True"
        ],
        [
         "31",
         "1",
         "1",
         "female",
         null,
         "1",
         "0",
         "146.5208",
         "C",
         "First",
         "woman",
         "False",
         "B",
         "Cherbourg",
         "yes",
         "False"
        ],
        [
         "32",
         "1",
         "3",
         "female",
         null,
         "0",
         "0",
         "7.75",
         "Q",
         "Third",
         "woman",
         "False",
         null,
         "Queenstown",
         "yes",
         "True"
        ],
        [
         "33",
         "0",
         "2",
         "male",
         "66.0",
         "0",
         "0",
         "10.5",
         "S",
         "Second",
         "man",
         "True",
         null,
         "Southampton",
         "no",
         "True"
        ],
        [
         "34",
         "0",
         "1",
         "male",
         "28.0",
         "1",
         "0",
         "82.1708",
         "C",
         "First",
         "man",
         "True",
         null,
         "Cherbourg",
         "no",
         "False"
        ],
        [
         "35",
         "0",
         "1",
         "male",
         "42.0",
         "1",
         "0",
         "52.0",
         "S",
         "First",
         "man",
         "True",
         null,
         "Southampton",
         "no",
         "False"
        ],
        [
         "36",
         "1",
         "3",
         "male",
         null,
         "0",
         "0",
         "7.2292",
         "C",
         "Third",
         "man",
         "True",
         null,
         "Cherbourg",
         "yes",
         "True"
        ],
        [
         "37",
         "0",
         "3",
         "male",
         "21.0",
         "0",
         "0",
         "8.05",
         "S",
         "Third",
         "man",
         "True",
         null,
         "Southampton",
         "no",
         "True"
        ],
        [
         "38",
         "0",
         "3",
         "female",
         "18.0",
         "2",
         "0",
         "18.0",
         "S",
         "Third",
         "woman",
         "False",
         null,
         "Southampton",
         "no",
         "False"
        ],
        [
         "39",
         "1",
         "3",
         "female",
         "14.0",
         "1",
         "0",
         "11.2417",
         "C",
         "Third",
         "child",
         "False",
         null,
         "Cherbourg",
         "yes",
         "False"
        ],
        [
         "40",
         "0",
         "3",
         "female",
         "40.0",
         "1",
         "0",
         "9.475",
         "S",
         "Third",
         "woman",
         "False",
         null,
         "Southampton",
         "no",
         "False"
        ],
        [
         "41",
         "0",
         "2",
         "female",
         "27.0",
         "1",
         "0",
         "21.0",
         "S",
         "Second",
         "woman",
         "False",
         null,
         "Southampton",
         "no",
         "False"
        ],
        [
         "42",
         "0",
         "3",
         "male",
         null,
         "0",
         "0",
         "7.8958",
         "C",
         "Third",
         "man",
         "True",
         null,
         "Cherbourg",
         "no",
         "True"
        ],
        [
         "43",
         "1",
         "2",
         "female",
         "3.0",
         "1",
         "2",
         "41.5792",
         "C",
         "Second",
         "child",
         "False",
         null,
         "Cherbourg",
         "yes",
         "False"
        ],
        [
         "44",
         "1",
         "3",
         "female",
         "19.0",
         "0",
         "0",
         "7.8792",
         "Q",
         "Third",
         "woman",
         "False",
         null,
         "Queenstown",
         "yes",
         "True"
        ],
        [
         "45",
         "0",
         "3",
         "male",
         null,
         "0",
         "0",
         "8.05",
         "S",
         "Third",
         "man",
         "True",
         null,
         "Southampton",
         "no",
         "True"
        ],
        [
         "46",
         "0",
         "3",
         "male",
         null,
         "1",
         "0",
         "15.5",
         "Q",
         "Third",
         "man",
         "True",
         null,
         "Queenstown",
         "no",
         "False"
        ],
        [
         "47",
         "1",
         "3",
         "female",
         null,
         "0",
         "0",
         "7.75",
         "Q",
         "Third",
         "woman",
         "False",
         null,
         "Queenstown",
         "yes",
         "True"
        ],
        [
         "48",
         "0",
         "3",
         "male",
         null,
         "2",
         "0",
         "21.6792",
         "C",
         "Third",
         "man",
         "True",
         null,
         "Cherbourg",
         "no",
         "False"
        ],
        [
         "49",
         "0",
         "3",
         "female",
         "18.0",
         "1",
         "0",
         "17.8",
         "S",
         "Third",
         "woman",
         "False",
         null,
         "Southampton",
         "no",
         "False"
        ]
       ],
       "shape": {
        "columns": 15,
        "rows": 891
       }
      },
      "text/html": [
       "<div>\n",
       "<style scoped>\n",
       "    .dataframe tbody tr th:only-of-type {\n",
       "        vertical-align: middle;\n",
       "    }\n",
       "\n",
       "    .dataframe tbody tr th {\n",
       "        vertical-align: top;\n",
       "    }\n",
       "\n",
       "    .dataframe thead th {\n",
       "        text-align: right;\n",
       "    }\n",
       "</style>\n",
       "<table border=\"1\" class=\"dataframe\">\n",
       "  <thead>\n",
       "    <tr style=\"text-align: right;\">\n",
       "      <th></th>\n",
       "      <th>survived</th>\n",
       "      <th>pclass</th>\n",
       "      <th>sex</th>\n",
       "      <th>age</th>\n",
       "      <th>sibsp</th>\n",
       "      <th>parch</th>\n",
       "      <th>fare</th>\n",
       "      <th>embarked</th>\n",
       "      <th>class</th>\n",
       "      <th>who</th>\n",
       "      <th>adult_male</th>\n",
       "      <th>deck</th>\n",
       "      <th>embark_town</th>\n",
       "      <th>alive</th>\n",
       "      <th>alone</th>\n",
       "    </tr>\n",
       "  </thead>\n",
       "  <tbody>\n",
       "    <tr>\n",
       "      <th>0</th>\n",
       "      <td>0</td>\n",
       "      <td>3</td>\n",
       "      <td>male</td>\n",
       "      <td>22.0</td>\n",
       "      <td>1</td>\n",
       "      <td>0</td>\n",
       "      <td>7.2500</td>\n",
       "      <td>S</td>\n",
       "      <td>Third</td>\n",
       "      <td>man</td>\n",
       "      <td>True</td>\n",
       "      <td>NaN</td>\n",
       "      <td>Southampton</td>\n",
       "      <td>no</td>\n",
       "      <td>False</td>\n",
       "    </tr>\n",
       "    <tr>\n",
       "      <th>1</th>\n",
       "      <td>1</td>\n",
       "      <td>1</td>\n",
       "      <td>female</td>\n",
       "      <td>38.0</td>\n",
       "      <td>1</td>\n",
       "      <td>0</td>\n",
       "      <td>71.2833</td>\n",
       "      <td>C</td>\n",
       "      <td>First</td>\n",
       "      <td>woman</td>\n",
       "      <td>False</td>\n",
       "      <td>C</td>\n",
       "      <td>Cherbourg</td>\n",
       "      <td>yes</td>\n",
       "      <td>False</td>\n",
       "    </tr>\n",
       "    <tr>\n",
       "      <th>2</th>\n",
       "      <td>1</td>\n",
       "      <td>3</td>\n",
       "      <td>female</td>\n",
       "      <td>26.0</td>\n",
       "      <td>0</td>\n",
       "      <td>0</td>\n",
       "      <td>7.9250</td>\n",
       "      <td>S</td>\n",
       "      <td>Third</td>\n",
       "      <td>woman</td>\n",
       "      <td>False</td>\n",
       "      <td>NaN</td>\n",
       "      <td>Southampton</td>\n",
       "      <td>yes</td>\n",
       "      <td>True</td>\n",
       "    </tr>\n",
       "    <tr>\n",
       "      <th>3</th>\n",
       "      <td>1</td>\n",
       "      <td>1</td>\n",
       "      <td>female</td>\n",
       "      <td>35.0</td>\n",
       "      <td>1</td>\n",
       "      <td>0</td>\n",
       "      <td>53.1000</td>\n",
       "      <td>S</td>\n",
       "      <td>First</td>\n",
       "      <td>woman</td>\n",
       "      <td>False</td>\n",
       "      <td>C</td>\n",
       "      <td>Southampton</td>\n",
       "      <td>yes</td>\n",
       "      <td>False</td>\n",
       "    </tr>\n",
       "    <tr>\n",
       "      <th>4</th>\n",
       "      <td>0</td>\n",
       "      <td>3</td>\n",
       "      <td>male</td>\n",
       "      <td>35.0</td>\n",
       "      <td>0</td>\n",
       "      <td>0</td>\n",
       "      <td>8.0500</td>\n",
       "      <td>S</td>\n",
       "      <td>Third</td>\n",
       "      <td>man</td>\n",
       "      <td>True</td>\n",
       "      <td>NaN</td>\n",
       "      <td>Southampton</td>\n",
       "      <td>no</td>\n",
       "      <td>True</td>\n",
       "    </tr>\n",
       "    <tr>\n",
       "      <th>...</th>\n",
       "      <td>...</td>\n",
       "      <td>...</td>\n",
       "      <td>...</td>\n",
       "      <td>...</td>\n",
       "      <td>...</td>\n",
       "      <td>...</td>\n",
       "      <td>...</td>\n",
       "      <td>...</td>\n",
       "      <td>...</td>\n",
       "      <td>...</td>\n",
       "      <td>...</td>\n",
       "      <td>...</td>\n",
       "      <td>...</td>\n",
       "      <td>...</td>\n",
       "      <td>...</td>\n",
       "    </tr>\n",
       "    <tr>\n",
       "      <th>886</th>\n",
       "      <td>0</td>\n",
       "      <td>2</td>\n",
       "      <td>male</td>\n",
       "      <td>27.0</td>\n",
       "      <td>0</td>\n",
       "      <td>0</td>\n",
       "      <td>13.0000</td>\n",
       "      <td>S</td>\n",
       "      <td>Second</td>\n",
       "      <td>man</td>\n",
       "      <td>True</td>\n",
       "      <td>NaN</td>\n",
       "      <td>Southampton</td>\n",
       "      <td>no</td>\n",
       "      <td>True</td>\n",
       "    </tr>\n",
       "    <tr>\n",
       "      <th>887</th>\n",
       "      <td>1</td>\n",
       "      <td>1</td>\n",
       "      <td>female</td>\n",
       "      <td>19.0</td>\n",
       "      <td>0</td>\n",
       "      <td>0</td>\n",
       "      <td>30.0000</td>\n",
       "      <td>S</td>\n",
       "      <td>First</td>\n",
       "      <td>woman</td>\n",
       "      <td>False</td>\n",
       "      <td>B</td>\n",
       "      <td>Southampton</td>\n",
       "      <td>yes</td>\n",
       "      <td>True</td>\n",
       "    </tr>\n",
       "    <tr>\n",
       "      <th>888</th>\n",
       "      <td>0</td>\n",
       "      <td>3</td>\n",
       "      <td>female</td>\n",
       "      <td>NaN</td>\n",
       "      <td>1</td>\n",
       "      <td>2</td>\n",
       "      <td>23.4500</td>\n",
       "      <td>S</td>\n",
       "      <td>Third</td>\n",
       "      <td>woman</td>\n",
       "      <td>False</td>\n",
       "      <td>NaN</td>\n",
       "      <td>Southampton</td>\n",
       "      <td>no</td>\n",
       "      <td>False</td>\n",
       "    </tr>\n",
       "    <tr>\n",
       "      <th>889</th>\n",
       "      <td>1</td>\n",
       "      <td>1</td>\n",
       "      <td>male</td>\n",
       "      <td>26.0</td>\n",
       "      <td>0</td>\n",
       "      <td>0</td>\n",
       "      <td>30.0000</td>\n",
       "      <td>C</td>\n",
       "      <td>First</td>\n",
       "      <td>man</td>\n",
       "      <td>True</td>\n",
       "      <td>C</td>\n",
       "      <td>Cherbourg</td>\n",
       "      <td>yes</td>\n",
       "      <td>True</td>\n",
       "    </tr>\n",
       "    <tr>\n",
       "      <th>890</th>\n",
       "      <td>0</td>\n",
       "      <td>3</td>\n",
       "      <td>male</td>\n",
       "      <td>32.0</td>\n",
       "      <td>0</td>\n",
       "      <td>0</td>\n",
       "      <td>7.7500</td>\n",
       "      <td>Q</td>\n",
       "      <td>Third</td>\n",
       "      <td>man</td>\n",
       "      <td>True</td>\n",
       "      <td>NaN</td>\n",
       "      <td>Queenstown</td>\n",
       "      <td>no</td>\n",
       "      <td>True</td>\n",
       "    </tr>\n",
       "  </tbody>\n",
       "</table>\n",
       "<p>891 rows × 15 columns</p>\n",
       "</div>"
      ],
      "text/plain": [
       "     survived  pclass     sex   age  sibsp  parch     fare embarked   class  \\\n",
       "0           0       3    male  22.0      1      0   7.2500        S   Third   \n",
       "1           1       1  female  38.0      1      0  71.2833        C   First   \n",
       "2           1       3  female  26.0      0      0   7.9250        S   Third   \n",
       "3           1       1  female  35.0      1      0  53.1000        S   First   \n",
       "4           0       3    male  35.0      0      0   8.0500        S   Third   \n",
       "..        ...     ...     ...   ...    ...    ...      ...      ...     ...   \n",
       "886         0       2    male  27.0      0      0  13.0000        S  Second   \n",
       "887         1       1  female  19.0      0      0  30.0000        S   First   \n",
       "888         0       3  female   NaN      1      2  23.4500        S   Third   \n",
       "889         1       1    male  26.0      0      0  30.0000        C   First   \n",
       "890         0       3    male  32.0      0      0   7.7500        Q   Third   \n",
       "\n",
       "       who  adult_male deck  embark_town alive  alone  \n",
       "0      man        True  NaN  Southampton    no  False  \n",
       "1    woman       False    C    Cherbourg   yes  False  \n",
       "2    woman       False  NaN  Southampton   yes   True  \n",
       "3    woman       False    C  Southampton   yes  False  \n",
       "4      man        True  NaN  Southampton    no   True  \n",
       "..     ...         ...  ...          ...   ...    ...  \n",
       "886    man        True  NaN  Southampton    no   True  \n",
       "887  woman       False    B  Southampton   yes   True  \n",
       "888  woman       False  NaN  Southampton    no  False  \n",
       "889    man        True    C    Cherbourg   yes   True  \n",
       "890    man        True  NaN   Queenstown    no   True  \n",
       "\n",
       "[891 rows x 15 columns]"
      ]
     },
     "execution_count": 24,
     "metadata": {},
     "output_type": "execute_result"
    }
   ],
   "source": [
    "import pandas as pd\n",
    "import seaborn as sns\n",
    "\n",
    "titanic = sns.load_dataset('titanic')\n",
    "titanic"
   ]
  },
  {
   "cell_type": "code",
   "execution_count": null,
   "id": "4dba3bef",
   "metadata": {},
   "outputs": [
    {
     "data": {
      "application/vnd.microsoft.datawrangler.viewer.v0+json": {
       "columns": [
        {
         "name": "index",
         "rawType": "int64",
         "type": "integer"
        },
        {
         "name": "age",
         "rawType": "float64",
         "type": "float"
        },
        {
         "name": "fare",
         "rawType": "float64",
         "type": "float"
        }
       ],
       "conversionMethod": "pd.DataFrame",
       "ref": "8378d74d-0be9-4a36-a0e2-22e800f94861",
       "rows": [
        [
         "0",
         "32.0",
         "17.25"
        ],
        [
         "1",
         "48.0",
         "81.2833"
        ],
        [
         "2",
         "36.0",
         "17.925"
        ],
        [
         "3",
         "45.0",
         "63.1"
        ],
        [
         "4",
         "45.0",
         "18.05"
        ],
        [
         "5",
         null,
         "18.4583"
        ],
        [
         "6",
         "64.0",
         "61.8625"
        ],
        [
         "7",
         "12.0",
         "31.075"
        ],
        [
         "8",
         "37.0",
         "21.1333"
        ],
        [
         "9",
         "24.0",
         "40.0708"
        ],
        [
         "10",
         "14.0",
         "26.7"
        ],
        [
         "11",
         "68.0",
         "36.55"
        ],
        [
         "12",
         "30.0",
         "18.05"
        ],
        [
         "13",
         "49.0",
         "41.275"
        ],
        [
         "14",
         "24.0",
         "17.8542"
        ],
        [
         "15",
         "65.0",
         "26.0"
        ],
        [
         "16",
         "12.0",
         "39.125"
        ],
        [
         "17",
         null,
         "23.0"
        ],
        [
         "18",
         "41.0",
         "28.0"
        ],
        [
         "19",
         null,
         "17.225"
        ],
        [
         "20",
         "45.0",
         "36.0"
        ],
        [
         "21",
         "44.0",
         "23.0"
        ],
        [
         "22",
         "25.0",
         "18.0292"
        ],
        [
         "23",
         "38.0",
         "45.5"
        ],
        [
         "24",
         "18.0",
         "31.075"
        ],
        [
         "25",
         "48.0",
         "41.3875"
        ],
        [
         "26",
         null,
         "17.225"
        ],
        [
         "27",
         "29.0",
         "273.0"
        ],
        [
         "28",
         null,
         "17.8792"
        ],
        [
         "29",
         null,
         "17.8958"
        ],
        [
         "30",
         "50.0",
         "37.7208"
        ],
        [
         "31",
         null,
         "156.5208"
        ],
        [
         "32",
         null,
         "17.75"
        ],
        [
         "33",
         "76.0",
         "20.5"
        ],
        [
         "34",
         "38.0",
         "92.1708"
        ],
        [
         "35",
         "52.0",
         "62.0"
        ],
        [
         "36",
         null,
         "17.2292"
        ],
        [
         "37",
         "31.0",
         "18.05"
        ],
        [
         "38",
         "28.0",
         "28.0"
        ],
        [
         "39",
         "24.0",
         "21.2417"
        ],
        [
         "40",
         "50.0",
         "19.475"
        ],
        [
         "41",
         "37.0",
         "31.0"
        ],
        [
         "42",
         null,
         "17.8958"
        ],
        [
         "43",
         "13.0",
         "51.5792"
        ],
        [
         "44",
         "29.0",
         "17.8792"
        ],
        [
         "45",
         null,
         "18.05"
        ],
        [
         "46",
         null,
         "25.5"
        ],
        [
         "47",
         null,
         "17.75"
        ],
        [
         "48",
         null,
         "31.6792"
        ],
        [
         "49",
         "28.0",
         "27.8"
        ]
       ],
       "shape": {
        "columns": 2,
        "rows": 52
       }
      },
      "text/html": [
       "<div>\n",
       "<style scoped>\n",
       "    .dataframe tbody tr th:only-of-type {\n",
       "        vertical-align: middle;\n",
       "    }\n",
       "\n",
       "    .dataframe tbody tr th {\n",
       "        vertical-align: top;\n",
       "    }\n",
       "\n",
       "    .dataframe thead th {\n",
       "        text-align: right;\n",
       "    }\n",
       "</style>\n",
       "<table border=\"1\" class=\"dataframe\">\n",
       "  <thead>\n",
       "    <tr style=\"text-align: right;\">\n",
       "      <th></th>\n",
       "      <th>age</th>\n",
       "      <th>fare</th>\n",
       "    </tr>\n",
       "  </thead>\n",
       "  <tbody>\n",
       "    <tr>\n",
       "      <th>0</th>\n",
       "      <td>32.0</td>\n",
       "      <td>17.2500</td>\n",
       "    </tr>\n",
       "    <tr>\n",
       "      <th>1</th>\n",
       "      <td>48.0</td>\n",
       "      <td>81.2833</td>\n",
       "    </tr>\n",
       "    <tr>\n",
       "      <th>2</th>\n",
       "      <td>36.0</td>\n",
       "      <td>17.9250</td>\n",
       "    </tr>\n",
       "    <tr>\n",
       "      <th>3</th>\n",
       "      <td>45.0</td>\n",
       "      <td>63.1000</td>\n",
       "    </tr>\n",
       "    <tr>\n",
       "      <th>4</th>\n",
       "      <td>45.0</td>\n",
       "      <td>18.0500</td>\n",
       "    </tr>\n",
       "    <tr>\n",
       "      <th>5</th>\n",
       "      <td>NaN</td>\n",
       "      <td>18.4583</td>\n",
       "    </tr>\n",
       "    <tr>\n",
       "      <th>6</th>\n",
       "      <td>64.0</td>\n",
       "      <td>61.8625</td>\n",
       "    </tr>\n",
       "    <tr>\n",
       "      <th>7</th>\n",
       "      <td>12.0</td>\n",
       "      <td>31.0750</td>\n",
       "    </tr>\n",
       "    <tr>\n",
       "      <th>8</th>\n",
       "      <td>37.0</td>\n",
       "      <td>21.1333</td>\n",
       "    </tr>\n",
       "    <tr>\n",
       "      <th>9</th>\n",
       "      <td>24.0</td>\n",
       "      <td>40.0708</td>\n",
       "    </tr>\n",
       "    <tr>\n",
       "      <th>10</th>\n",
       "      <td>14.0</td>\n",
       "      <td>26.7000</td>\n",
       "    </tr>\n",
       "    <tr>\n",
       "      <th>11</th>\n",
       "      <td>68.0</td>\n",
       "      <td>36.5500</td>\n",
       "    </tr>\n",
       "    <tr>\n",
       "      <th>12</th>\n",
       "      <td>30.0</td>\n",
       "      <td>18.0500</td>\n",
       "    </tr>\n",
       "    <tr>\n",
       "      <th>13</th>\n",
       "      <td>49.0</td>\n",
       "      <td>41.2750</td>\n",
       "    </tr>\n",
       "    <tr>\n",
       "      <th>14</th>\n",
       "      <td>24.0</td>\n",
       "      <td>17.8542</td>\n",
       "    </tr>\n",
       "    <tr>\n",
       "      <th>15</th>\n",
       "      <td>65.0</td>\n",
       "      <td>26.0000</td>\n",
       "    </tr>\n",
       "    <tr>\n",
       "      <th>16</th>\n",
       "      <td>12.0</td>\n",
       "      <td>39.1250</td>\n",
       "    </tr>\n",
       "    <tr>\n",
       "      <th>17</th>\n",
       "      <td>NaN</td>\n",
       "      <td>23.0000</td>\n",
       "    </tr>\n",
       "    <tr>\n",
       "      <th>18</th>\n",
       "      <td>41.0</td>\n",
       "      <td>28.0000</td>\n",
       "    </tr>\n",
       "    <tr>\n",
       "      <th>19</th>\n",
       "      <td>NaN</td>\n",
       "      <td>17.2250</td>\n",
       "    </tr>\n",
       "    <tr>\n",
       "      <th>20</th>\n",
       "      <td>45.0</td>\n",
       "      <td>36.0000</td>\n",
       "    </tr>\n",
       "    <tr>\n",
       "      <th>21</th>\n",
       "      <td>44.0</td>\n",
       "      <td>23.0000</td>\n",
       "    </tr>\n",
       "    <tr>\n",
       "      <th>22</th>\n",
       "      <td>25.0</td>\n",
       "      <td>18.0292</td>\n",
       "    </tr>\n",
       "    <tr>\n",
       "      <th>23</th>\n",
       "      <td>38.0</td>\n",
       "      <td>45.5000</td>\n",
       "    </tr>\n",
       "    <tr>\n",
       "      <th>24</th>\n",
       "      <td>18.0</td>\n",
       "      <td>31.0750</td>\n",
       "    </tr>\n",
       "    <tr>\n",
       "      <th>25</th>\n",
       "      <td>48.0</td>\n",
       "      <td>41.3875</td>\n",
       "    </tr>\n",
       "    <tr>\n",
       "      <th>26</th>\n",
       "      <td>NaN</td>\n",
       "      <td>17.2250</td>\n",
       "    </tr>\n",
       "    <tr>\n",
       "      <th>27</th>\n",
       "      <td>29.0</td>\n",
       "      <td>273.0000</td>\n",
       "    </tr>\n",
       "    <tr>\n",
       "      <th>28</th>\n",
       "      <td>NaN</td>\n",
       "      <td>17.8792</td>\n",
       "    </tr>\n",
       "    <tr>\n",
       "      <th>29</th>\n",
       "      <td>NaN</td>\n",
       "      <td>17.8958</td>\n",
       "    </tr>\n",
       "    <tr>\n",
       "      <th>30</th>\n",
       "      <td>50.0</td>\n",
       "      <td>37.7208</td>\n",
       "    </tr>\n",
       "    <tr>\n",
       "      <th>31</th>\n",
       "      <td>NaN</td>\n",
       "      <td>156.5208</td>\n",
       "    </tr>\n",
       "    <tr>\n",
       "      <th>32</th>\n",
       "      <td>NaN</td>\n",
       "      <td>17.7500</td>\n",
       "    </tr>\n",
       "    <tr>\n",
       "      <th>33</th>\n",
       "      <td>76.0</td>\n",
       "      <td>20.5000</td>\n",
       "    </tr>\n",
       "    <tr>\n",
       "      <th>34</th>\n",
       "      <td>38.0</td>\n",
       "      <td>92.1708</td>\n",
       "    </tr>\n",
       "    <tr>\n",
       "      <th>35</th>\n",
       "      <td>52.0</td>\n",
       "      <td>62.0000</td>\n",
       "    </tr>\n",
       "    <tr>\n",
       "      <th>36</th>\n",
       "      <td>NaN</td>\n",
       "      <td>17.2292</td>\n",
       "    </tr>\n",
       "    <tr>\n",
       "      <th>37</th>\n",
       "      <td>31.0</td>\n",
       "      <td>18.0500</td>\n",
       "    </tr>\n",
       "    <tr>\n",
       "      <th>38</th>\n",
       "      <td>28.0</td>\n",
       "      <td>28.0000</td>\n",
       "    </tr>\n",
       "    <tr>\n",
       "      <th>39</th>\n",
       "      <td>24.0</td>\n",
       "      <td>21.2417</td>\n",
       "    </tr>\n",
       "    <tr>\n",
       "      <th>40</th>\n",
       "      <td>50.0</td>\n",
       "      <td>19.4750</td>\n",
       "    </tr>\n",
       "    <tr>\n",
       "      <th>41</th>\n",
       "      <td>37.0</td>\n",
       "      <td>31.0000</td>\n",
       "    </tr>\n",
       "    <tr>\n",
       "      <th>42</th>\n",
       "      <td>NaN</td>\n",
       "      <td>17.8958</td>\n",
       "    </tr>\n",
       "    <tr>\n",
       "      <th>43</th>\n",
       "      <td>13.0</td>\n",
       "      <td>51.5792</td>\n",
       "    </tr>\n",
       "    <tr>\n",
       "      <th>44</th>\n",
       "      <td>29.0</td>\n",
       "      <td>17.8792</td>\n",
       "    </tr>\n",
       "    <tr>\n",
       "      <th>45</th>\n",
       "      <td>NaN</td>\n",
       "      <td>18.0500</td>\n",
       "    </tr>\n",
       "    <tr>\n",
       "      <th>46</th>\n",
       "      <td>NaN</td>\n",
       "      <td>25.5000</td>\n",
       "    </tr>\n",
       "    <tr>\n",
       "      <th>47</th>\n",
       "      <td>NaN</td>\n",
       "      <td>17.7500</td>\n",
       "    </tr>\n",
       "    <tr>\n",
       "      <th>48</th>\n",
       "      <td>NaN</td>\n",
       "      <td>31.6792</td>\n",
       "    </tr>\n",
       "    <tr>\n",
       "      <th>49</th>\n",
       "      <td>28.0</td>\n",
       "      <td>27.8000</td>\n",
       "    </tr>\n",
       "    <tr>\n",
       "      <th>50</th>\n",
       "      <td>17.0</td>\n",
       "      <td>49.6875</td>\n",
       "    </tr>\n",
       "    <tr>\n",
       "      <th>51</th>\n",
       "      <td>31.0</td>\n",
       "      <td>17.8000</td>\n",
       "    </tr>\n",
       "  </tbody>\n",
       "</table>\n",
       "</div>"
      ],
      "text/plain": [
       "     age      fare\n",
       "0   32.0   17.2500\n",
       "1   48.0   81.2833\n",
       "2   36.0   17.9250\n",
       "3   45.0   63.1000\n",
       "4   45.0   18.0500\n",
       "5    NaN   18.4583\n",
       "6   64.0   61.8625\n",
       "7   12.0   31.0750\n",
       "8   37.0   21.1333\n",
       "9   24.0   40.0708\n",
       "10  14.0   26.7000\n",
       "11  68.0   36.5500\n",
       "12  30.0   18.0500\n",
       "13  49.0   41.2750\n",
       "14  24.0   17.8542\n",
       "15  65.0   26.0000\n",
       "16  12.0   39.1250\n",
       "17   NaN   23.0000\n",
       "18  41.0   28.0000\n",
       "19   NaN   17.2250\n",
       "20  45.0   36.0000\n",
       "21  44.0   23.0000\n",
       "22  25.0   18.0292\n",
       "23  38.0   45.5000\n",
       "24  18.0   31.0750\n",
       "25  48.0   41.3875\n",
       "26   NaN   17.2250\n",
       "27  29.0  273.0000\n",
       "28   NaN   17.8792\n",
       "29   NaN   17.8958\n",
       "30  50.0   37.7208\n",
       "31   NaN  156.5208\n",
       "32   NaN   17.7500\n",
       "33  76.0   20.5000\n",
       "34  38.0   92.1708\n",
       "35  52.0   62.0000\n",
       "36   NaN   17.2292\n",
       "37  31.0   18.0500\n",
       "38  28.0   28.0000\n",
       "39  24.0   21.2417\n",
       "40  50.0   19.4750\n",
       "41  37.0   31.0000\n",
       "42   NaN   17.8958\n",
       "43  13.0   51.5792\n",
       "44  29.0   17.8792\n",
       "45   NaN   18.0500\n",
       "46   NaN   25.5000\n",
       "47   NaN   17.7500\n",
       "48   NaN   31.6792\n",
       "49  28.0   27.8000\n",
       "50  17.0   49.6875\n",
       "51  31.0   17.8000"
      ]
     },
     "execution_count": 4,
     "metadata": {},
     "output_type": "execute_result"
    }
   ],
   "source": [
    "titanic.loc[0:51, ['age', 'fare']]\n",
    "titanic.head()\n",
    "titanic.tail()\n",
    "t_age_fare = titanic.loc[0:51, ['age', 'fare']]\n",
    "\n",
    "addition = t_age_fare + 10\n",
    "\n",
    "addition"
   ]
  },
  {
   "cell_type": "code",
   "execution_count": null,
   "id": "0defa386",
   "metadata": {},
   "outputs": [
    {
     "name": "stdout",
     "output_type": "stream",
     "text": [
      "      열A   열B   열C\n",
      "행0  25.0  300  1.0\n",
      "행1  30.0  600  2.0\n",
      "행2  60.0  400  3.0\n",
      "행3  20.0  600  2.0\n",
      "행4  30.0  300  3.0\n"
     ]
    }
   ],
   "source": [
    "import pandas as pd\n",
    "import numpy as np\n",
    "\n",
    "df1 = pd.DataFrame({'열A':[15, 20, 50, np.nan, np.nan],\n",
    "                    '열B':[100, 500, 200, 500, 200], \n",
    "                    '열C':[1, 2, 3, 2, 3]},\n",
    "                   index=['행0', '행1', '행2', '행3', '행4'])\n",
    "\n",
    "df1\n",
    "\n",
    "df2 = pd.DataFrame({'열A':[10, 10, 10, 20, 30],\n",
    "                    '열B':[200, 100, 200, 100, 100]}, \n",
    "                   index=['행0', '행1', '행2', '행3', '행4'])\n",
    "\n",
    "df3 = df1.add(df2, fill_value= 0)\n",
    "print(df3)\n",
    "\n",
    "\n"
   ]
  },
  {
   "cell_type": "code",
   "execution_count": null,
   "id": "401dfbb1",
   "metadata": {},
   "outputs": [
    {
     "data": {
      "text/plain": [
       "False"
      ]
     },
     "execution_count": 23,
     "metadata": {},
     "output_type": "execute_result"
    }
   ],
   "source": [
    "df3.loc['행1', '열A'] != 30"
   ]
  },
  {
   "cell_type": "code",
   "execution_count": null,
   "id": "40d5e8cb",
   "metadata": {},
   "outputs": [
    {
     "name": "stdout",
     "output_type": "stream",
     "text": [
      "0    22.0\n",
      "1    38.0\n",
      "2    26.0\n",
      "3    35.0\n",
      "4    35.0\n",
      "5     NaN\n",
      "6    54.0\n",
      "7     2.0\n",
      "8    27.0\n",
      "9    14.0\n",
      "Name: age, dtype: float64 0    False\n",
      "1    False\n",
      "2    False\n",
      "3    False\n",
      "4    False\n",
      "5    False\n",
      "6    False\n",
      "7     True\n",
      "8    False\n",
      "9     True\n",
      "Name: age, dtype: bool\n"
     ]
    },
    {
     "data": {
      "application/vnd.microsoft.datawrangler.viewer.v0+json": {
       "columns": [
        {
         "name": "index",
         "rawType": "int64",
         "type": "integer"
        },
        {
         "name": "age",
         "rawType": "float64",
         "type": "float"
        },
        {
         "name": "fare",
         "rawType": "float64",
         "type": "float"
        }
       ],
       "conversionMethod": "pd.DataFrame",
       "ref": "488cb7e6-b203-4665-960f-58a6eac6eec0",
       "rows": [
        [
         "7",
         "2.0",
         "21.075"
        ],
        [
         "9",
         "14.0",
         "30.0708"
        ]
       ],
       "shape": {
        "columns": 2,
        "rows": 2
       }
      },
      "text/html": [
       "<div>\n",
       "<style scoped>\n",
       "    .dataframe tbody tr th:only-of-type {\n",
       "        vertical-align: middle;\n",
       "    }\n",
       "\n",
       "    .dataframe tbody tr th {\n",
       "        vertical-align: top;\n",
       "    }\n",
       "\n",
       "    .dataframe thead th {\n",
       "        text-align: right;\n",
       "    }\n",
       "</style>\n",
       "<table border=\"1\" class=\"dataframe\">\n",
       "  <thead>\n",
       "    <tr style=\"text-align: right;\">\n",
       "      <th></th>\n",
       "      <th>age</th>\n",
       "      <th>fare</th>\n",
       "    </tr>\n",
       "  </thead>\n",
       "  <tbody>\n",
       "    <tr>\n",
       "      <th>7</th>\n",
       "      <td>2.0</td>\n",
       "      <td>21.0750</td>\n",
       "    </tr>\n",
       "    <tr>\n",
       "      <th>9</th>\n",
       "      <td>14.0</td>\n",
       "      <td>30.0708</td>\n",
       "    </tr>\n",
       "  </tbody>\n",
       "</table>\n",
       "</div>"
      ],
      "text/plain": [
       "    age     fare\n",
       "7   2.0  21.0750\n",
       "9  14.0  30.0708"
      ]
     },
     "execution_count": 36,
     "metadata": {},
     "output_type": "execute_result"
    }
   ],
   "source": [
    "titanic.head()\n",
    "df = titanic.loc[0:9, ['age', 'fare']]\n",
    "print(df['age'],df['age'] < 20)\n",
    "df[df['age'] < 20]\n",
    "df[df.age < 20]"
   ]
  },
  {
   "cell_type": "code",
   "execution_count": null,
   "id": "e5522b12",
   "metadata": {},
   "outputs": [
    {
     "data": {
      "application/vnd.microsoft.datawrangler.viewer.v0+json": {
       "columns": [
        {
         "name": "index",
         "rawType": "int64",
         "type": "integer"
        },
        {
         "name": "age",
         "rawType": "float64",
         "type": "float"
        },
        {
         "name": "fare",
         "rawType": "float64",
         "type": "float"
        }
       ],
       "conversionMethod": "pd.DataFrame",
       "ref": "fa2cafbd-8f19-4d3f-ba64-3174fba7d4ac",
       "rows": [
        [
         "0",
         "22.0",
         "7.25"
        ],
        [
         "1",
         "38.0",
         "71.2833"
        ],
        [
         "2",
         "26.0",
         "7.925"
        ],
        [
         "3",
         "35.0",
         "53.1"
        ],
        [
         "4",
         "35.0",
         "8.05"
        ],
        [
         "5",
         null,
         "8.4583"
        ],
        [
         "6",
         "54.0",
         "51.8625"
        ],
        [
         "8",
         "27.0",
         "11.1333"
        ]
       ],
       "shape": {
        "columns": 2,
        "rows": 8
       }
      },
      "text/html": [
       "<div>\n",
       "<style scoped>\n",
       "    .dataframe tbody tr th:only-of-type {\n",
       "        vertical-align: middle;\n",
       "    }\n",
       "\n",
       "    .dataframe tbody tr th {\n",
       "        vertical-align: top;\n",
       "    }\n",
       "\n",
       "    .dataframe thead th {\n",
       "        text-align: right;\n",
       "    }\n",
       "</style>\n",
       "<table border=\"1\" class=\"dataframe\">\n",
       "  <thead>\n",
       "    <tr style=\"text-align: right;\">\n",
       "      <th></th>\n",
       "      <th>age</th>\n",
       "      <th>fare</th>\n",
       "    </tr>\n",
       "  </thead>\n",
       "  <tbody>\n",
       "    <tr>\n",
       "      <th>0</th>\n",
       "      <td>22.0</td>\n",
       "      <td>7.2500</td>\n",
       "    </tr>\n",
       "    <tr>\n",
       "      <th>1</th>\n",
       "      <td>38.0</td>\n",
       "      <td>71.2833</td>\n",
       "    </tr>\n",
       "    <tr>\n",
       "      <th>2</th>\n",
       "      <td>26.0</td>\n",
       "      <td>7.9250</td>\n",
       "    </tr>\n",
       "    <tr>\n",
       "      <th>3</th>\n",
       "      <td>35.0</td>\n",
       "      <td>53.1000</td>\n",
       "    </tr>\n",
       "    <tr>\n",
       "      <th>4</th>\n",
       "      <td>35.0</td>\n",
       "      <td>8.0500</td>\n",
       "    </tr>\n",
       "    <tr>\n",
       "      <th>5</th>\n",
       "      <td>NaN</td>\n",
       "      <td>8.4583</td>\n",
       "    </tr>\n",
       "    <tr>\n",
       "      <th>6</th>\n",
       "      <td>54.0</td>\n",
       "      <td>51.8625</td>\n",
       "    </tr>\n",
       "    <tr>\n",
       "      <th>8</th>\n",
       "      <td>27.0</td>\n",
       "      <td>11.1333</td>\n",
       "    </tr>\n",
       "  </tbody>\n",
       "</table>\n",
       "</div>"
      ],
      "text/plain": [
       "    age     fare\n",
       "0  22.0   7.2500\n",
       "1  38.0  71.2833\n",
       "2  26.0   7.9250\n",
       "3  35.0  53.1000\n",
       "4  35.0   8.0500\n",
       "5   NaN   8.4583\n",
       "6  54.0  51.8625\n",
       "8  27.0  11.1333"
      ]
     },
     "execution_count": 37,
     "metadata": {},
     "output_type": "execute_result"
    }
   ],
   "source": [
    "df[~(df.age < 20)] #~()는 반대로 출력\n"
   ]
  },
  {
   "cell_type": "code",
   "execution_count": null,
   "id": "aadbfecc",
   "metadata": {},
   "outputs": [
    {
     "data": {
      "application/vnd.microsoft.datawrangler.viewer.v0+json": {
       "columns": [
        {
         "name": "index",
         "rawType": "int64",
         "type": "integer"
        },
        {
         "name": "age",
         "rawType": "float64",
         "type": "float"
        },
        {
         "name": "fare",
         "rawType": "float64",
         "type": "float"
        }
       ],
       "conversionMethod": "pd.DataFrame",
       "ref": "b2b54e26-ebd3-4bb1-a13a-4c9bd6da9c9d",
       "rows": [
        [
         "0",
         "22.0",
         "7.25"
        ],
        [
         "2",
         "26.0",
         "7.925"
        ],
        [
         "8",
         "27.0",
         "11.1333"
        ]
       ],
       "shape": {
        "columns": 2,
        "rows": 3
       }
      },
      "text/html": [
       "<div>\n",
       "<style scoped>\n",
       "    .dataframe tbody tr th:only-of-type {\n",
       "        vertical-align: middle;\n",
       "    }\n",
       "\n",
       "    .dataframe tbody tr th {\n",
       "        vertical-align: top;\n",
       "    }\n",
       "\n",
       "    .dataframe thead th {\n",
       "        text-align: right;\n",
       "    }\n",
       "</style>\n",
       "<table border=\"1\" class=\"dataframe\">\n",
       "  <thead>\n",
       "    <tr style=\"text-align: right;\">\n",
       "      <th></th>\n",
       "      <th>age</th>\n",
       "      <th>fare</th>\n",
       "    </tr>\n",
       "  </thead>\n",
       "  <tbody>\n",
       "    <tr>\n",
       "      <th>0</th>\n",
       "      <td>22.0</td>\n",
       "      <td>7.2500</td>\n",
       "    </tr>\n",
       "    <tr>\n",
       "      <th>2</th>\n",
       "      <td>26.0</td>\n",
       "      <td>7.9250</td>\n",
       "    </tr>\n",
       "    <tr>\n",
       "      <th>8</th>\n",
       "      <td>27.0</td>\n",
       "      <td>11.1333</td>\n",
       "    </tr>\n",
       "  </tbody>\n",
       "</table>\n",
       "</div>"
      ],
      "text/plain": [
       "    age     fare\n",
       "0  22.0   7.2500\n",
       "2  26.0   7.9250\n",
       "8  27.0  11.1333"
      ]
     },
     "execution_count": 43,
     "metadata": {},
     "output_type": "execute_result"
    }
   ],
   "source": [
    "df[(df.age >= 20) & (df.age <= 29) ]\n"
   ]
  },
  {
   "cell_type": "code",
   "execution_count": null,
   "id": "0a87d5bd",
   "metadata": {},
   "outputs": [
    {
     "data": {
      "application/vnd.microsoft.datawrangler.viewer.v0+json": {
       "columns": [
        {
         "name": "index",
         "rawType": "int64",
         "type": "integer"
        },
        {
         "name": "age",
         "rawType": "float64",
         "type": "float"
        },
        {
         "name": "sex",
         "rawType": "object",
         "type": "string"
        }
       ],
       "conversionMethod": "pd.DataFrame",
       "ref": "f7f32830-300e-43c4-87fa-1d3321341695",
       "rows": [
        [
         "0",
         "22.0",
         "male"
        ],
        [
         "1",
         "38.0",
         "female"
        ],
        [
         "2",
         "26.0",
         "female"
        ],
        [
         "3",
         "35.0",
         "female"
        ],
        [
         "4",
         "35.0",
         "male"
        ],
        [
         "5",
         null,
         "male"
        ],
        [
         "6",
         "54.0",
         "male"
        ],
        [
         "7",
         "2.0",
         "male"
        ],
        [
         "8",
         "27.0",
         "female"
        ],
        [
         "9",
         "14.0",
         "female"
        ]
       ],
       "shape": {
        "columns": 2,
        "rows": 10
       }
      },
      "text/html": [
       "<div>\n",
       "<style scoped>\n",
       "    .dataframe tbody tr th:only-of-type {\n",
       "        vertical-align: middle;\n",
       "    }\n",
       "\n",
       "    .dataframe tbody tr th {\n",
       "        vertical-align: top;\n",
       "    }\n",
       "\n",
       "    .dataframe thead th {\n",
       "        text-align: right;\n",
       "    }\n",
       "</style>\n",
       "<table border=\"1\" class=\"dataframe\">\n",
       "  <thead>\n",
       "    <tr style=\"text-align: right;\">\n",
       "      <th></th>\n",
       "      <th>age</th>\n",
       "      <th>sex</th>\n",
       "    </tr>\n",
       "  </thead>\n",
       "  <tbody>\n",
       "    <tr>\n",
       "      <th>0</th>\n",
       "      <td>22.0</td>\n",
       "      <td>male</td>\n",
       "    </tr>\n",
       "    <tr>\n",
       "      <th>1</th>\n",
       "      <td>38.0</td>\n",
       "      <td>female</td>\n",
       "    </tr>\n",
       "    <tr>\n",
       "      <th>2</th>\n",
       "      <td>26.0</td>\n",
       "      <td>female</td>\n",
       "    </tr>\n",
       "    <tr>\n",
       "      <th>3</th>\n",
       "      <td>35.0</td>\n",
       "      <td>female</td>\n",
       "    </tr>\n",
       "    <tr>\n",
       "      <th>4</th>\n",
       "      <td>35.0</td>\n",
       "      <td>male</td>\n",
       "    </tr>\n",
       "    <tr>\n",
       "      <th>5</th>\n",
       "      <td>NaN</td>\n",
       "      <td>male</td>\n",
       "    </tr>\n",
       "    <tr>\n",
       "      <th>6</th>\n",
       "      <td>54.0</td>\n",
       "      <td>male</td>\n",
       "    </tr>\n",
       "    <tr>\n",
       "      <th>7</th>\n",
       "      <td>2.0</td>\n",
       "      <td>male</td>\n",
       "    </tr>\n",
       "    <tr>\n",
       "      <th>8</th>\n",
       "      <td>27.0</td>\n",
       "      <td>female</td>\n",
       "    </tr>\n",
       "    <tr>\n",
       "      <th>9</th>\n",
       "      <td>14.0</td>\n",
       "      <td>female</td>\n",
       "    </tr>\n",
       "  </tbody>\n",
       "</table>\n",
       "</div>"
      ],
      "text/plain": [
       "    age     sex\n",
       "0  22.0    male\n",
       "1  38.0  female\n",
       "2  26.0  female\n",
       "3  35.0  female\n",
       "4  35.0    male\n",
       "5   NaN    male\n",
       "6  54.0    male\n",
       "7   2.0    male\n",
       "8  27.0  female\n",
       "9  14.0  female"
      ]
     },
     "execution_count": 44,
     "metadata": {},
     "output_type": "execute_result"
    }
   ],
   "source": [
    "df_age_sex = titanic.loc[0:9, ['age', 'sex']]\n",
    "df_age_sex"
   ]
  },
  {
   "cell_type": "code",
   "execution_count": null,
   "id": "7a6c0ddb",
   "metadata": {},
   "outputs": [
    {
     "data": {
      "application/vnd.microsoft.datawrangler.viewer.v0+json": {
       "columns": [
        {
         "name": "index",
         "rawType": "int64",
         "type": "integer"
        },
        {
         "name": "age",
         "rawType": "float64",
         "type": "float"
        },
        {
         "name": "sex",
         "rawType": "object",
         "type": "string"
        }
       ],
       "conversionMethod": "pd.DataFrame",
       "ref": "b7afcb5f-ea92-4ad3-af87-484959a2e36f",
       "rows": [
        [
         "9",
         "14.0",
         "female"
        ]
       ],
       "shape": {
        "columns": 2,
        "rows": 1
       }
      },
      "text/html": [
       "<div>\n",
       "<style scoped>\n",
       "    .dataframe tbody tr th:only-of-type {\n",
       "        vertical-align: middle;\n",
       "    }\n",
       "\n",
       "    .dataframe tbody tr th {\n",
       "        vertical-align: top;\n",
       "    }\n",
       "\n",
       "    .dataframe thead th {\n",
       "        text-align: right;\n",
       "    }\n",
       "</style>\n",
       "<table border=\"1\" class=\"dataframe\">\n",
       "  <thead>\n",
       "    <tr style=\"text-align: right;\">\n",
       "      <th></th>\n",
       "      <th>age</th>\n",
       "      <th>sex</th>\n",
       "    </tr>\n",
       "  </thead>\n",
       "  <tbody>\n",
       "    <tr>\n",
       "      <th>9</th>\n",
       "      <td>14.0</td>\n",
       "      <td>female</td>\n",
       "    </tr>\n",
       "  </tbody>\n",
       "</table>\n",
       "</div>"
      ],
      "text/plain": [
       "    age     sex\n",
       "9  14.0  female"
      ]
     },
     "execution_count": 47,
     "metadata": {},
     "output_type": "execute_result"
    }
   ],
   "source": [
    "df_age_sex[(df_age_sex.age < 20) & (df_age_sex.sex == 'female')]"
   ]
  },
  {
   "cell_type": "code",
   "execution_count": null,
   "id": "86008657",
   "metadata": {},
   "outputs": [
    {
     "data": {
      "application/vnd.microsoft.datawrangler.viewer.v0+json": {
       "columns": [
        {
         "name": "index",
         "rawType": "int64",
         "type": "integer"
        },
        {
         "name": "age",
         "rawType": "float64",
         "type": "float"
        },
        {
         "name": "sex",
         "rawType": "object",
         "type": "string"
        }
       ],
       "conversionMethod": "pd.DataFrame",
       "ref": "515535b5-d32f-4fdc-8144-3c48add6ec22",
       "rows": [
        [
         "1",
         "38.0",
         "female"
        ],
        [
         "2",
         "26.0",
         "female"
        ],
        [
         "3",
         "35.0",
         "female"
        ],
        [
         "7",
         "2.0",
         "male"
        ],
        [
         "8",
         "27.0",
         "female"
        ],
        [
         "9",
         "14.0",
         "female"
        ]
       ],
       "shape": {
        "columns": 2,
        "rows": 6
       }
      },
      "text/html": [
       "<div>\n",
       "<style scoped>\n",
       "    .dataframe tbody tr th:only-of-type {\n",
       "        vertical-align: middle;\n",
       "    }\n",
       "\n",
       "    .dataframe tbody tr th {\n",
       "        vertical-align: top;\n",
       "    }\n",
       "\n",
       "    .dataframe thead th {\n",
       "        text-align: right;\n",
       "    }\n",
       "</style>\n",
       "<table border=\"1\" class=\"dataframe\">\n",
       "  <thead>\n",
       "    <tr style=\"text-align: right;\">\n",
       "      <th></th>\n",
       "      <th>age</th>\n",
       "      <th>sex</th>\n",
       "    </tr>\n",
       "  </thead>\n",
       "  <tbody>\n",
       "    <tr>\n",
       "      <th>1</th>\n",
       "      <td>38.0</td>\n",
       "      <td>female</td>\n",
       "    </tr>\n",
       "    <tr>\n",
       "      <th>2</th>\n",
       "      <td>26.0</td>\n",
       "      <td>female</td>\n",
       "    </tr>\n",
       "    <tr>\n",
       "      <th>3</th>\n",
       "      <td>35.0</td>\n",
       "      <td>female</td>\n",
       "    </tr>\n",
       "    <tr>\n",
       "      <th>7</th>\n",
       "      <td>2.0</td>\n",
       "      <td>male</td>\n",
       "    </tr>\n",
       "    <tr>\n",
       "      <th>8</th>\n",
       "      <td>27.0</td>\n",
       "      <td>female</td>\n",
       "    </tr>\n",
       "    <tr>\n",
       "      <th>9</th>\n",
       "      <td>14.0</td>\n",
       "      <td>female</td>\n",
       "    </tr>\n",
       "  </tbody>\n",
       "</table>\n",
       "</div>"
      ],
      "text/plain": [
       "    age     sex\n",
       "1  38.0  female\n",
       "2  26.0  female\n",
       "3  35.0  female\n",
       "7   2.0    male\n",
       "8  27.0  female\n",
       "9  14.0  female"
      ]
     },
     "execution_count": 48,
     "metadata": {},
     "output_type": "execute_result"
    }
   ],
   "source": [
    "df_age_sex[(df_age_sex.age < 20) | (df_age_sex.sex == 'female')]\n"
   ]
  },
  {
   "cell_type": "code",
   "execution_count": null,
   "id": "ca36fb81",
   "metadata": {},
   "outputs": [
    {
     "data": {
      "application/vnd.microsoft.datawrangler.viewer.v0+json": {
       "columns": [
        {
         "name": "index",
         "rawType": "int64",
         "type": "integer"
        },
        {
         "name": "age",
         "rawType": "float64",
         "type": "float"
        },
        {
         "name": "sex",
         "rawType": "object",
         "type": "string"
        },
        {
         "name": "alone",
         "rawType": "bool",
         "type": "boolean"
        }
       ],
       "conversionMethod": "pd.DataFrame",
       "ref": "e4300dcb-58a9-4627-a82e-ce956b25c6dc",
       "rows": [
        [
         "0",
         "22.0",
         "male",
         "False"
        ],
        [
         "1",
         "38.0",
         "female",
         "False"
        ],
        [
         "2",
         "26.0",
         "female",
         "True"
        ],
        [
         "3",
         "35.0",
         "female",
         "False"
        ],
        [
         "4",
         "35.0",
         "male",
         "True"
        ],
        [
         "6",
         "54.0",
         "male",
         "True"
        ],
        [
         "7",
         "2.0",
         "male",
         "False"
        ],
        [
         "8",
         "27.0",
         "female",
         "False"
        ],
        [
         "9",
         "14.0",
         "female",
         "False"
        ],
        [
         "10",
         "4.0",
         "female",
         "False"
        ],
        [
         "11",
         "58.0",
         "female",
         "True"
        ],
        [
         "12",
         "20.0",
         "male",
         "True"
        ],
        [
         "13",
         "39.0",
         "male",
         "False"
        ],
        [
         "14",
         "14.0",
         "female",
         "True"
        ],
        [
         "15",
         "55.0",
         "female",
         "True"
        ],
        [
         "16",
         "2.0",
         "male",
         "False"
        ],
        [
         "18",
         "31.0",
         "female",
         "False"
        ],
        [
         "20",
         "35.0",
         "male",
         "True"
        ],
        [
         "21",
         "34.0",
         "male",
         "True"
        ],
        [
         "22",
         "15.0",
         "female",
         "True"
        ],
        [
         "23",
         "28.0",
         "male",
         "True"
        ],
        [
         "24",
         "8.0",
         "female",
         "False"
        ],
        [
         "25",
         "38.0",
         "female",
         "False"
        ],
        [
         "27",
         "19.0",
         "male",
         "False"
        ],
        [
         "30",
         "40.0",
         "male",
         "True"
        ],
        [
         "34",
         "28.0",
         "male",
         "False"
        ],
        [
         "35",
         "42.0",
         "male",
         "False"
        ],
        [
         "37",
         "21.0",
         "male",
         "True"
        ],
        [
         "38",
         "18.0",
         "female",
         "False"
        ],
        [
         "39",
         "14.0",
         "female",
         "False"
        ],
        [
         "40",
         "40.0",
         "female",
         "False"
        ],
        [
         "41",
         "27.0",
         "female",
         "False"
        ],
        [
         "43",
         "3.0",
         "female",
         "False"
        ],
        [
         "44",
         "19.0",
         "female",
         "True"
        ],
        [
         "49",
         "18.0",
         "female",
         "False"
        ],
        [
         "50",
         "7.0",
         "male",
         "False"
        ],
        [
         "51",
         "21.0",
         "male",
         "True"
        ],
        [
         "52",
         "49.0",
         "female",
         "False"
        ],
        [
         "53",
         "29.0",
         "female",
         "False"
        ],
        [
         "56",
         "21.0",
         "female",
         "True"
        ],
        [
         "57",
         "28.5",
         "male",
         "True"
        ],
        [
         "58",
         "5.0",
         "female",
         "False"
        ],
        [
         "59",
         "11.0",
         "male",
         "False"
        ],
        [
         "60",
         "22.0",
         "male",
         "True"
        ],
        [
         "61",
         "38.0",
         "female",
         "True"
        ],
        [
         "62",
         "45.0",
         "male",
         "False"
        ],
        [
         "63",
         "4.0",
         "male",
         "False"
        ],
        [
         "66",
         "29.0",
         "female",
         "True"
        ],
        [
         "67",
         "19.0",
         "male",
         "True"
        ],
        [
         "68",
         "17.0",
         "female",
         "False"
        ]
       ],
       "shape": {
        "columns": 3,
        "rows": 688
       }
      },
      "text/html": [
       "<div>\n",
       "<style scoped>\n",
       "    .dataframe tbody tr th:only-of-type {\n",
       "        vertical-align: middle;\n",
       "    }\n",
       "\n",
       "    .dataframe tbody tr th {\n",
       "        vertical-align: top;\n",
       "    }\n",
       "\n",
       "    .dataframe thead th {\n",
       "        text-align: right;\n",
       "    }\n",
       "</style>\n",
       "<table border=\"1\" class=\"dataframe\">\n",
       "  <thead>\n",
       "    <tr style=\"text-align: right;\">\n",
       "      <th></th>\n",
       "      <th>age</th>\n",
       "      <th>sex</th>\n",
       "      <th>alone</th>\n",
       "    </tr>\n",
       "  </thead>\n",
       "  <tbody>\n",
       "    <tr>\n",
       "      <th>0</th>\n",
       "      <td>22.0</td>\n",
       "      <td>male</td>\n",
       "      <td>False</td>\n",
       "    </tr>\n",
       "    <tr>\n",
       "      <th>1</th>\n",
       "      <td>38.0</td>\n",
       "      <td>female</td>\n",
       "      <td>False</td>\n",
       "    </tr>\n",
       "    <tr>\n",
       "      <th>2</th>\n",
       "      <td>26.0</td>\n",
       "      <td>female</td>\n",
       "      <td>True</td>\n",
       "    </tr>\n",
       "    <tr>\n",
       "      <th>3</th>\n",
       "      <td>35.0</td>\n",
       "      <td>female</td>\n",
       "      <td>False</td>\n",
       "    </tr>\n",
       "    <tr>\n",
       "      <th>4</th>\n",
       "      <td>35.0</td>\n",
       "      <td>male</td>\n",
       "      <td>True</td>\n",
       "    </tr>\n",
       "    <tr>\n",
       "      <th>...</th>\n",
       "      <td>...</td>\n",
       "      <td>...</td>\n",
       "      <td>...</td>\n",
       "    </tr>\n",
       "    <tr>\n",
       "      <th>885</th>\n",
       "      <td>39.0</td>\n",
       "      <td>female</td>\n",
       "      <td>False</td>\n",
       "    </tr>\n",
       "    <tr>\n",
       "      <th>886</th>\n",
       "      <td>27.0</td>\n",
       "      <td>male</td>\n",
       "      <td>True</td>\n",
       "    </tr>\n",
       "    <tr>\n",
       "      <th>887</th>\n",
       "      <td>19.0</td>\n",
       "      <td>female</td>\n",
       "      <td>True</td>\n",
       "    </tr>\n",
       "    <tr>\n",
       "      <th>889</th>\n",
       "      <td>26.0</td>\n",
       "      <td>male</td>\n",
       "      <td>True</td>\n",
       "    </tr>\n",
       "    <tr>\n",
       "      <th>890</th>\n",
       "      <td>32.0</td>\n",
       "      <td>male</td>\n",
       "      <td>True</td>\n",
       "    </tr>\n",
       "  </tbody>\n",
       "</table>\n",
       "<p>688 rows × 3 columns</p>\n",
       "</div>"
      ],
      "text/plain": [
       "      age     sex  alone\n",
       "0    22.0    male  False\n",
       "1    38.0  female  False\n",
       "2    26.0  female   True\n",
       "3    35.0  female  False\n",
       "4    35.0    male   True\n",
       "..    ...     ...    ...\n",
       "885  39.0  female  False\n",
       "886  27.0    male   True\n",
       "887  19.0  female   True\n",
       "889  26.0    male   True\n",
       "890  32.0    male   True\n",
       "\n",
       "[688 rows x 3 columns]"
      ]
     },
     "execution_count": 52,
     "metadata": {},
     "output_type": "execute_result"
    }
   ],
   "source": [
    "mask = (titanic.age < 10) | (titanic.age < 60)\n",
    "titanic.loc[mask, ['age', 'sex', 'alone']]"
   ]
  },
  {
   "cell_type": "markdown",
   "id": "a8e5c38f",
   "metadata": {},
   "source": [
    "문제6) 데이터프레임 연산 문제\n",
    "\n",
    "데이터프레임과 숫자와 연산하는 문제입니다.\n",
    "\n",
    "​\n",
    "물가 상승률 반영하기\n",
    "\n",
    "아래와 같은 상품 가격표 데이터프레임이 있습니다.\n",
    "\n",
    "요구사항\n",
    "\n",
    "2024년 가격에 앞으로 5% 인상된 가격을 적용해서\n",
    "\n",
    "새로운 예상 가격 컬럼을 추가하세요.\n",
    "\n",
    "공식: 예상 가격 = 2024년 가격 * 1.05"
   ]
  },
  {
   "cell_type": "code",
   "execution_count": null,
   "id": "78bb6b6f",
   "metadata": {},
   "outputs": [
    {
     "data": {
      "application/vnd.microsoft.datawrangler.viewer.v0+json": {
       "columns": [
        {
         "name": "index",
         "rawType": "int64",
         "type": "integer"
        },
        {
         "name": "상품명",
         "rawType": "object",
         "type": "string"
        },
        {
         "name": "2023년 가격(원)",
         "rawType": "int64",
         "type": "integer"
        },
        {
         "name": "2024년 가격(원)",
         "rawType": "int64",
         "type": "integer"
        }
       ],
       "conversionMethod": "pd.DataFrame",
       "ref": "774f4be8-ee5c-430e-8ce6-1d5aa6afbcb0",
       "rows": [
        [
         "0",
         "키보드",
         "30000",
         "33000"
        ],
        [
         "1",
         "마우스",
         "15000",
         "16500"
        ],
        [
         "2",
         "모니터",
         "200000",
         "220000"
        ]
       ],
       "shape": {
        "columns": 3,
        "rows": 3
       }
      },
      "text/html": [
       "<div>\n",
       "<style scoped>\n",
       "    .dataframe tbody tr th:only-of-type {\n",
       "        vertical-align: middle;\n",
       "    }\n",
       "\n",
       "    .dataframe tbody tr th {\n",
       "        vertical-align: top;\n",
       "    }\n",
       "\n",
       "    .dataframe thead th {\n",
       "        text-align: right;\n",
       "    }\n",
       "</style>\n",
       "<table border=\"1\" class=\"dataframe\">\n",
       "  <thead>\n",
       "    <tr style=\"text-align: right;\">\n",
       "      <th></th>\n",
       "      <th>상품명</th>\n",
       "      <th>2023년 가격(원)</th>\n",
       "      <th>2024년 가격(원)</th>\n",
       "    </tr>\n",
       "  </thead>\n",
       "  <tbody>\n",
       "    <tr>\n",
       "      <th>0</th>\n",
       "      <td>키보드</td>\n",
       "      <td>30000</td>\n",
       "      <td>33000</td>\n",
       "    </tr>\n",
       "    <tr>\n",
       "      <th>1</th>\n",
       "      <td>마우스</td>\n",
       "      <td>15000</td>\n",
       "      <td>16500</td>\n",
       "    </tr>\n",
       "    <tr>\n",
       "      <th>2</th>\n",
       "      <td>모니터</td>\n",
       "      <td>200000</td>\n",
       "      <td>220000</td>\n",
       "    </tr>\n",
       "  </tbody>\n",
       "</table>\n",
       "</div>"
      ],
      "text/plain": [
       "   상품명  2023년 가격(원)  2024년 가격(원)\n",
       "0  키보드        30000        33000\n",
       "1  마우스        15000        16500\n",
       "2  모니터       200000       220000"
      ]
     },
     "execution_count": 58,
     "metadata": {},
     "output_type": "execute_result"
    }
   ],
   "source": [
    "import pandas as pd\n",
    "\n",
    "my_item = pd.DataFrame({'상품명':['키보드','마우스','모니터'],\n",
    "                    '2023년 가격(원)':[30000, 15000, 200000],\n",
    "                    '2024년 가격(원)':[33000, 16500, 220000]},)\n",
    "\n",
    "my_item"
   ]
  },
  {
   "cell_type": "code",
   "execution_count": null,
   "id": "9408dde1",
   "metadata": {},
   "outputs": [
    {
     "data": {
      "application/vnd.microsoft.datawrangler.viewer.v0+json": {
       "columns": [
        {
         "name": "index",
         "rawType": "object",
         "type": "string"
        },
        {
         "name": "2023년 가격(원)",
         "rawType": "int64",
         "type": "integer"
        },
        {
         "name": "2024년 가격(원)",
         "rawType": "int64",
         "type": "integer"
        }
       ],
       "conversionMethod": "pd.DataFrame",
       "ref": "b20c9bd4-5003-4cd3-a808-23fe7783905d",
       "rows": [
        [
         "키보드",
         "30000",
         "33000"
        ],
        [
         "마우스",
         "15000",
         "16500"
        ],
        [
         "모니터",
         "200000",
         "220000"
        ]
       ],
       "shape": {
        "columns": 2,
        "rows": 3
       }
      },
      "text/html": [
       "<div>\n",
       "<style scoped>\n",
       "    .dataframe tbody tr th:only-of-type {\n",
       "        vertical-align: middle;\n",
       "    }\n",
       "\n",
       "    .dataframe tbody tr th {\n",
       "        vertical-align: top;\n",
       "    }\n",
       "\n",
       "    .dataframe thead th {\n",
       "        text-align: right;\n",
       "    }\n",
       "</style>\n",
       "<table border=\"1\" class=\"dataframe\">\n",
       "  <thead>\n",
       "    <tr style=\"text-align: right;\">\n",
       "      <th></th>\n",
       "      <th>2023년 가격(원)</th>\n",
       "      <th>2024년 가격(원)</th>\n",
       "    </tr>\n",
       "  </thead>\n",
       "  <tbody>\n",
       "    <tr>\n",
       "      <th>키보드</th>\n",
       "      <td>30000</td>\n",
       "      <td>33000</td>\n",
       "    </tr>\n",
       "    <tr>\n",
       "      <th>마우스</th>\n",
       "      <td>15000</td>\n",
       "      <td>16500</td>\n",
       "    </tr>\n",
       "    <tr>\n",
       "      <th>모니터</th>\n",
       "      <td>200000</td>\n",
       "      <td>220000</td>\n",
       "    </tr>\n",
       "  </tbody>\n",
       "</table>\n",
       "</div>"
      ],
      "text/plain": [
       "     2023년 가격(원)  2024년 가격(원)\n",
       "키보드        30000        33000\n",
       "마우스        15000        16500\n",
       "모니터       200000       220000"
      ]
     },
     "execution_count": 101,
     "metadata": {},
     "output_type": "execute_result"
    }
   ],
   "source": [
    "import pandas as pd\n",
    "\n",
    "my_item = pd.DataFrame({'2023년 가격(원)':[30000, 15000, 200000],\n",
    "                        '2024년 가격(원)':[33000, 16500, 220000]},\n",
    "                        index=[ '키보드', '마우스', '모니터'])\n",
    "\n",
    "my_item"
   ]
  },
  {
   "cell_type": "markdown",
   "id": "480a551c",
   "metadata": {},
   "source": [
    "요구사항\n",
    "\n",
    "2024년 가격에 앞으로 5% 인상된 가격을 적용해서\n",
    "\n",
    "새로운 예상 가격 컬럼을 추가하세요.\n",
    "\n",
    "공식: 예상 가격 = 2024년 가격 * 1.05"
   ]
  },
  {
   "cell_type": "code",
   "execution_count": null,
   "id": "6bf3e627",
   "metadata": {},
   "outputs": [
    {
     "name": "stdout",
     "output_type": "stream",
     "text": [
      "키보드     34650.0\n",
      "마우스     17325.0\n",
      "모니터    231000.0\n",
      "Name: 2024년 가격(원), dtype: float64\n"
     ]
    },
    {
     "data": {
      "application/vnd.microsoft.datawrangler.viewer.v0+json": {
       "columns": [
        {
         "name": "index",
         "rawType": "object",
         "type": "string"
        },
        {
         "name": "2023년 가격(원)",
         "rawType": "int64",
         "type": "integer"
        },
        {
         "name": "2024년 가격(원)",
         "rawType": "int64",
         "type": "integer"
        },
        {
         "name": "예상가격",
         "rawType": "float64",
         "type": "float"
        }
       ],
       "conversionMethod": "pd.DataFrame",
       "ref": "f7680bb5-ffb8-499b-9d17-e6733c0752cc",
       "rows": [
        [
         "키보드",
         "30000",
         "33000",
         "34650.0"
        ],
        [
         "마우스",
         "15000",
         "16500",
         "17325.0"
        ],
        [
         "모니터",
         "200000",
         "220000",
         "231000.0"
        ]
       ],
       "shape": {
        "columns": 3,
        "rows": 3
       }
      },
      "text/html": [
       "<div>\n",
       "<style scoped>\n",
       "    .dataframe tbody tr th:only-of-type {\n",
       "        vertical-align: middle;\n",
       "    }\n",
       "\n",
       "    .dataframe tbody tr th {\n",
       "        vertical-align: top;\n",
       "    }\n",
       "\n",
       "    .dataframe thead th {\n",
       "        text-align: right;\n",
       "    }\n",
       "</style>\n",
       "<table border=\"1\" class=\"dataframe\">\n",
       "  <thead>\n",
       "    <tr style=\"text-align: right;\">\n",
       "      <th></th>\n",
       "      <th>2023년 가격(원)</th>\n",
       "      <th>2024년 가격(원)</th>\n",
       "      <th>예상가격</th>\n",
       "    </tr>\n",
       "  </thead>\n",
       "  <tbody>\n",
       "    <tr>\n",
       "      <th>키보드</th>\n",
       "      <td>30000</td>\n",
       "      <td>33000</td>\n",
       "      <td>34650.0</td>\n",
       "    </tr>\n",
       "    <tr>\n",
       "      <th>마우스</th>\n",
       "      <td>15000</td>\n",
       "      <td>16500</td>\n",
       "      <td>17325.0</td>\n",
       "    </tr>\n",
       "    <tr>\n",
       "      <th>모니터</th>\n",
       "      <td>200000</td>\n",
       "      <td>220000</td>\n",
       "      <td>231000.0</td>\n",
       "    </tr>\n",
       "  </tbody>\n",
       "</table>\n",
       "</div>"
      ],
      "text/plain": [
       "     2023년 가격(원)  2024년 가격(원)      예상가격\n",
       "키보드        30000        33000   34650.0\n",
       "마우스        15000        16500   17325.0\n",
       "모니터       200000       220000  231000.0"
      ]
     },
     "execution_count": 106,
     "metadata": {},
     "output_type": "execute_result"
    }
   ],
   "source": [
    "예상가격 = my_item.loc[ :, '2024년 가격(원)'] * 1.05\n",
    "print(예상가격)\n",
    "\n",
    "my_item['예상가격'] = 예상가격\n",
    "my_item"
   ]
  },
  {
   "cell_type": "code",
   "execution_count": null,
   "id": "4dcc7dc6",
   "metadata": {},
   "outputs": [],
   "source": [
    "# 문제6 데이터프레임 연산 문제\n",
    "df =pd.DataFrame( {'상품명': ['키보드','마우스','모니터'], \n",
    "               '2023년 가격(원)':[30000,15000, 200000] , \n",
    "               '2024년 가격(원)':[33000, 16500, 220000] } )\n",
    "df = df.set_index('상품명')\n",
    "df['예상가격'] = df['2024년 가격(원)'] * 1.05\n",
    "df"
   ]
  },
  {
   "cell_type": "markdown",
   "id": "6a3d940f",
   "metadata": {},
   "source": [
    "문제7) 데이터프레임과 데이터프레임 연산하는 문제입니다\n",
    "\n",
    "​\n",
    "\n",
    "매출 데이터 비교\n",
    "\n",
    "아래 두 개의 DataFrame이 있습니다.\n",
    "\n",
    "한 해 동안 1분기와 2분기 매출을 나타낸 데이터입니다.\n",
    "\n",
    "​"
   ]
  },
  {
   "cell_type": "code",
   "execution_count": null,
   "id": "8c0be2c6",
   "metadata": {},
   "outputs": [
    {
     "name": "stdout",
     "output_type": "stream",
     "text": [
      "   상품명      매출액\n",
      "0  키보드    60000\n",
      "1  마우스    45000\n",
      "2  모니터  1200000\n",
      "   상품명      매출액\n",
      "0  키보드    72000\n",
      "1  마우스    51000\n",
      "2  모니터  1500000\n"
     ]
    }
   ],
   "source": [
    "# 문제7 데이터프레임과 데이터프레임 연산하는 문제\n",
    "df_1 = pd.DataFrame( {'상품명': ['키보드','마우스','모니터'], \n",
    "               '매출액':[60000,45000, 1200000] } )\n",
    "df_2 = pd.DataFrame( {'상품명': ['키보드','마우스','모니터'], \n",
    "               '매출액':[72000,51000, 1500000] } )\n",
    "print(df_1)\n",
    "print(df_2)\n"
   ]
  },
  {
   "cell_type": "markdown",
   "id": "d55c7952",
   "metadata": {},
   "source": [
    "요구사항\n",
    "\n",
    "두 데이터프레임을 상품명을 인덱스로 맞춘 후,\n",
    "\n",
    "2분기 매출액에서 1분기 매출액을 빼서\n",
    "\n",
    "분기별 매출 증가액을 계산하세요!"
   ]
  },
  {
   "cell_type": "code",
   "execution_count": null,
   "id": "283a40d7",
   "metadata": {},
   "outputs": [],
   "source": [
    "df_1=df_1.set_index('상품명')\n",
    "df_2=df_2.set_index('상품명')\n",
    "df_increase = df_2 - df_1\n",
    "df_increase"
   ]
  },
  {
   "cell_type": "markdown",
   "id": "e855a560",
   "metadata": {},
   "source": [
    "문제8) 필터링에서 불린 인덱싱 문제입니다\n",
    "\n",
    "블린 인덱싱은 조건에 맞는 데이터를 빠르게 추출할 때 매우 유용합니다\n",
    "\n",
    "매출이 100만 원 이상인 상품 찾기\n",
    "\n",
    "다음과 같은 상품 매출 데이터프레임이 주어졌습니다.\n"
   ]
  },
  {
   "cell_type": "code",
   "execution_count": null,
   "id": "fdb3306b",
   "metadata": {},
   "outputs": [],
   "source": [
    "# 문제8 필터링에서 불린 인덱싱 문제\n",
    "df =pd.DataFrame( {'상품명': ['키보드','마우스','모니터', '헤드셋','웹캠'], \n",
    "               '매출액(원)':[300000,500000, 1500000, 80000, 120000] } )\n",
    "df[ '매출액'] "
   ]
  },
  {
   "cell_type": "markdown",
   "id": "751612a6",
   "metadata": {},
   "source": [
    "\n",
    "요구사항\n",
    "\n",
    "매출액이 100만 원 이상인 상품만 필터링해서 출력하세요."
   ]
  },
  {
   "cell_type": "code",
   "execution_count": null,
   "id": "fc29e639",
   "metadata": {},
   "outputs": [],
   "source": [
    "df.매출액 >= 1000000\n",
    "mask = df[ '매출액']  >= 1000000\n",
    "mask\n",
    "# df[ mask ]['매출액']\n",
    "df[mask]"
   ]
  },
  {
   "cell_type": "markdown",
   "id": "41849983",
   "metadata": {},
   "source": [
    "문제9) 필터링에서 불린 인덱싱 문제입니다\n",
    "\n",
    "블린 인덱싱은 조건에 맞는 데이터를 빠르게 추출할 때 매우 유용합니다\n",
    "\n",
    "나이 기준으로 필터링하기\n",
    "\n",
    "다음은 여러 사람의 나이 데이터입니다."
   ]
  },
  {
   "cell_type": "code",
   "execution_count": null,
   "id": "b3a4a2a5",
   "metadata": {},
   "outputs": [],
   "source": [
    "# 문제9\n",
    "df = pd.DataFrame({'이름':['김철수', '이영희', '박민수', '정수현', '송지혜'], '나이':[25, 32, 40, 28, 35]})"
   ]
  },
  {
   "cell_type": "markdown",
   "id": "f04b2b85",
   "metadata": {},
   "source": [
    "요구사항\n",
    "\n",
    "나이가 30세 이상인 사람들만 필터링해서 출력하세요."
   ]
  },
  {
   "cell_type": "code",
   "execution_count": null,
   "id": "fa317845",
   "metadata": {},
   "outputs": [],
   "source": [
    "df = df.set_index('이름')\n",
    "mask = df.나이 >= 30\n",
    "df.loc[mask, '나이']\n",
    "df[mask]['나이']"
   ]
  },
  {
   "cell_type": "code",
   "execution_count": null,
   "id": "b8d40632",
   "metadata": {},
   "outputs": [
    {
     "data": {
      "application/vnd.microsoft.datawrangler.viewer.v0+json": {
       "columns": [
        {
         "name": "index",
         "rawType": "int64",
         "type": "integer"
        },
        {
         "name": "survived",
         "rawType": "int64",
         "type": "integer"
        },
        {
         "name": "pclass",
         "rawType": "int64",
         "type": "integer"
        },
        {
         "name": "sex",
         "rawType": "object",
         "type": "string"
        },
        {
         "name": "age",
         "rawType": "float64",
         "type": "float"
        },
        {
         "name": "sibsp",
         "rawType": "int64",
         "type": "integer"
        },
        {
         "name": "parch",
         "rawType": "int64",
         "type": "integer"
        },
        {
         "name": "fare",
         "rawType": "float64",
         "type": "float"
        },
        {
         "name": "embarked",
         "rawType": "object",
         "type": "string"
        },
        {
         "name": "class",
         "rawType": "category",
         "type": "unknown"
        },
        {
         "name": "who",
         "rawType": "object",
         "type": "string"
        },
        {
         "name": "adult_male",
         "rawType": "bool",
         "type": "boolean"
        },
        {
         "name": "deck",
         "rawType": "category",
         "type": "unknown"
        },
        {
         "name": "embark_town",
         "rawType": "object",
         "type": "string"
        },
        {
         "name": "alive",
         "rawType": "object",
         "type": "string"
        },
        {
         "name": "alone",
         "rawType": "bool",
         "type": "boolean"
        }
       ],
       "conversionMethod": "pd.DataFrame",
       "ref": "a73a6341-c57e-42ee-94b1-bd627926d628",
       "rows": [
        [
         "1",
         "1",
         "1",
         "female",
         "38.0",
         "1",
         "0",
         "71.2833",
         "C",
         "First",
         "woman",
         "False",
         "C",
         "Cherbourg",
         "yes",
         "False"
        ],
        [
         "3",
         "1",
         "1",
         "female",
         "35.0",
         "1",
         "0",
         "53.1",
         "S",
         "First",
         "woman",
         "False",
         "C",
         "Southampton",
         "yes",
         "False"
        ],
        [
         "11",
         "1",
         "1",
         "female",
         "58.0",
         "0",
         "0",
         "26.55",
         "S",
         "First",
         "woman",
         "False",
         "C",
         "Southampton",
         "yes",
         "True"
        ],
        [
         "88",
         "1",
         "1",
         "female",
         "23.0",
         "3",
         "2",
         "263.0",
         "S",
         "First",
         "woman",
         "False",
         "C",
         "Southampton",
         "yes",
         "False"
        ],
        [
         "151",
         "1",
         "1",
         "female",
         "22.0",
         "1",
         "0",
         "66.6",
         "S",
         "First",
         "woman",
         "False",
         "C",
         "Southampton",
         "yes",
         "False"
        ],
        [
         "177",
         "0",
         "1",
         "female",
         "50.0",
         "0",
         "0",
         "28.7125",
         "C",
         "First",
         "woman",
         "False",
         "C",
         "Cherbourg",
         "no",
         "True"
        ],
        [
         "230",
         "1",
         "1",
         "female",
         "35.0",
         "1",
         "0",
         "83.475",
         "S",
         "First",
         "woman",
         "False",
         "C",
         "Southampton",
         "yes",
         "False"
        ],
        [
         "268",
         "1",
         "1",
         "female",
         "58.0",
         "0",
         "1",
         "153.4625",
         "S",
         "First",
         "woman",
         "False",
         "C",
         "Southampton",
         "yes",
         "False"
        ],
        [
         "269",
         "1",
         "1",
         "female",
         "35.0",
         "0",
         "0",
         "135.6333",
         "S",
         "First",
         "woman",
         "False",
         "C",
         "Southampton",
         "yes",
         "True"
        ],
        [
         "307",
         "1",
         "1",
         "female",
         "17.0",
         "1",
         "0",
         "108.9",
         "C",
         "First",
         "woman",
         "False",
         "C",
         "Cherbourg",
         "yes",
         "False"
        ],
        [
         "310",
         "1",
         "1",
         "female",
         "24.0",
         "0",
         "0",
         "83.1583",
         "C",
         "First",
         "woman",
         "False",
         "C",
         "Cherbourg",
         "yes",
         "True"
        ],
        [
         "318",
         "1",
         "1",
         "female",
         "31.0",
         "0",
         "2",
         "164.8667",
         "S",
         "First",
         "woman",
         "False",
         "C",
         "Southampton",
         "yes",
         "False"
        ],
        [
         "325",
         "1",
         "1",
         "female",
         "36.0",
         "0",
         "0",
         "135.6333",
         "C",
         "First",
         "woman",
         "False",
         "C",
         "Cherbourg",
         "yes",
         "True"
        ],
        [
         "341",
         "1",
         "1",
         "female",
         "24.0",
         "3",
         "2",
         "263.0",
         "S",
         "First",
         "woman",
         "False",
         "C",
         "Southampton",
         "yes",
         "False"
        ],
        [
         "412",
         "1",
         "1",
         "female",
         "33.0",
         "1",
         "0",
         "90.0",
         "Q",
         "First",
         "woman",
         "False",
         "C",
         "Queenstown",
         "yes",
         "False"
        ],
        [
         "486",
         "1",
         "1",
         "female",
         "35.0",
         "1",
         "0",
         "90.0",
         "S",
         "First",
         "woman",
         "False",
         "C",
         "Southampton",
         "yes",
         "False"
        ],
        [
         "498",
         "0",
         "1",
         "female",
         "25.0",
         "1",
         "2",
         "151.55",
         "S",
         "First",
         "woman",
         "False",
         "C",
         "Southampton",
         "no",
         "False"
        ],
        [
         "571",
         "1",
         "1",
         "female",
         "53.0",
         "2",
         "0",
         "51.4792",
         "S",
         "First",
         "woman",
         "False",
         "C",
         "Southampton",
         "yes",
         "False"
        ],
        [
         "581",
         "1",
         "1",
         "female",
         "39.0",
         "1",
         "1",
         "110.8833",
         "C",
         "First",
         "woman",
         "False",
         "C",
         "Cherbourg",
         "yes",
         "False"
        ],
        [
         "609",
         "1",
         "1",
         "female",
         "40.0",
         "0",
         "0",
         "153.4625",
         "S",
         "First",
         "woman",
         "False",
         "C",
         "Southampton",
         "yes",
         "True"
        ],
        [
         "669",
         "1",
         "1",
         "female",
         null,
         "1",
         "0",
         "52.0",
         "S",
         "First",
         "woman",
         "False",
         "C",
         "Southampton",
         "yes",
         "False"
        ],
        [
         "700",
         "1",
         "1",
         "female",
         "18.0",
         "1",
         "0",
         "227.525",
         "C",
         "First",
         "woman",
         "False",
         "C",
         "Cherbourg",
         "yes",
         "False"
        ],
        [
         "710",
         "1",
         "1",
         "female",
         "24.0",
         "0",
         "0",
         "49.5042",
         "C",
         "First",
         "woman",
         "False",
         "C",
         "Cherbourg",
         "yes",
         "True"
        ],
        [
         "716",
         "1",
         "1",
         "female",
         "38.0",
         "0",
         "0",
         "227.525",
         "C",
         "First",
         "woman",
         "False",
         "C",
         "Cherbourg",
         "yes",
         "True"
        ],
        [
         "849",
         "1",
         "1",
         "female",
         null,
         "1",
         "0",
         "89.1042",
         "C",
         "First",
         "woman",
         "False",
         "C",
         "Cherbourg",
         "yes",
         "False"
        ],
        [
         "879",
         "1",
         "1",
         "female",
         "56.0",
         "0",
         "1",
         "83.1583",
         "C",
         "First",
         "woman",
         "False",
         "C",
         "Cherbourg",
         "yes",
         "False"
        ]
       ],
       "shape": {
        "columns": 15,
        "rows": 26
       }
      },
      "text/html": [
       "<div>\n",
       "<style scoped>\n",
       "    .dataframe tbody tr th:only-of-type {\n",
       "        vertical-align: middle;\n",
       "    }\n",
       "\n",
       "    .dataframe tbody tr th {\n",
       "        vertical-align: top;\n",
       "    }\n",
       "\n",
       "    .dataframe thead th {\n",
       "        text-align: right;\n",
       "    }\n",
       "</style>\n",
       "<table border=\"1\" class=\"dataframe\">\n",
       "  <thead>\n",
       "    <tr style=\"text-align: right;\">\n",
       "      <th></th>\n",
       "      <th>survived</th>\n",
       "      <th>pclass</th>\n",
       "      <th>sex</th>\n",
       "      <th>age</th>\n",
       "      <th>sibsp</th>\n",
       "      <th>parch</th>\n",
       "      <th>fare</th>\n",
       "      <th>embarked</th>\n",
       "      <th>class</th>\n",
       "      <th>who</th>\n",
       "      <th>adult_male</th>\n",
       "      <th>deck</th>\n",
       "      <th>embark_town</th>\n",
       "      <th>alive</th>\n",
       "      <th>alone</th>\n",
       "    </tr>\n",
       "  </thead>\n",
       "  <tbody>\n",
       "    <tr>\n",
       "      <th>1</th>\n",
       "      <td>1</td>\n",
       "      <td>1</td>\n",
       "      <td>female</td>\n",
       "      <td>38.0</td>\n",
       "      <td>1</td>\n",
       "      <td>0</td>\n",
       "      <td>71.2833</td>\n",
       "      <td>C</td>\n",
       "      <td>First</td>\n",
       "      <td>woman</td>\n",
       "      <td>False</td>\n",
       "      <td>C</td>\n",
       "      <td>Cherbourg</td>\n",
       "      <td>yes</td>\n",
       "      <td>False</td>\n",
       "    </tr>\n",
       "    <tr>\n",
       "      <th>3</th>\n",
       "      <td>1</td>\n",
       "      <td>1</td>\n",
       "      <td>female</td>\n",
       "      <td>35.0</td>\n",
       "      <td>1</td>\n",
       "      <td>0</td>\n",
       "      <td>53.1000</td>\n",
       "      <td>S</td>\n",
       "      <td>First</td>\n",
       "      <td>woman</td>\n",
       "      <td>False</td>\n",
       "      <td>C</td>\n",
       "      <td>Southampton</td>\n",
       "      <td>yes</td>\n",
       "      <td>False</td>\n",
       "    </tr>\n",
       "    <tr>\n",
       "      <th>11</th>\n",
       "      <td>1</td>\n",
       "      <td>1</td>\n",
       "      <td>female</td>\n",
       "      <td>58.0</td>\n",
       "      <td>0</td>\n",
       "      <td>0</td>\n",
       "      <td>26.5500</td>\n",
       "      <td>S</td>\n",
       "      <td>First</td>\n",
       "      <td>woman</td>\n",
       "      <td>False</td>\n",
       "      <td>C</td>\n",
       "      <td>Southampton</td>\n",
       "      <td>yes</td>\n",
       "      <td>True</td>\n",
       "    </tr>\n",
       "    <tr>\n",
       "      <th>88</th>\n",
       "      <td>1</td>\n",
       "      <td>1</td>\n",
       "      <td>female</td>\n",
       "      <td>23.0</td>\n",
       "      <td>3</td>\n",
       "      <td>2</td>\n",
       "      <td>263.0000</td>\n",
       "      <td>S</td>\n",
       "      <td>First</td>\n",
       "      <td>woman</td>\n",
       "      <td>False</td>\n",
       "      <td>C</td>\n",
       "      <td>Southampton</td>\n",
       "      <td>yes</td>\n",
       "      <td>False</td>\n",
       "    </tr>\n",
       "    <tr>\n",
       "      <th>151</th>\n",
       "      <td>1</td>\n",
       "      <td>1</td>\n",
       "      <td>female</td>\n",
       "      <td>22.0</td>\n",
       "      <td>1</td>\n",
       "      <td>0</td>\n",
       "      <td>66.6000</td>\n",
       "      <td>S</td>\n",
       "      <td>First</td>\n",
       "      <td>woman</td>\n",
       "      <td>False</td>\n",
       "      <td>C</td>\n",
       "      <td>Southampton</td>\n",
       "      <td>yes</td>\n",
       "      <td>False</td>\n",
       "    </tr>\n",
       "    <tr>\n",
       "      <th>177</th>\n",
       "      <td>0</td>\n",
       "      <td>1</td>\n",
       "      <td>female</td>\n",
       "      <td>50.0</td>\n",
       "      <td>0</td>\n",
       "      <td>0</td>\n",
       "      <td>28.7125</td>\n",
       "      <td>C</td>\n",
       "      <td>First</td>\n",
       "      <td>woman</td>\n",
       "      <td>False</td>\n",
       "      <td>C</td>\n",
       "      <td>Cherbourg</td>\n",
       "      <td>no</td>\n",
       "      <td>True</td>\n",
       "    </tr>\n",
       "    <tr>\n",
       "      <th>230</th>\n",
       "      <td>1</td>\n",
       "      <td>1</td>\n",
       "      <td>female</td>\n",
       "      <td>35.0</td>\n",
       "      <td>1</td>\n",
       "      <td>0</td>\n",
       "      <td>83.4750</td>\n",
       "      <td>S</td>\n",
       "      <td>First</td>\n",
       "      <td>woman</td>\n",
       "      <td>False</td>\n",
       "      <td>C</td>\n",
       "      <td>Southampton</td>\n",
       "      <td>yes</td>\n",
       "      <td>False</td>\n",
       "    </tr>\n",
       "    <tr>\n",
       "      <th>268</th>\n",
       "      <td>1</td>\n",
       "      <td>1</td>\n",
       "      <td>female</td>\n",
       "      <td>58.0</td>\n",
       "      <td>0</td>\n",
       "      <td>1</td>\n",
       "      <td>153.4625</td>\n",
       "      <td>S</td>\n",
       "      <td>First</td>\n",
       "      <td>woman</td>\n",
       "      <td>False</td>\n",
       "      <td>C</td>\n",
       "      <td>Southampton</td>\n",
       "      <td>yes</td>\n",
       "      <td>False</td>\n",
       "    </tr>\n",
       "    <tr>\n",
       "      <th>269</th>\n",
       "      <td>1</td>\n",
       "      <td>1</td>\n",
       "      <td>female</td>\n",
       "      <td>35.0</td>\n",
       "      <td>0</td>\n",
       "      <td>0</td>\n",
       "      <td>135.6333</td>\n",
       "      <td>S</td>\n",
       "      <td>First</td>\n",
       "      <td>woman</td>\n",
       "      <td>False</td>\n",
       "      <td>C</td>\n",
       "      <td>Southampton</td>\n",
       "      <td>yes</td>\n",
       "      <td>True</td>\n",
       "    </tr>\n",
       "    <tr>\n",
       "      <th>307</th>\n",
       "      <td>1</td>\n",
       "      <td>1</td>\n",
       "      <td>female</td>\n",
       "      <td>17.0</td>\n",
       "      <td>1</td>\n",
       "      <td>0</td>\n",
       "      <td>108.9000</td>\n",
       "      <td>C</td>\n",
       "      <td>First</td>\n",
       "      <td>woman</td>\n",
       "      <td>False</td>\n",
       "      <td>C</td>\n",
       "      <td>Cherbourg</td>\n",
       "      <td>yes</td>\n",
       "      <td>False</td>\n",
       "    </tr>\n",
       "    <tr>\n",
       "      <th>310</th>\n",
       "      <td>1</td>\n",
       "      <td>1</td>\n",
       "      <td>female</td>\n",
       "      <td>24.0</td>\n",
       "      <td>0</td>\n",
       "      <td>0</td>\n",
       "      <td>83.1583</td>\n",
       "      <td>C</td>\n",
       "      <td>First</td>\n",
       "      <td>woman</td>\n",
       "      <td>False</td>\n",
       "      <td>C</td>\n",
       "      <td>Cherbourg</td>\n",
       "      <td>yes</td>\n",
       "      <td>True</td>\n",
       "    </tr>\n",
       "    <tr>\n",
       "      <th>318</th>\n",
       "      <td>1</td>\n",
       "      <td>1</td>\n",
       "      <td>female</td>\n",
       "      <td>31.0</td>\n",
       "      <td>0</td>\n",
       "      <td>2</td>\n",
       "      <td>164.8667</td>\n",
       "      <td>S</td>\n",
       "      <td>First</td>\n",
       "      <td>woman</td>\n",
       "      <td>False</td>\n",
       "      <td>C</td>\n",
       "      <td>Southampton</td>\n",
       "      <td>yes</td>\n",
       "      <td>False</td>\n",
       "    </tr>\n",
       "    <tr>\n",
       "      <th>325</th>\n",
       "      <td>1</td>\n",
       "      <td>1</td>\n",
       "      <td>female</td>\n",
       "      <td>36.0</td>\n",
       "      <td>0</td>\n",
       "      <td>0</td>\n",
       "      <td>135.6333</td>\n",
       "      <td>C</td>\n",
       "      <td>First</td>\n",
       "      <td>woman</td>\n",
       "      <td>False</td>\n",
       "      <td>C</td>\n",
       "      <td>Cherbourg</td>\n",
       "      <td>yes</td>\n",
       "      <td>True</td>\n",
       "    </tr>\n",
       "    <tr>\n",
       "      <th>341</th>\n",
       "      <td>1</td>\n",
       "      <td>1</td>\n",
       "      <td>female</td>\n",
       "      <td>24.0</td>\n",
       "      <td>3</td>\n",
       "      <td>2</td>\n",
       "      <td>263.0000</td>\n",
       "      <td>S</td>\n",
       "      <td>First</td>\n",
       "      <td>woman</td>\n",
       "      <td>False</td>\n",
       "      <td>C</td>\n",
       "      <td>Southampton</td>\n",
       "      <td>yes</td>\n",
       "      <td>False</td>\n",
       "    </tr>\n",
       "    <tr>\n",
       "      <th>412</th>\n",
       "      <td>1</td>\n",
       "      <td>1</td>\n",
       "      <td>female</td>\n",
       "      <td>33.0</td>\n",
       "      <td>1</td>\n",
       "      <td>0</td>\n",
       "      <td>90.0000</td>\n",
       "      <td>Q</td>\n",
       "      <td>First</td>\n",
       "      <td>woman</td>\n",
       "      <td>False</td>\n",
       "      <td>C</td>\n",
       "      <td>Queenstown</td>\n",
       "      <td>yes</td>\n",
       "      <td>False</td>\n",
       "    </tr>\n",
       "    <tr>\n",
       "      <th>486</th>\n",
       "      <td>1</td>\n",
       "      <td>1</td>\n",
       "      <td>female</td>\n",
       "      <td>35.0</td>\n",
       "      <td>1</td>\n",
       "      <td>0</td>\n",
       "      <td>90.0000</td>\n",
       "      <td>S</td>\n",
       "      <td>First</td>\n",
       "      <td>woman</td>\n",
       "      <td>False</td>\n",
       "      <td>C</td>\n",
       "      <td>Southampton</td>\n",
       "      <td>yes</td>\n",
       "      <td>False</td>\n",
       "    </tr>\n",
       "    <tr>\n",
       "      <th>498</th>\n",
       "      <td>0</td>\n",
       "      <td>1</td>\n",
       "      <td>female</td>\n",
       "      <td>25.0</td>\n",
       "      <td>1</td>\n",
       "      <td>2</td>\n",
       "      <td>151.5500</td>\n",
       "      <td>S</td>\n",
       "      <td>First</td>\n",
       "      <td>woman</td>\n",
       "      <td>False</td>\n",
       "      <td>C</td>\n",
       "      <td>Southampton</td>\n",
       "      <td>no</td>\n",
       "      <td>False</td>\n",
       "    </tr>\n",
       "    <tr>\n",
       "      <th>571</th>\n",
       "      <td>1</td>\n",
       "      <td>1</td>\n",
       "      <td>female</td>\n",
       "      <td>53.0</td>\n",
       "      <td>2</td>\n",
       "      <td>0</td>\n",
       "      <td>51.4792</td>\n",
       "      <td>S</td>\n",
       "      <td>First</td>\n",
       "      <td>woman</td>\n",
       "      <td>False</td>\n",
       "      <td>C</td>\n",
       "      <td>Southampton</td>\n",
       "      <td>yes</td>\n",
       "      <td>False</td>\n",
       "    </tr>\n",
       "    <tr>\n",
       "      <th>581</th>\n",
       "      <td>1</td>\n",
       "      <td>1</td>\n",
       "      <td>female</td>\n",
       "      <td>39.0</td>\n",
       "      <td>1</td>\n",
       "      <td>1</td>\n",
       "      <td>110.8833</td>\n",
       "      <td>C</td>\n",
       "      <td>First</td>\n",
       "      <td>woman</td>\n",
       "      <td>False</td>\n",
       "      <td>C</td>\n",
       "      <td>Cherbourg</td>\n",
       "      <td>yes</td>\n",
       "      <td>False</td>\n",
       "    </tr>\n",
       "    <tr>\n",
       "      <th>609</th>\n",
       "      <td>1</td>\n",
       "      <td>1</td>\n",
       "      <td>female</td>\n",
       "      <td>40.0</td>\n",
       "      <td>0</td>\n",
       "      <td>0</td>\n",
       "      <td>153.4625</td>\n",
       "      <td>S</td>\n",
       "      <td>First</td>\n",
       "      <td>woman</td>\n",
       "      <td>False</td>\n",
       "      <td>C</td>\n",
       "      <td>Southampton</td>\n",
       "      <td>yes</td>\n",
       "      <td>True</td>\n",
       "    </tr>\n",
       "    <tr>\n",
       "      <th>669</th>\n",
       "      <td>1</td>\n",
       "      <td>1</td>\n",
       "      <td>female</td>\n",
       "      <td>NaN</td>\n",
       "      <td>1</td>\n",
       "      <td>0</td>\n",
       "      <td>52.0000</td>\n",
       "      <td>S</td>\n",
       "      <td>First</td>\n",
       "      <td>woman</td>\n",
       "      <td>False</td>\n",
       "      <td>C</td>\n",
       "      <td>Southampton</td>\n",
       "      <td>yes</td>\n",
       "      <td>False</td>\n",
       "    </tr>\n",
       "    <tr>\n",
       "      <th>700</th>\n",
       "      <td>1</td>\n",
       "      <td>1</td>\n",
       "      <td>female</td>\n",
       "      <td>18.0</td>\n",
       "      <td>1</td>\n",
       "      <td>0</td>\n",
       "      <td>227.5250</td>\n",
       "      <td>C</td>\n",
       "      <td>First</td>\n",
       "      <td>woman</td>\n",
       "      <td>False</td>\n",
       "      <td>C</td>\n",
       "      <td>Cherbourg</td>\n",
       "      <td>yes</td>\n",
       "      <td>False</td>\n",
       "    </tr>\n",
       "    <tr>\n",
       "      <th>710</th>\n",
       "      <td>1</td>\n",
       "      <td>1</td>\n",
       "      <td>female</td>\n",
       "      <td>24.0</td>\n",
       "      <td>0</td>\n",
       "      <td>0</td>\n",
       "      <td>49.5042</td>\n",
       "      <td>C</td>\n",
       "      <td>First</td>\n",
       "      <td>woman</td>\n",
       "      <td>False</td>\n",
       "      <td>C</td>\n",
       "      <td>Cherbourg</td>\n",
       "      <td>yes</td>\n",
       "      <td>True</td>\n",
       "    </tr>\n",
       "    <tr>\n",
       "      <th>716</th>\n",
       "      <td>1</td>\n",
       "      <td>1</td>\n",
       "      <td>female</td>\n",
       "      <td>38.0</td>\n",
       "      <td>0</td>\n",
       "      <td>0</td>\n",
       "      <td>227.5250</td>\n",
       "      <td>C</td>\n",
       "      <td>First</td>\n",
       "      <td>woman</td>\n",
       "      <td>False</td>\n",
       "      <td>C</td>\n",
       "      <td>Cherbourg</td>\n",
       "      <td>yes</td>\n",
       "      <td>True</td>\n",
       "    </tr>\n",
       "    <tr>\n",
       "      <th>849</th>\n",
       "      <td>1</td>\n",
       "      <td>1</td>\n",
       "      <td>female</td>\n",
       "      <td>NaN</td>\n",
       "      <td>1</td>\n",
       "      <td>0</td>\n",
       "      <td>89.1042</td>\n",
       "      <td>C</td>\n",
       "      <td>First</td>\n",
       "      <td>woman</td>\n",
       "      <td>False</td>\n",
       "      <td>C</td>\n",
       "      <td>Cherbourg</td>\n",
       "      <td>yes</td>\n",
       "      <td>False</td>\n",
       "    </tr>\n",
       "    <tr>\n",
       "      <th>879</th>\n",
       "      <td>1</td>\n",
       "      <td>1</td>\n",
       "      <td>female</td>\n",
       "      <td>56.0</td>\n",
       "      <td>0</td>\n",
       "      <td>1</td>\n",
       "      <td>83.1583</td>\n",
       "      <td>C</td>\n",
       "      <td>First</td>\n",
       "      <td>woman</td>\n",
       "      <td>False</td>\n",
       "      <td>C</td>\n",
       "      <td>Cherbourg</td>\n",
       "      <td>yes</td>\n",
       "      <td>False</td>\n",
       "    </tr>\n",
       "  </tbody>\n",
       "</table>\n",
       "</div>"
      ],
      "text/plain": [
       "     survived  pclass     sex   age  sibsp  parch      fare embarked  class  \\\n",
       "1           1       1  female  38.0      1      0   71.2833        C  First   \n",
       "3           1       1  female  35.0      1      0   53.1000        S  First   \n",
       "11          1       1  female  58.0      0      0   26.5500        S  First   \n",
       "88          1       1  female  23.0      3      2  263.0000        S  First   \n",
       "151         1       1  female  22.0      1      0   66.6000        S  First   \n",
       "177         0       1  female  50.0      0      0   28.7125        C  First   \n",
       "230         1       1  female  35.0      1      0   83.4750        S  First   \n",
       "268         1       1  female  58.0      0      1  153.4625        S  First   \n",
       "269         1       1  female  35.0      0      0  135.6333        S  First   \n",
       "307         1       1  female  17.0      1      0  108.9000        C  First   \n",
       "310         1       1  female  24.0      0      0   83.1583        C  First   \n",
       "318         1       1  female  31.0      0      2  164.8667        S  First   \n",
       "325         1       1  female  36.0      0      0  135.6333        C  First   \n",
       "341         1       1  female  24.0      3      2  263.0000        S  First   \n",
       "412         1       1  female  33.0      1      0   90.0000        Q  First   \n",
       "486         1       1  female  35.0      1      0   90.0000        S  First   \n",
       "498         0       1  female  25.0      1      2  151.5500        S  First   \n",
       "571         1       1  female  53.0      2      0   51.4792        S  First   \n",
       "581         1       1  female  39.0      1      1  110.8833        C  First   \n",
       "609         1       1  female  40.0      0      0  153.4625        S  First   \n",
       "669         1       1  female   NaN      1      0   52.0000        S  First   \n",
       "700         1       1  female  18.0      1      0  227.5250        C  First   \n",
       "710         1       1  female  24.0      0      0   49.5042        C  First   \n",
       "716         1       1  female  38.0      0      0  227.5250        C  First   \n",
       "849         1       1  female   NaN      1      0   89.1042        C  First   \n",
       "879         1       1  female  56.0      0      1   83.1583        C  First   \n",
       "\n",
       "       who  adult_male deck  embark_town alive  alone  \n",
       "1    woman       False    C    Cherbourg   yes  False  \n",
       "3    woman       False    C  Southampton   yes  False  \n",
       "11   woman       False    C  Southampton   yes   True  \n",
       "88   woman       False    C  Southampton   yes  False  \n",
       "151  woman       False    C  Southampton   yes  False  \n",
       "177  woman       False    C    Cherbourg    no   True  \n",
       "230  woman       False    C  Southampton   yes  False  \n",
       "268  woman       False    C  Southampton   yes  False  \n",
       "269  woman       False    C  Southampton   yes   True  \n",
       "307  woman       False    C    Cherbourg   yes  False  \n",
       "310  woman       False    C    Cherbourg   yes   True  \n",
       "318  woman       False    C  Southampton   yes  False  \n",
       "325  woman       False    C    Cherbourg   yes   True  \n",
       "341  woman       False    C  Southampton   yes  False  \n",
       "412  woman       False    C   Queenstown   yes  False  \n",
       "486  woman       False    C  Southampton   yes  False  \n",
       "498  woman       False    C  Southampton    no  False  \n",
       "571  woman       False    C  Southampton   yes  False  \n",
       "581  woman       False    C    Cherbourg   yes  False  \n",
       "609  woman       False    C  Southampton   yes   True  \n",
       "669  woman       False    C  Southampton   yes  False  \n",
       "700  woman       False    C    Cherbourg   yes  False  \n",
       "710  woman       False    C    Cherbourg   yes   True  \n",
       "716  woman       False    C    Cherbourg   yes   True  \n",
       "849  woman       False    C    Cherbourg   yes  False  \n",
       "879  woman       False    C    Cherbourg   yes  False  "
      ]
     },
     "execution_count": 116,
     "metadata": {},
     "output_type": "execute_result"
    }
   ],
   "source": [
    "titanic.head()\n",
    "titanic.query('pclass == 1') # 해당하는 조건에 만족하는 것만 보여줌\n",
    "titanic.query('who == \"woman\"') # 문자는 \"\"로 감싸줘야함\n",
    "titanic.query('who == \"woman\" & deck == \"C\"') # 조건 두개를 묶을 경우\n",
    "titanic.query('who == \"woman\" and deck == \"C\"') # 영어 and라고 써도 됌"
   ]
  },
  {
   "cell_type": "code",
   "execution_count": null,
   "id": "1a200f79",
   "metadata": {},
   "outputs": [
    {
     "name": "stdout",
     "output_type": "stream",
     "text": [
      "     survived  pclass     sex   age  sibsp  ...  adult_male  deck  \\\n",
      "0           0       3    male  22.0      1  ...        True   NaN   \n",
      "2           1       3  female  26.0      0  ...       False   NaN   \n",
      "3           1       1  female  35.0      1  ...       False     C   \n",
      "4           0       3    male  35.0      0  ...        True   NaN   \n",
      "5           0       3    male   NaN      0  ...        True   NaN   \n",
      "..        ...     ...     ...   ...    ...  ...         ...   ...   \n",
      "885         0       3  female  39.0      0  ...       False   NaN   \n",
      "886         0       2    male  27.0      0  ...        True   NaN   \n",
      "887         1       1  female  19.0      0  ...       False     B   \n",
      "888         0       3  female   NaN      1  ...       False   NaN   \n",
      "890         0       3    male  32.0      0  ...        True   NaN   \n",
      "\n",
      "     embark_town alive  alone  \n",
      "0    Southampton    no  False  \n",
      "2    Southampton   yes   True  \n",
      "3    Southampton   yes  False  \n",
      "4    Southampton    no   True  \n",
      "5     Queenstown    no   True  \n",
      "..           ...   ...    ...  \n",
      "885   Queenstown    no  False  \n",
      "886  Southampton    no   True  \n",
      "887  Southampton   yes   True  \n",
      "888  Southampton    no  False  \n",
      "890   Queenstown    no   True  \n",
      "\n",
      "[721 rows x 15 columns]\n",
      "     survived  pclass     sex   age  sibsp  parch     fare embarked   class  \\\n",
      "0           0       3    male  22.0      1      0   7.2500        S   Third   \n",
      "2           1       3  female  26.0      0      0   7.9250        S   Third   \n",
      "3           1       1  female  35.0      1      0  53.1000        S   First   \n",
      "4           0       3    male  35.0      0      0   8.0500        S   Third   \n",
      "5           0       3    male   NaN      0      0   8.4583        Q   Third   \n",
      "..        ...     ...     ...   ...    ...    ...      ...      ...     ...   \n",
      "885         0       3  female  39.0      0      5  29.1250        Q   Third   \n",
      "886         0       2    male  27.0      0      0  13.0000        S  Second   \n",
      "887         1       1  female  19.0      0      0  30.0000        S   First   \n",
      "888         0       3  female   NaN      1      2  23.4500        S   Third   \n",
      "890         0       3    male  32.0      0      0   7.7500        Q   Third   \n",
      "\n",
      "       who  adult_male deck  embark_town alive  alone  \n",
      "0      man        True  NaN  Southampton    no  False  \n",
      "2    woman       False  NaN  Southampton   yes   True  \n",
      "3    woman       False    C  Southampton   yes  False  \n",
      "4      man        True  NaN  Southampton    no   True  \n",
      "5      man        True  NaN   Queenstown    no   True  \n",
      "..     ...         ...  ...          ...   ...    ...  \n",
      "885  woman       False  NaN   Queenstown    no  False  \n",
      "886    man        True  NaN  Southampton    no   True  \n",
      "887  woman       False    B  Southampton   yes   True  \n",
      "888  woman       False  NaN  Southampton    no  False  \n",
      "890    man        True  NaN   Queenstown    no   True  \n",
      "\n",
      "[721 rows x 15 columns]\n"
     ]
    }
   ],
   "source": [
    "pd.set_option('display.max_columns', 10) # 화면에 출력되는 갯수를 변경\n",
    "\n",
    "mask1 = titanic['embark_town'] == \"Southampton\"\n",
    "mask2 = titanic['embark_town'] == \"Queenstown\"\n",
    "\n",
    "df_boolean = titanic [mask1 | mask2]\n",
    "print(df_boolean)\n",
    "pd.get_option('display.max_columns') # 화면에 출력되는 갯수가 몇개인지 표시\n",
    "pd.reset_option('display.max_columns') # 세팅된 것을 초기화\n",
    "\n",
    "print(df_boolean)\n",
    "\n"
   ]
  },
  {
   "cell_type": "code",
   "execution_count": null,
   "id": "af899553",
   "metadata": {},
   "outputs": [
    {
     "data": {
      "application/vnd.microsoft.datawrangler.viewer.v0+json": {
       "columns": [
        {
         "name": "index",
         "rawType": "int64",
         "type": "integer"
        },
        {
         "name": "survived",
         "rawType": "int64",
         "type": "integer"
        },
        {
         "name": "pclass",
         "rawType": "int64",
         "type": "integer"
        },
        {
         "name": "sex",
         "rawType": "object",
         "type": "string"
        },
        {
         "name": "age",
         "rawType": "float64",
         "type": "float"
        },
        {
         "name": "sibsp",
         "rawType": "int64",
         "type": "integer"
        },
        {
         "name": "parch",
         "rawType": "int64",
         "type": "integer"
        },
        {
         "name": "fare",
         "rawType": "float64",
         "type": "float"
        },
        {
         "name": "embarked",
         "rawType": "object",
         "type": "string"
        },
        {
         "name": "class",
         "rawType": "category",
         "type": "unknown"
        },
        {
         "name": "who",
         "rawType": "object",
         "type": "string"
        },
        {
         "name": "adult_male",
         "rawType": "bool",
         "type": "boolean"
        },
        {
         "name": "deck",
         "rawType": "category",
         "type": "unknown"
        },
        {
         "name": "embark_town",
         "rawType": "object",
         "type": "string"
        },
        {
         "name": "alive",
         "rawType": "object",
         "type": "string"
        },
        {
         "name": "alone",
         "rawType": "bool",
         "type": "boolean"
        }
       ],
       "conversionMethod": "pd.DataFrame",
       "ref": "5194b21a-56b8-495d-afb6-6186fc57f7b3",
       "rows": [
        [
         "0",
         "0",
         "3",
         "male",
         "22.0",
         "1",
         "0",
         "7.25",
         "S",
         "Third",
         "man",
         "True",
         null,
         "Southampton",
         "no",
         "False"
        ],
        [
         "2",
         "1",
         "3",
         "female",
         "26.0",
         "0",
         "0",
         "7.925",
         "S",
         "Third",
         "woman",
         "False",
         null,
         "Southampton",
         "yes",
         "True"
        ],
        [
         "3",
         "1",
         "1",
         "female",
         "35.0",
         "1",
         "0",
         "53.1",
         "S",
         "First",
         "woman",
         "False",
         "C",
         "Southampton",
         "yes",
         "False"
        ],
        [
         "4",
         "0",
         "3",
         "male",
         "35.0",
         "0",
         "0",
         "8.05",
         "S",
         "Third",
         "man",
         "True",
         null,
         "Southampton",
         "no",
         "True"
        ],
        [
         "5",
         "0",
         "3",
         "male",
         null,
         "0",
         "0",
         "8.4583",
         "Q",
         "Third",
         "man",
         "True",
         null,
         "Queenstown",
         "no",
         "True"
        ],
        [
         "6",
         "0",
         "1",
         "male",
         "54.0",
         "0",
         "0",
         "51.8625",
         "S",
         "First",
         "man",
         "True",
         "E",
         "Southampton",
         "no",
         "True"
        ],
        [
         "7",
         "0",
         "3",
         "male",
         "2.0",
         "3",
         "1",
         "21.075",
         "S",
         "Third",
         "child",
         "False",
         null,
         "Southampton",
         "no",
         "False"
        ],
        [
         "8",
         "1",
         "3",
         "female",
         "27.0",
         "0",
         "2",
         "11.1333",
         "S",
         "Third",
         "woman",
         "False",
         null,
         "Southampton",
         "yes",
         "False"
        ],
        [
         "10",
         "1",
         "3",
         "female",
         "4.0",
         "1",
         "1",
         "16.7",
         "S",
         "Third",
         "child",
         "False",
         "G",
         "Southampton",
         "yes",
         "False"
        ],
        [
         "11",
         "1",
         "1",
         "female",
         "58.0",
         "0",
         "0",
         "26.55",
         "S",
         "First",
         "woman",
         "False",
         "C",
         "Southampton",
         "yes",
         "True"
        ],
        [
         "12",
         "0",
         "3",
         "male",
         "20.0",
         "0",
         "0",
         "8.05",
         "S",
         "Third",
         "man",
         "True",
         null,
         "Southampton",
         "no",
         "True"
        ],
        [
         "13",
         "0",
         "3",
         "male",
         "39.0",
         "1",
         "5",
         "31.275",
         "S",
         "Third",
         "man",
         "True",
         null,
         "Southampton",
         "no",
         "False"
        ],
        [
         "14",
         "0",
         "3",
         "female",
         "14.0",
         "0",
         "0",
         "7.8542",
         "S",
         "Third",
         "child",
         "False",
         null,
         "Southampton",
         "no",
         "True"
        ],
        [
         "15",
         "1",
         "2",
         "female",
         "55.0",
         "0",
         "0",
         "16.0",
         "S",
         "Second",
         "woman",
         "False",
         null,
         "Southampton",
         "yes",
         "True"
        ],
        [
         "16",
         "0",
         "3",
         "male",
         "2.0",
         "4",
         "1",
         "29.125",
         "Q",
         "Third",
         "child",
         "False",
         null,
         "Queenstown",
         "no",
         "False"
        ],
        [
         "17",
         "1",
         "2",
         "male",
         null,
         "0",
         "0",
         "13.0",
         "S",
         "Second",
         "man",
         "True",
         null,
         "Southampton",
         "yes",
         "True"
        ],
        [
         "18",
         "0",
         "3",
         "female",
         "31.0",
         "1",
         "0",
         "18.0",
         "S",
         "Third",
         "woman",
         "False",
         null,
         "Southampton",
         "no",
         "False"
        ],
        [
         "20",
         "0",
         "2",
         "male",
         "35.0",
         "0",
         "0",
         "26.0",
         "S",
         "Second",
         "man",
         "True",
         null,
         "Southampton",
         "no",
         "True"
        ],
        [
         "21",
         "1",
         "2",
         "male",
         "34.0",
         "0",
         "0",
         "13.0",
         "S",
         "Second",
         "man",
         "True",
         "D",
         "Southampton",
         "yes",
         "True"
        ],
        [
         "22",
         "1",
         "3",
         "female",
         "15.0",
         "0",
         "0",
         "8.0292",
         "Q",
         "Third",
         "child",
         "False",
         null,
         "Queenstown",
         "yes",
         "True"
        ],
        [
         "23",
         "1",
         "1",
         "male",
         "28.0",
         "0",
         "0",
         "35.5",
         "S",
         "First",
         "man",
         "True",
         "A",
         "Southampton",
         "yes",
         "True"
        ],
        [
         "24",
         "0",
         "3",
         "female",
         "8.0",
         "3",
         "1",
         "21.075",
         "S",
         "Third",
         "child",
         "False",
         null,
         "Southampton",
         "no",
         "False"
        ],
        [
         "25",
         "1",
         "3",
         "female",
         "38.0",
         "1",
         "5",
         "31.3875",
         "S",
         "Third",
         "woman",
         "False",
         null,
         "Southampton",
         "yes",
         "False"
        ],
        [
         "27",
         "0",
         "1",
         "male",
         "19.0",
         "3",
         "2",
         "263.0",
         "S",
         "First",
         "man",
         "True",
         "C",
         "Southampton",
         "no",
         "False"
        ],
        [
         "28",
         "1",
         "3",
         "female",
         null,
         "0",
         "0",
         "7.8792",
         "Q",
         "Third",
         "woman",
         "False",
         null,
         "Queenstown",
         "yes",
         "True"
        ],
        [
         "29",
         "0",
         "3",
         "male",
         null,
         "0",
         "0",
         "7.8958",
         "S",
         "Third",
         "man",
         "True",
         null,
         "Southampton",
         "no",
         "True"
        ],
        [
         "32",
         "1",
         "3",
         "female",
         null,
         "0",
         "0",
         "7.75",
         "Q",
         "Third",
         "woman",
         "False",
         null,
         "Queenstown",
         "yes",
         "True"
        ],
        [
         "33",
         "0",
         "2",
         "male",
         "66.0",
         "0",
         "0",
         "10.5",
         "S",
         "Second",
         "man",
         "True",
         null,
         "Southampton",
         "no",
         "True"
        ],
        [
         "35",
         "0",
         "1",
         "male",
         "42.0",
         "1",
         "0",
         "52.0",
         "S",
         "First",
         "man",
         "True",
         null,
         "Southampton",
         "no",
         "False"
        ],
        [
         "37",
         "0",
         "3",
         "male",
         "21.0",
         "0",
         "0",
         "8.05",
         "S",
         "Third",
         "man",
         "True",
         null,
         "Southampton",
         "no",
         "True"
        ],
        [
         "38",
         "0",
         "3",
         "female",
         "18.0",
         "2",
         "0",
         "18.0",
         "S",
         "Third",
         "woman",
         "False",
         null,
         "Southampton",
         "no",
         "False"
        ],
        [
         "40",
         "0",
         "3",
         "female",
         "40.0",
         "1",
         "0",
         "9.475",
         "S",
         "Third",
         "woman",
         "False",
         null,
         "Southampton",
         "no",
         "False"
        ],
        [
         "41",
         "0",
         "2",
         "female",
         "27.0",
         "1",
         "0",
         "21.0",
         "S",
         "Second",
         "woman",
         "False",
         null,
         "Southampton",
         "no",
         "False"
        ],
        [
         "44",
         "1",
         "3",
         "female",
         "19.0",
         "0",
         "0",
         "7.8792",
         "Q",
         "Third",
         "woman",
         "False",
         null,
         "Queenstown",
         "yes",
         "True"
        ],
        [
         "45",
         "0",
         "3",
         "male",
         null,
         "0",
         "0",
         "8.05",
         "S",
         "Third",
         "man",
         "True",
         null,
         "Southampton",
         "no",
         "True"
        ],
        [
         "46",
         "0",
         "3",
         "male",
         null,
         "1",
         "0",
         "15.5",
         "Q",
         "Third",
         "man",
         "True",
         null,
         "Queenstown",
         "no",
         "False"
        ],
        [
         "47",
         "1",
         "3",
         "female",
         null,
         "0",
         "0",
         "7.75",
         "Q",
         "Third",
         "woman",
         "False",
         null,
         "Queenstown",
         "yes",
         "True"
        ],
        [
         "49",
         "0",
         "3",
         "female",
         "18.0",
         "1",
         "0",
         "17.8",
         "S",
         "Third",
         "woman",
         "False",
         null,
         "Southampton",
         "no",
         "False"
        ],
        [
         "50",
         "0",
         "3",
         "male",
         "7.0",
         "4",
         "1",
         "39.6875",
         "S",
         "Third",
         "child",
         "False",
         null,
         "Southampton",
         "no",
         "False"
        ],
        [
         "51",
         "0",
         "3",
         "male",
         "21.0",
         "0",
         "0",
         "7.8",
         "S",
         "Third",
         "man",
         "True",
         null,
         "Southampton",
         "no",
         "True"
        ],
        [
         "53",
         "1",
         "2",
         "female",
         "29.0",
         "1",
         "0",
         "26.0",
         "S",
         "Second",
         "woman",
         "False",
         null,
         "Southampton",
         "yes",
         "False"
        ],
        [
         "55",
         "1",
         "1",
         "male",
         null,
         "0",
         "0",
         "35.5",
         "S",
         "First",
         "man",
         "True",
         "C",
         "Southampton",
         "yes",
         "True"
        ],
        [
         "56",
         "1",
         "2",
         "female",
         "21.0",
         "0",
         "0",
         "10.5",
         "S",
         "Second",
         "woman",
         "False",
         null,
         "Southampton",
         "yes",
         "True"
        ],
        [
         "58",
         "1",
         "2",
         "female",
         "5.0",
         "1",
         "2",
         "27.75",
         "S",
         "Second",
         "child",
         "False",
         null,
         "Southampton",
         "yes",
         "False"
        ],
        [
         "59",
         "0",
         "3",
         "male",
         "11.0",
         "5",
         "2",
         "46.9",
         "S",
         "Third",
         "child",
         "False",
         null,
         "Southampton",
         "no",
         "False"
        ],
        [
         "62",
         "0",
         "1",
         "male",
         "45.0",
         "1",
         "0",
         "83.475",
         "S",
         "First",
         "man",
         "True",
         "C",
         "Southampton",
         "no",
         "False"
        ],
        [
         "63",
         "0",
         "3",
         "male",
         "4.0",
         "3",
         "2",
         "27.9",
         "S",
         "Third",
         "child",
         "False",
         null,
         "Southampton",
         "no",
         "False"
        ],
        [
         "66",
         "1",
         "2",
         "female",
         "29.0",
         "0",
         "0",
         "10.5",
         "S",
         "Second",
         "woman",
         "False",
         "F",
         "Southampton",
         "yes",
         "True"
        ],
        [
         "67",
         "0",
         "3",
         "male",
         "19.0",
         "0",
         "0",
         "8.1583",
         "S",
         "Third",
         "man",
         "True",
         null,
         "Southampton",
         "no",
         "True"
        ],
        [
         "68",
         "1",
         "3",
         "female",
         "17.0",
         "4",
         "2",
         "7.925",
         "S",
         "Third",
         "woman",
         "False",
         null,
         "Southampton",
         "yes",
         "False"
        ]
       ],
       "shape": {
        "columns": 15,
        "rows": 721
       }
      },
      "text/html": [
       "<div>\n",
       "<style scoped>\n",
       "    .dataframe tbody tr th:only-of-type {\n",
       "        vertical-align: middle;\n",
       "    }\n",
       "\n",
       "    .dataframe tbody tr th {\n",
       "        vertical-align: top;\n",
       "    }\n",
       "\n",
       "    .dataframe thead th {\n",
       "        text-align: right;\n",
       "    }\n",
       "</style>\n",
       "<table border=\"1\" class=\"dataframe\">\n",
       "  <thead>\n",
       "    <tr style=\"text-align: right;\">\n",
       "      <th></th>\n",
       "      <th>survived</th>\n",
       "      <th>pclass</th>\n",
       "      <th>sex</th>\n",
       "      <th>age</th>\n",
       "      <th>sibsp</th>\n",
       "      <th>parch</th>\n",
       "      <th>fare</th>\n",
       "      <th>embarked</th>\n",
       "      <th>class</th>\n",
       "      <th>who</th>\n",
       "      <th>adult_male</th>\n",
       "      <th>deck</th>\n",
       "      <th>embark_town</th>\n",
       "      <th>alive</th>\n",
       "      <th>alone</th>\n",
       "    </tr>\n",
       "  </thead>\n",
       "  <tbody>\n",
       "    <tr>\n",
       "      <th>0</th>\n",
       "      <td>0</td>\n",
       "      <td>3</td>\n",
       "      <td>male</td>\n",
       "      <td>22.0</td>\n",
       "      <td>1</td>\n",
       "      <td>0</td>\n",
       "      <td>7.2500</td>\n",
       "      <td>S</td>\n",
       "      <td>Third</td>\n",
       "      <td>man</td>\n",
       "      <td>True</td>\n",
       "      <td>NaN</td>\n",
       "      <td>Southampton</td>\n",
       "      <td>no</td>\n",
       "      <td>False</td>\n",
       "    </tr>\n",
       "    <tr>\n",
       "      <th>2</th>\n",
       "      <td>1</td>\n",
       "      <td>3</td>\n",
       "      <td>female</td>\n",
       "      <td>26.0</td>\n",
       "      <td>0</td>\n",
       "      <td>0</td>\n",
       "      <td>7.9250</td>\n",
       "      <td>S</td>\n",
       "      <td>Third</td>\n",
       "      <td>woman</td>\n",
       "      <td>False</td>\n",
       "      <td>NaN</td>\n",
       "      <td>Southampton</td>\n",
       "      <td>yes</td>\n",
       "      <td>True</td>\n",
       "    </tr>\n",
       "    <tr>\n",
       "      <th>3</th>\n",
       "      <td>1</td>\n",
       "      <td>1</td>\n",
       "      <td>female</td>\n",
       "      <td>35.0</td>\n",
       "      <td>1</td>\n",
       "      <td>0</td>\n",
       "      <td>53.1000</td>\n",
       "      <td>S</td>\n",
       "      <td>First</td>\n",
       "      <td>woman</td>\n",
       "      <td>False</td>\n",
       "      <td>C</td>\n",
       "      <td>Southampton</td>\n",
       "      <td>yes</td>\n",
       "      <td>False</td>\n",
       "    </tr>\n",
       "    <tr>\n",
       "      <th>4</th>\n",
       "      <td>0</td>\n",
       "      <td>3</td>\n",
       "      <td>male</td>\n",
       "      <td>35.0</td>\n",
       "      <td>0</td>\n",
       "      <td>0</td>\n",
       "      <td>8.0500</td>\n",
       "      <td>S</td>\n",
       "      <td>Third</td>\n",
       "      <td>man</td>\n",
       "      <td>True</td>\n",
       "      <td>NaN</td>\n",
       "      <td>Southampton</td>\n",
       "      <td>no</td>\n",
       "      <td>True</td>\n",
       "    </tr>\n",
       "    <tr>\n",
       "      <th>5</th>\n",
       "      <td>0</td>\n",
       "      <td>3</td>\n",
       "      <td>male</td>\n",
       "      <td>NaN</td>\n",
       "      <td>0</td>\n",
       "      <td>0</td>\n",
       "      <td>8.4583</td>\n",
       "      <td>Q</td>\n",
       "      <td>Third</td>\n",
       "      <td>man</td>\n",
       "      <td>True</td>\n",
       "      <td>NaN</td>\n",
       "      <td>Queenstown</td>\n",
       "      <td>no</td>\n",
       "      <td>True</td>\n",
       "    </tr>\n",
       "    <tr>\n",
       "      <th>...</th>\n",
       "      <td>...</td>\n",
       "      <td>...</td>\n",
       "      <td>...</td>\n",
       "      <td>...</td>\n",
       "      <td>...</td>\n",
       "      <td>...</td>\n",
       "      <td>...</td>\n",
       "      <td>...</td>\n",
       "      <td>...</td>\n",
       "      <td>...</td>\n",
       "      <td>...</td>\n",
       "      <td>...</td>\n",
       "      <td>...</td>\n",
       "      <td>...</td>\n",
       "      <td>...</td>\n",
       "    </tr>\n",
       "    <tr>\n",
       "      <th>885</th>\n",
       "      <td>0</td>\n",
       "      <td>3</td>\n",
       "      <td>female</td>\n",
       "      <td>39.0</td>\n",
       "      <td>0</td>\n",
       "      <td>5</td>\n",
       "      <td>29.1250</td>\n",
       "      <td>Q</td>\n",
       "      <td>Third</td>\n",
       "      <td>woman</td>\n",
       "      <td>False</td>\n",
       "      <td>NaN</td>\n",
       "      <td>Queenstown</td>\n",
       "      <td>no</td>\n",
       "      <td>False</td>\n",
       "    </tr>\n",
       "    <tr>\n",
       "      <th>886</th>\n",
       "      <td>0</td>\n",
       "      <td>2</td>\n",
       "      <td>male</td>\n",
       "      <td>27.0</td>\n",
       "      <td>0</td>\n",
       "      <td>0</td>\n",
       "      <td>13.0000</td>\n",
       "      <td>S</td>\n",
       "      <td>Second</td>\n",
       "      <td>man</td>\n",
       "      <td>True</td>\n",
       "      <td>NaN</td>\n",
       "      <td>Southampton</td>\n",
       "      <td>no</td>\n",
       "      <td>True</td>\n",
       "    </tr>\n",
       "    <tr>\n",
       "      <th>887</th>\n",
       "      <td>1</td>\n",
       "      <td>1</td>\n",
       "      <td>female</td>\n",
       "      <td>19.0</td>\n",
       "      <td>0</td>\n",
       "      <td>0</td>\n",
       "      <td>30.0000</td>\n",
       "      <td>S</td>\n",
       "      <td>First</td>\n",
       "      <td>woman</td>\n",
       "      <td>False</td>\n",
       "      <td>B</td>\n",
       "      <td>Southampton</td>\n",
       "      <td>yes</td>\n",
       "      <td>True</td>\n",
       "    </tr>\n",
       "    <tr>\n",
       "      <th>888</th>\n",
       "      <td>0</td>\n",
       "      <td>3</td>\n",
       "      <td>female</td>\n",
       "      <td>NaN</td>\n",
       "      <td>1</td>\n",
       "      <td>2</td>\n",
       "      <td>23.4500</td>\n",
       "      <td>S</td>\n",
       "      <td>Third</td>\n",
       "      <td>woman</td>\n",
       "      <td>False</td>\n",
       "      <td>NaN</td>\n",
       "      <td>Southampton</td>\n",
       "      <td>no</td>\n",
       "      <td>False</td>\n",
       "    </tr>\n",
       "    <tr>\n",
       "      <th>890</th>\n",
       "      <td>0</td>\n",
       "      <td>3</td>\n",
       "      <td>male</td>\n",
       "      <td>32.0</td>\n",
       "      <td>0</td>\n",
       "      <td>0</td>\n",
       "      <td>7.7500</td>\n",
       "      <td>Q</td>\n",
       "      <td>Third</td>\n",
       "      <td>man</td>\n",
       "      <td>True</td>\n",
       "      <td>NaN</td>\n",
       "      <td>Queenstown</td>\n",
       "      <td>no</td>\n",
       "      <td>True</td>\n",
       "    </tr>\n",
       "  </tbody>\n",
       "</table>\n",
       "<p>721 rows × 15 columns</p>\n",
       "</div>"
      ],
      "text/plain": [
       "     survived  pclass     sex   age  sibsp  parch     fare embarked   class  \\\n",
       "0           0       3    male  22.0      1      0   7.2500        S   Third   \n",
       "2           1       3  female  26.0      0      0   7.9250        S   Third   \n",
       "3           1       1  female  35.0      1      0  53.1000        S   First   \n",
       "4           0       3    male  35.0      0      0   8.0500        S   Third   \n",
       "5           0       3    male   NaN      0      0   8.4583        Q   Third   \n",
       "..        ...     ...     ...   ...    ...    ...      ...      ...     ...   \n",
       "885         0       3  female  39.0      0      5  29.1250        Q   Third   \n",
       "886         0       2    male  27.0      0      0  13.0000        S  Second   \n",
       "887         1       1  female  19.0      0      0  30.0000        S   First   \n",
       "888         0       3  female   NaN      1      2  23.4500        S   Third   \n",
       "890         0       3    male  32.0      0      0   7.7500        Q   Third   \n",
       "\n",
       "       who  adult_male deck  embark_town alive  alone  \n",
       "0      man        True  NaN  Southampton    no  False  \n",
       "2    woman       False  NaN  Southampton   yes   True  \n",
       "3    woman       False    C  Southampton   yes  False  \n",
       "4      man        True  NaN  Southampton    no   True  \n",
       "5      man        True  NaN   Queenstown    no   True  \n",
       "..     ...         ...  ...          ...   ...    ...  \n",
       "885  woman       False  NaN   Queenstown    no  False  \n",
       "886    man        True  NaN  Southampton    no   True  \n",
       "887  woman       False    B  Southampton   yes   True  \n",
       "888  woman       False  NaN  Southampton    no  False  \n",
       "890    man        True  NaN   Queenstown    no   True  \n",
       "\n",
       "[721 rows x 15 columns]"
      ]
     },
     "execution_count": 134,
     "metadata": {},
     "output_type": "execute_result"
    }
   ],
   "source": [
    "isin_filters = titanic['embark_town'].isin(['Southampton','Queenstown']) # isin 조건에 만족하는 것('Southampton or Queenstown)을 True , False로 나눔\n",
    "\n",
    "titanic[isin_filters]"
   ]
  },
  {
   "cell_type": "markdown",
   "id": "2b4548b7",
   "metadata": {},
   "source": [
    "문제9) 필터링에서 불린 인덱싱 문제입니다\n",
    "\n",
    "블린 인덱싱은 조건에 맞는 데이터를 빠르게 추출할 때 매우 유용합니다\n",
    "\n",
    "나이 기준으로 필터링하기\n",
    "\n",
    "다음은 여러 사람의 나이 데이터입니다."
   ]
  },
  {
   "cell_type": "code",
   "execution_count": null,
   "id": "7e9c5677",
   "metadata": {},
   "outputs": [
    {
     "data": {
      "application/vnd.microsoft.datawrangler.viewer.v0+json": {
       "columns": [
        {
         "name": "index",
         "rawType": "int64",
         "type": "integer"
        },
        {
         "name": "이름",
         "rawType": "object",
         "type": "string"
        },
        {
         "name": "나이",
         "rawType": "int64",
         "type": "integer"
        }
       ],
       "conversionMethod": "pd.DataFrame",
       "ref": "8c72e847-12a3-494f-8cd8-44ed722ee2a3",
       "rows": [
        [
         "0",
         "김철수",
         "25"
        ],
        [
         "1",
         "이영희",
         "32"
        ],
        [
         "2",
         "박민수",
         "40"
        ],
        [
         "3",
         "정수현",
         "28"
        ],
        [
         "4",
         "송지혜",
         "35"
        ]
       ],
       "shape": {
        "columns": 2,
        "rows": 5
       }
      },
      "text/html": [
       "<div>\n",
       "<style scoped>\n",
       "    .dataframe tbody tr th:only-of-type {\n",
       "        vertical-align: middle;\n",
       "    }\n",
       "\n",
       "    .dataframe tbody tr th {\n",
       "        vertical-align: top;\n",
       "    }\n",
       "\n",
       "    .dataframe thead th {\n",
       "        text-align: right;\n",
       "    }\n",
       "</style>\n",
       "<table border=\"1\" class=\"dataframe\">\n",
       "  <thead>\n",
       "    <tr style=\"text-align: right;\">\n",
       "      <th></th>\n",
       "      <th>이름</th>\n",
       "      <th>나이</th>\n",
       "    </tr>\n",
       "  </thead>\n",
       "  <tbody>\n",
       "    <tr>\n",
       "      <th>0</th>\n",
       "      <td>김철수</td>\n",
       "      <td>25</td>\n",
       "    </tr>\n",
       "    <tr>\n",
       "      <th>1</th>\n",
       "      <td>이영희</td>\n",
       "      <td>32</td>\n",
       "    </tr>\n",
       "    <tr>\n",
       "      <th>2</th>\n",
       "      <td>박민수</td>\n",
       "      <td>40</td>\n",
       "    </tr>\n",
       "    <tr>\n",
       "      <th>3</th>\n",
       "      <td>정수현</td>\n",
       "      <td>28</td>\n",
       "    </tr>\n",
       "    <tr>\n",
       "      <th>4</th>\n",
       "      <td>송지혜</td>\n",
       "      <td>35</td>\n",
       "    </tr>\n",
       "  </tbody>\n",
       "</table>\n",
       "</div>"
      ],
      "text/plain": [
       "    이름  나이\n",
       "0  김철수  25\n",
       "1  이영희  32\n",
       "2  박민수  40\n",
       "3  정수현  28\n",
       "4  송지혜  35"
      ]
     },
     "execution_count": 139,
     "metadata": {},
     "output_type": "execute_result"
    }
   ],
   "source": [
    "person = pd.DataFrame({'이름':['김철수', '이영희', '박민수', '정수현', '송지혜'],\n",
    "                       '나이':[25, 32, 40, 28, 35]})\n",
    "\n",
    "person"
   ]
  },
  {
   "cell_type": "markdown",
   "id": "0aef7ecd",
   "metadata": {},
   "source": [
    "요구사항\n",
    "\n",
    "나이가 30세 이상인 사람들만 필터링해서 출력하세요."
   ]
  },
  {
   "cell_type": "code",
   "execution_count": null,
   "id": "5f5361f7",
   "metadata": {},
   "outputs": [
    {
     "data": {
      "application/vnd.microsoft.datawrangler.viewer.v0+json": {
       "columns": [
        {
         "name": "index",
         "rawType": "int64",
         "type": "integer"
        },
        {
         "name": "이름",
         "rawType": "object",
         "type": "string"
        },
        {
         "name": "나이",
         "rawType": "int64",
         "type": "integer"
        }
       ],
       "conversionMethod": "pd.DataFrame",
       "ref": "060acbe2-3812-481c-bde5-136778cc4c81",
       "rows": [
        [
         "1",
         "이영희",
         "32"
        ],
        [
         "2",
         "박민수",
         "40"
        ],
        [
         "4",
         "송지혜",
         "35"
        ]
       ],
       "shape": {
        "columns": 2,
        "rows": 3
       }
      },
      "text/html": [
       "<div>\n",
       "<style scoped>\n",
       "    .dataframe tbody tr th:only-of-type {\n",
       "        vertical-align: middle;\n",
       "    }\n",
       "\n",
       "    .dataframe tbody tr th {\n",
       "        vertical-align: top;\n",
       "    }\n",
       "\n",
       "    .dataframe thead th {\n",
       "        text-align: right;\n",
       "    }\n",
       "</style>\n",
       "<table border=\"1\" class=\"dataframe\">\n",
       "  <thead>\n",
       "    <tr style=\"text-align: right;\">\n",
       "      <th></th>\n",
       "      <th>이름</th>\n",
       "      <th>나이</th>\n",
       "    </tr>\n",
       "  </thead>\n",
       "  <tbody>\n",
       "    <tr>\n",
       "      <th>1</th>\n",
       "      <td>이영희</td>\n",
       "      <td>32</td>\n",
       "    </tr>\n",
       "    <tr>\n",
       "      <th>2</th>\n",
       "      <td>박민수</td>\n",
       "      <td>40</td>\n",
       "    </tr>\n",
       "    <tr>\n",
       "      <th>4</th>\n",
       "      <td>송지혜</td>\n",
       "      <td>35</td>\n",
       "    </tr>\n",
       "  </tbody>\n",
       "</table>\n",
       "</div>"
      ],
      "text/plain": [
       "    이름  나이\n",
       "1  이영희  32\n",
       "2  박민수  40\n",
       "4  송지혜  35"
      ]
     },
     "execution_count": 142,
     "metadata": {},
     "output_type": "execute_result"
    }
   ],
   "source": [
    "over_30 = person.나이 >= 30\n",
    "\n",
    "person[over_30]"
   ]
  },
  {
   "cell_type": "markdown",
   "id": "1dd5fbfb",
   "metadata": {},
   "source": [
    "문제10) query() 메소드를 이용한 필터링 문제입니다\n",
    "\n",
    "​가격 범위로 상품 필터링하기\n",
    "\n",
    "다음은 상품 가격과 관련된 데이터프레임입니다."
   ]
  },
  {
   "cell_type": "code",
   "execution_count": null,
   "id": "3bc545c2",
   "metadata": {},
   "outputs": [
    {
     "data": {
      "application/vnd.microsoft.datawrangler.viewer.v0+json": {
       "columns": [
        {
         "name": "index",
         "rawType": "int64",
         "type": "integer"
        },
        {
         "name": "상품명",
         "rawType": "object",
         "type": "string"
        },
        {
         "name": "가격(원)",
         "rawType": "int64",
         "type": "integer"
        }
       ],
       "conversionMethod": "pd.DataFrame",
       "ref": "c5b52e23-62ad-4592-af16-58f0cc0b7630",
       "rows": [
        [
         "0",
         "키보드",
         "30000"
        ],
        [
         "1",
         "마우스",
         "15000"
        ],
        [
         "2",
         "모니터",
         "200000"
        ],
        [
         "3",
         "헤드셋",
         "80000"
        ],
        [
         "4",
         "웹캠",
         "120000"
        ]
       ],
       "shape": {
        "columns": 2,
        "rows": 5
       }
      },
      "text/html": [
       "<div>\n",
       "<style scoped>\n",
       "    .dataframe tbody tr th:only-of-type {\n",
       "        vertical-align: middle;\n",
       "    }\n",
       "\n",
       "    .dataframe tbody tr th {\n",
       "        vertical-align: top;\n",
       "    }\n",
       "\n",
       "    .dataframe thead th {\n",
       "        text-align: right;\n",
       "    }\n",
       "</style>\n",
       "<table border=\"1\" class=\"dataframe\">\n",
       "  <thead>\n",
       "    <tr style=\"text-align: right;\">\n",
       "      <th></th>\n",
       "      <th>상품명</th>\n",
       "      <th>가격(원)</th>\n",
       "    </tr>\n",
       "  </thead>\n",
       "  <tbody>\n",
       "    <tr>\n",
       "      <th>0</th>\n",
       "      <td>키보드</td>\n",
       "      <td>30000</td>\n",
       "    </tr>\n",
       "    <tr>\n",
       "      <th>1</th>\n",
       "      <td>마우스</td>\n",
       "      <td>15000</td>\n",
       "    </tr>\n",
       "    <tr>\n",
       "      <th>2</th>\n",
       "      <td>모니터</td>\n",
       "      <td>200000</td>\n",
       "    </tr>\n",
       "    <tr>\n",
       "      <th>3</th>\n",
       "      <td>헤드셋</td>\n",
       "      <td>80000</td>\n",
       "    </tr>\n",
       "    <tr>\n",
       "      <th>4</th>\n",
       "      <td>웹캠</td>\n",
       "      <td>120000</td>\n",
       "    </tr>\n",
       "  </tbody>\n",
       "</table>\n",
       "</div>"
      ],
      "text/plain": [
       "   상품명   가격(원)\n",
       "0  키보드   30000\n",
       "1  마우스   15000\n",
       "2  모니터  200000\n",
       "3  헤드셋   80000\n",
       "4   웹캠  120000"
      ]
     },
     "execution_count": 151,
     "metadata": {},
     "output_type": "execute_result"
    }
   ],
   "source": [
    "item = pd.DataFrame({'상품명':['키보드','마우스','모니터','헤드셋','웹캠'],\n",
    "                     '가격(원)':[30000, 15000, 200000, 80000, 120000]})\n",
    "\n",
    "item"
   ]
  },
  {
   "cell_type": "markdown",
   "id": "560dcb82",
   "metadata": {},
   "source": [
    "요구사항\n",
    "\n",
    "가격이 30,000원 이상 100,000원 이하인 상품만 필터링하여 출력하세요."
   ]
  },
  {
   "cell_type": "code",
   "execution_count": null,
   "id": "fd889140",
   "metadata": {},
   "outputs": [
    {
     "data": {
      "application/vnd.microsoft.datawrangler.viewer.v0+json": {
       "columns": [
        {
         "name": "index",
         "rawType": "int64",
         "type": "integer"
        },
        {
         "name": "상품명",
         "rawType": "object",
         "type": "string"
        },
        {
         "name": "가격(원)",
         "rawType": "int64",
         "type": "integer"
        }
       ],
       "conversionMethod": "pd.DataFrame",
       "ref": "549594f7-13c6-4ece-b536-30e9874829c5",
       "rows": [
        [
         "0",
         "키보드",
         "30000"
        ],
        [
         "3",
         "헤드셋",
         "80000"
        ]
       ],
       "shape": {
        "columns": 2,
        "rows": 2
       }
      },
      "text/html": [
       "<div>\n",
       "<style scoped>\n",
       "    .dataframe tbody tr th:only-of-type {\n",
       "        vertical-align: middle;\n",
       "    }\n",
       "\n",
       "    .dataframe tbody tr th {\n",
       "        vertical-align: top;\n",
       "    }\n",
       "\n",
       "    .dataframe thead th {\n",
       "        text-align: right;\n",
       "    }\n",
       "</style>\n",
       "<table border=\"1\" class=\"dataframe\">\n",
       "  <thead>\n",
       "    <tr style=\"text-align: right;\">\n",
       "      <th></th>\n",
       "      <th>상품명</th>\n",
       "      <th>가격(원)</th>\n",
       "    </tr>\n",
       "  </thead>\n",
       "  <tbody>\n",
       "    <tr>\n",
       "      <th>0</th>\n",
       "      <td>키보드</td>\n",
       "      <td>30000</td>\n",
       "    </tr>\n",
       "    <tr>\n",
       "      <th>3</th>\n",
       "      <td>헤드셋</td>\n",
       "      <td>80000</td>\n",
       "    </tr>\n",
       "  </tbody>\n",
       "</table>\n",
       "</div>"
      ],
      "text/plain": [
       "   상품명  가격(원)\n",
       "0  키보드  30000\n",
       "3  헤드셋  80000"
      ]
     },
     "execution_count": 152,
     "metadata": {},
     "output_type": "execute_result"
    }
   ],
   "source": [
    "mask = (item['가격(원)'] >= 30000) & (item['가격(원)'] <= 100000)\n",
    "\n",
    "item[mask]"
   ]
  },
  {
   "cell_type": "code",
   "execution_count": null,
   "id": "83dd7219",
   "metadata": {},
   "outputs": [],
   "source": [
    "# 문제10\n",
    "df = pd.DataFrame( {'상품명': ['키보드','마우스','모니터', '헤드셋','웹캠'], \n",
    "                   '가격(원)':[300000, 500000, 1500000, 80000, 120000] } )\n",
    "df=df.rename( columns = {'가격(원)': '가격'} )\n",
    "# df = df.rename(columns={'A': 'Alpha', 'B': 'Beta'})\n",
    "df.query( '가격 >= 30000 and 가격 <= 100000' )"
   ]
  },
  {
   "cell_type": "markdown",
   "id": "b47f4c9c",
   "metadata": {},
   "source": [
    "문제11) isin() 메소드를 이용한 문제입니다\n",
    "\n",
    "isin()은 특정 값들이 존재하는지 확인하고 필터링할 때 정말 유용한 메소드입니다\n",
    "\n",
    "​특정 상품들만 필터링하기\n",
    "\n",
    "다음은 다양한 상품들의 데이터입니다."
   ]
  },
  {
   "cell_type": "code",
   "execution_count": null,
   "id": "a414baca",
   "metadata": {},
   "outputs": [
    {
     "data": {
      "application/vnd.microsoft.datawrangler.viewer.v0+json": {
       "columns": [
        {
         "name": "index",
         "rawType": "int64",
         "type": "integer"
        },
        {
         "name": "상품명",
         "rawType": "object",
         "type": "string"
        },
        {
         "name": "가격(원)",
         "rawType": "int64",
         "type": "integer"
        }
       ],
       "conversionMethod": "pd.DataFrame",
       "ref": "3e68a40a-cb25-47f9-a844-939594c2f520",
       "rows": [
        [
         "0",
         "키보드",
         "30000"
        ],
        [
         "1",
         "마우스",
         "15000"
        ],
        [
         "2",
         "모니터",
         "200000"
        ],
        [
         "3",
         "헤드셋",
         "80000"
        ],
        [
         "4",
         "웹캠",
         "120000"
        ],
        [
         "5",
         "이어폰",
         "25000"
        ]
       ],
       "shape": {
        "columns": 2,
        "rows": 6
       }
      },
      "text/html": [
       "<div>\n",
       "<style scoped>\n",
       "    .dataframe tbody tr th:only-of-type {\n",
       "        vertical-align: middle;\n",
       "    }\n",
       "\n",
       "    .dataframe tbody tr th {\n",
       "        vertical-align: top;\n",
       "    }\n",
       "\n",
       "    .dataframe thead th {\n",
       "        text-align: right;\n",
       "    }\n",
       "</style>\n",
       "<table border=\"1\" class=\"dataframe\">\n",
       "  <thead>\n",
       "    <tr style=\"text-align: right;\">\n",
       "      <th></th>\n",
       "      <th>상품명</th>\n",
       "      <th>가격(원)</th>\n",
       "    </tr>\n",
       "  </thead>\n",
       "  <tbody>\n",
       "    <tr>\n",
       "      <th>0</th>\n",
       "      <td>키보드</td>\n",
       "      <td>30000</td>\n",
       "    </tr>\n",
       "    <tr>\n",
       "      <th>1</th>\n",
       "      <td>마우스</td>\n",
       "      <td>15000</td>\n",
       "    </tr>\n",
       "    <tr>\n",
       "      <th>2</th>\n",
       "      <td>모니터</td>\n",
       "      <td>200000</td>\n",
       "    </tr>\n",
       "    <tr>\n",
       "      <th>3</th>\n",
       "      <td>헤드셋</td>\n",
       "      <td>80000</td>\n",
       "    </tr>\n",
       "    <tr>\n",
       "      <th>4</th>\n",
       "      <td>웹캠</td>\n",
       "      <td>120000</td>\n",
       "    </tr>\n",
       "    <tr>\n",
       "      <th>5</th>\n",
       "      <td>이어폰</td>\n",
       "      <td>25000</td>\n",
       "    </tr>\n",
       "  </tbody>\n",
       "</table>\n",
       "</div>"
      ],
      "text/plain": [
       "   상품명   가격(원)\n",
       "0  키보드   30000\n",
       "1  마우스   15000\n",
       "2  모니터  200000\n",
       "3  헤드셋   80000\n",
       "4   웹캠  120000\n",
       "5  이어폰   25000"
      ]
     },
     "execution_count": 156,
     "metadata": {},
     "output_type": "execute_result"
    }
   ],
   "source": [
    "item = pd.DataFrame({'상품명':['키보드', '마우스', '모니터', '헤드셋', '웹캠', '이어폰'],\n",
    "                     '가격(원)':[30000, 15000, 200000, 80000, 120000, 25000]})\n",
    "item"
   ]
  },
  {
   "cell_type": "markdown",
   "id": "5116d9b5",
   "metadata": {},
   "source": [
    "문제:\n",
    "\n",
    "'키보드', '마우스', '웹캠' 상품만 필터링하여 출력하세요.\n",
    "\n",
    "isin() 메소드를 활용해 필터링할 수 있습니다."
   ]
  },
  {
   "cell_type": "code",
   "execution_count": null,
   "id": "ddf7f60b",
   "metadata": {},
   "outputs": [
    {
     "data": {
      "application/vnd.microsoft.datawrangler.viewer.v0+json": {
       "columns": [
        {
         "name": "index",
         "rawType": "int64",
         "type": "integer"
        },
        {
         "name": "상품명",
         "rawType": "object",
         "type": "string"
        },
        {
         "name": "가격(원)",
         "rawType": "int64",
         "type": "integer"
        }
       ],
       "conversionMethod": "pd.DataFrame",
       "ref": "d9eebf8d-8a4f-48df-a523-83e2266828b8",
       "rows": [
        [
         "0",
         "키보드",
         "30000"
        ],
        [
         "1",
         "마우스",
         "15000"
        ],
        [
         "4",
         "웹캠",
         "120000"
        ]
       ],
       "shape": {
        "columns": 2,
        "rows": 3
       }
      },
      "text/html": [
       "<div>\n",
       "<style scoped>\n",
       "    .dataframe tbody tr th:only-of-type {\n",
       "        vertical-align: middle;\n",
       "    }\n",
       "\n",
       "    .dataframe tbody tr th {\n",
       "        vertical-align: top;\n",
       "    }\n",
       "\n",
       "    .dataframe thead th {\n",
       "        text-align: right;\n",
       "    }\n",
       "</style>\n",
       "<table border=\"1\" class=\"dataframe\">\n",
       "  <thead>\n",
       "    <tr style=\"text-align: right;\">\n",
       "      <th></th>\n",
       "      <th>상품명</th>\n",
       "      <th>가격(원)</th>\n",
       "    </tr>\n",
       "  </thead>\n",
       "  <tbody>\n",
       "    <tr>\n",
       "      <th>0</th>\n",
       "      <td>키보드</td>\n",
       "      <td>30000</td>\n",
       "    </tr>\n",
       "    <tr>\n",
       "      <th>1</th>\n",
       "      <td>마우스</td>\n",
       "      <td>15000</td>\n",
       "    </tr>\n",
       "    <tr>\n",
       "      <th>4</th>\n",
       "      <td>웹캠</td>\n",
       "      <td>120000</td>\n",
       "    </tr>\n",
       "  </tbody>\n",
       "</table>\n",
       "</div>"
      ],
      "text/plain": [
       "   상품명   가격(원)\n",
       "0  키보드   30000\n",
       "1  마우스   15000\n",
       "4   웹캠  120000"
      ]
     },
     "execution_count": 158,
     "metadata": {},
     "output_type": "execute_result"
    }
   ],
   "source": [
    "mask = item['상품명'].isin(['키보드', '마우스', '웹캠'])\n",
    "item[mask]"
   ]
  },
  {
   "cell_type": "code",
   "execution_count": null,
   "id": "5f8de181",
   "metadata": {},
   "outputs": [
    {
     "name": "stdout",
     "output_type": "stream",
     "text": [
      "object\n",
      "     이름\n",
      "0    철수\n",
      "1    영희\n",
      "2  None\n",
      "string\n",
      "     이름\n",
      "0    철수\n",
      "1    영희\n",
      "2  <NA>\n"
     ]
    }
   ],
   "source": [
    "import pandas as pd\n",
    "import numpy as np\n",
    "\n",
    "# object dtype\n",
    "df1 = pd.DataFrame({'이름': ['철수', '영희', None]}, dtype='object') # 자동으로 None = np.nan 작동\n",
    "# dtype='object'는 기본이기 때문에 생략할 수 있다\n",
    "print(df1['이름'].dtype)  # object\n",
    "print(df1)\n",
    "# StringDtype\n",
    "df2 = pd.DataFrame({'이름': ['철수', '영희', None]}, dtype='string') #자동으로 None = pd.NA로 작동\n",
    "print(df2['이름'].dtype)  # string[python]\n",
    "print(df2)\n",
    "\n"
   ]
  },
  {
   "cell_type": "code",
   "execution_count": null,
   "id": "9532aa18",
   "metadata": {},
   "outputs": [
    {
     "name": "stdout",
     "output_type": "stream",
     "text": [
      "0    False\n",
      "1    False\n",
      "2     True\n",
      "Name: 이름, dtype: bool\n"
     ]
    }
   ],
   "source": [
    "print(df1['이름'].isna())  # object: np.nan"
   ]
  },
  {
   "cell_type": "code",
   "execution_count": null,
   "id": "a4d56e31",
   "metadata": {},
   "outputs": [
    {
     "name": "stdout",
     "output_type": "stream",
     "text": [
      "0    False\n",
      "1    False\n",
      "2     True\n",
      "Name: 이름, dtype: bool\n"
     ]
    }
   ],
   "source": [
    "print(df2['이름'].isna())  # string: pd.NA 사용"
   ]
  },
  {
   "cell_type": "code",
   "execution_count": null,
   "id": "e17b3410",
   "metadata": {},
   "outputs": [
    {
     "data": {
      "text/plain": [
       "0     Apple\n",
       "1    Banana\n",
       "2    Cherry\n",
       "dtype: object"
      ]
     },
     "execution_count": 13,
     "metadata": {},
     "output_type": "execute_result"
    }
   ],
   "source": [
    "fruit_names = pd.Series([\"Apple\", \"Banana\", \"Cherry\"])\n",
    "fruit_names"
   ]
  },
  {
   "cell_type": "code",
   "execution_count": null,
   "id": "a812ebdb",
   "metadata": {},
   "outputs": [
    {
     "data": {
      "text/plain": [
       "0     Apple\n",
       "1    Banana\n",
       "2    Cherry\n",
       "dtype: string"
      ]
     },
     "execution_count": 10,
     "metadata": {},
     "output_type": "execute_result"
    }
   ],
   "source": [
    "fruit_names = pd.Series([\"Apple\", \"Banana\", \"Cherry\"], dtype=\"string\")\n",
    "fruit_names"
   ]
  },
  {
   "cell_type": "code",
   "execution_count": null,
   "id": "c0054f94",
   "metadata": {},
   "outputs": [
    {
     "data": {
      "text/plain": [
       "0     Apple\n",
       "1    Banana\n",
       "2    Cherry\n",
       "dtype: string"
      ]
     },
     "execution_count": 11,
     "metadata": {},
     "output_type": "execute_result"
    }
   ],
   "source": [
    "fruit_names = pd.Series([\"Apple\", \"Banana\", \"Cherry\"], dtype=pd.StringDtype())\n",
    "fruit_names"
   ]
  },
  {
   "cell_type": "code",
   "execution_count": null,
   "id": "228f7e0a",
   "metadata": {},
   "outputs": [
    {
     "data": {
      "text/plain": [
       "0     Apple\n",
       "1    Banana\n",
       "2    Cherry\n",
       "dtype: string"
      ]
     },
     "execution_count": 17,
     "metadata": {},
     "output_type": "execute_result"
    }
   ],
   "source": [
    "fruit_names = fruit_names.astype('string') #dtype를 string으로 바꿀 때 쓰는 명령어\n",
    "fruit_names"
   ]
  },
  {
   "cell_type": "code",
   "execution_count": null,
   "id": "eeacccae",
   "metadata": {},
   "outputs": [
    {
     "data": {
      "text/plain": [
       "0     Apple\n",
       "1    Banana\n",
       "2    Cherry\n",
       "dtype: object"
      ]
     },
     "execution_count": 18,
     "metadata": {},
     "output_type": "execute_result"
    }
   ],
   "source": [
    "fruit_names = fruit_names.astype('object')\n",
    "fruit_names\n"
   ]
  },
  {
   "cell_type": "code",
   "execution_count": null,
   "id": "0f32a1e6",
   "metadata": {},
   "outputs": [
    {
     "data": {
      "text/plain": [
       "First       Apple_사과\n",
       "Second    Banana_바나나\n",
       "Third      Cherry_체리\n",
       "Fourth           NaN\n",
       "dtype: object"
      ]
     },
     "execution_count": 24,
     "metadata": {},
     "output_type": "execute_result"
    }
   ],
   "source": [
    "import pandas as pd\n",
    "import numpy as np\n",
    "\n",
    "ser_obj = pd.Series({'First':'Apple_사과',\n",
    "                 'Second':'Banana_바나나',\n",
    "                 'Third':'Cherry_체리',\n",
    "                 'Fourth':np.nan})\n",
    "\n",
    "ser_obj"
   ]
  },
  {
   "cell_type": "code",
   "execution_count": null,
   "id": "4dcbb6b4",
   "metadata": {},
   "outputs": [
    {
     "data": {
      "text/plain": [
       "First        Apple_사과\n",
       " Second    Banana_바나나\n",
       " Third      Cherry_체리\n",
       "Fourth           <NA>\n",
       "dtype: string"
      ]
     },
     "execution_count": 25,
     "metadata": {},
     "output_type": "execute_result"
    }
   ],
   "source": [
    "ser_str = pd.Series([\"Apple_사과\", \"Banana_바나나\", \"Cherry_체리\", np.nan],\n",
    "               index=[\"First \", \" Second\", \" Third\", \"Fourth\"], dtype='string')\n",
    "ser_str"
   ]
  },
  {
   "cell_type": "code",
   "execution_count": null,
   "id": "83120aee",
   "metadata": {},
   "outputs": [
    {
     "data": {
      "text/plain": [
       "First       apple_사과\n",
       "Second    banana_바나나\n",
       "Third      cherry_체리\n",
       "Fourth           NaN\n",
       "dtype: object"
      ]
     },
     "execution_count": 27,
     "metadata": {},
     "output_type": "execute_result"
    }
   ],
   "source": [
    "ser_obj.str.lower()"
   ]
  },
  {
   "cell_type": "code",
   "execution_count": null,
   "id": "598fc804",
   "metadata": {},
   "outputs": [
    {
     "data": {
      "text/plain": [
       "First        apple_사과\n",
       " Second    banana_바나나\n",
       " Third      cherry_체리\n",
       "Fourth           <NA>\n",
       "dtype: string"
      ]
     },
     "execution_count": 28,
     "metadata": {},
     "output_type": "execute_result"
    }
   ],
   "source": [
    "ser_str.str.lower()"
   ]
  },
  {
   "cell_type": "code",
   "execution_count": null,
   "id": "a8c01f83",
   "metadata": {},
   "outputs": [
    {
     "data": {
      "text/plain": [
       "First       APPLE_사과\n",
       "Second    BANANA_바나나\n",
       "Third      CHERRY_체리\n",
       "Fourth           NaN\n",
       "dtype: object"
      ]
     },
     "execution_count": 29,
     "metadata": {},
     "output_type": "execute_result"
    }
   ],
   "source": [
    "ser_obj.str.upper()"
   ]
  },
  {
   "cell_type": "code",
   "execution_count": null,
   "id": "fde77856",
   "metadata": {},
   "outputs": [
    {
     "data": {
      "text/plain": [
       "First        APPLE_사과\n",
       " Second    BANANA_바나나\n",
       " Third      CHERRY_체리\n",
       "Fourth           <NA>\n",
       "dtype: string"
      ]
     },
     "execution_count": 30,
     "metadata": {},
     "output_type": "execute_result"
    }
   ],
   "source": [
    "ser_str.str.upper()"
   ]
  },
  {
   "cell_type": "code",
   "execution_count": null,
   "id": "99078e31",
   "metadata": {},
   "outputs": [
    {
     "data": {
      "text/plain": [
       "First       [Apple, 사과]\n",
       "Second    [Banana, 바나나]\n",
       "Third      [Cherry, 체리]\n",
       "Fourth              NaN\n",
       "dtype: object"
      ]
     },
     "execution_count": 33,
     "metadata": {},
     "output_type": "execute_result"
    }
   ],
   "source": [
    "ser_obj.str.split('_') # 해당 문자('_')로 리스트 형태로 나누기"
   ]
  },
  {
   "cell_type": "code",
   "execution_count": null,
   "id": "0bddd237",
   "metadata": {},
   "outputs": [
    {
     "data": {
      "text/plain": [
       "c0    [A, 10, 20, 30]\n",
       "c1    [B, 20, 50, 40]\n",
       "dtype: object"
      ]
     },
     "execution_count": 52,
     "metadata": {},
     "output_type": "execute_result"
    }
   ],
   "source": [
    "s1 = pd.Series({'c0': 'A:10-20-30',\n",
    "                'c1': 'B:20-50-40'})\n",
    "\n",
    "s1 = s1.str.split('[:\\-]') # 분류 해야 하는 기호가 2개(:, -)일때\n",
    "s1\n",
    "\n"
   ]
  },
  {
   "cell_type": "code",
   "execution_count": null,
   "id": "d679d56c",
   "metadata": {},
   "outputs": [
    {
     "data": {
      "text/plain": [
       "c0    [A, 10, 20, 30, 50]\n",
       "c1    [B, 20, 50, 40, 60]\n",
       "dtype: object"
      ]
     },
     "execution_count": 6,
     "metadata": {},
     "output_type": "execute_result"
    }
   ],
   "source": [
    "s1 = pd.Series({'c0': 'A:10-20-30=50',\n",
    "                'c1': 'B:20-50-40=60'})\n",
    "s1 = s1.str.split('[:\\-\\=]') #분류 해야 하는 기호가 3개(:, -, =)일때\n",
    "s1"
   ]
  },
  {
   "cell_type": "code",
   "execution_count": null,
   "id": "769269bf",
   "metadata": {},
   "outputs": [
    {
     "data": {
      "text/plain": [
       "First              Apple_사과  _500   \n",
       "Second       Banana_바나나      _300   \n",
       "Third           Cherry_체리   _1000   \n",
       "Fourth                           NaN\n",
       "dtype: object"
      ]
     },
     "execution_count": 1,
     "metadata": {},
     "output_type": "execute_result"
    }
   ],
   "source": [
    "import pandas as pd\n",
    "import numpy as np\n",
    "\n",
    "ser_str = pd.Series({'First':'  Apple_사과  _500   ',\n",
    "                 'Second':'   Banana_바나나      _300   ',\n",
    "                 'Third':'   Cherry_체리   _1000   ',\n",
    "                 'Fourth':np.nan})\n",
    "\n",
    "ser_str"
   ]
  },
  {
   "cell_type": "code",
   "execution_count": null,
   "id": "29a71b36",
   "metadata": {},
   "outputs": [],
   "source": [
    "s1 = ser_str.str.split('_', expand=True) # expand = True는 DataFrame으로\n",
    "s2 = ser_str.str.split('_', expand=False) # expand = False는 Series으로\n",
    "s3 = ser_str.str.split('_') # expand = 디폴트는 Series"
   ]
  },
  {
   "cell_type": "code",
   "execution_count": null,
   "id": "83879db2",
   "metadata": {},
   "outputs": [
    {
     "data": {
      "text/plain": [
       "Index(['First', 'Second', 'Third', 'Fourth'], dtype='object')"
      ]
     },
     "execution_count": 37,
     "metadata": {},
     "output_type": "execute_result"
    }
   ],
   "source": [
    "s3.index"
   ]
  },
  {
   "cell_type": "code",
   "execution_count": null,
   "id": "2eceeb16",
   "metadata": {},
   "outputs": [
    {
     "data": {
      "text/plain": [
       "array([list(['Apple', '사과  ', '500   ']),\n",
       "       list(['Banana', '바나나      ', '300   ']),\n",
       "       list(['Cherry', '체리   ', '1000   ']), nan], dtype=object)"
      ]
     },
     "execution_count": 45,
     "metadata": {},
     "output_type": "execute_result"
    }
   ],
   "source": [
    "s3.values"
   ]
  },
  {
   "cell_type": "code",
   "execution_count": null,
   "id": "df02cff0",
   "metadata": {},
   "outputs": [
    {
     "data": {
      "text/plain": [
       "First            [  Apple, 사과  , 500   ]\n",
       "Second    [   Banana, 바나나      , 300   ]\n",
       "Third        [   Cherry, 체리   , 1000   ]\n",
       "Fourth                               NaN\n",
       "dtype: object"
      ]
     },
     "execution_count": 48,
     "metadata": {},
     "output_type": "execute_result"
    }
   ],
   "source": [
    "s3"
   ]
  },
  {
   "cell_type": "code",
   "execution_count": null,
   "id": "fd0c1c4a",
   "metadata": {},
   "outputs": [
    {
     "data": {
      "text/plain": [
       "First    NaN\n",
       "Second   NaN\n",
       "Third    NaN\n",
       "Fourth   NaN\n",
       "dtype: float64"
      ]
     },
     "execution_count": 34,
     "metadata": {},
     "output_type": "execute_result"
    }
   ],
   "source": [
    "s3.str.strip()"
   ]
  },
  {
   "cell_type": "code",
   "execution_count": null,
   "id": "e8d72ddc",
   "metadata": {},
   "outputs": [
    {
     "data": {
      "text/plain": [
       "First           Apple_사과  _500\n",
       "Second    Banana_바나나      _300\n",
       "Third        Cherry_체리   _1000\n",
       "Fourth                     NaN\n",
       "dtype: object"
      ]
     },
     "execution_count": 43,
     "metadata": {},
     "output_type": "execute_result"
    }
   ],
   "source": [
    "ser_str.str.strip() # 양쪽 공백 지우기"
   ]
  },
  {
   "cell_type": "code",
   "execution_count": null,
   "id": "5d2f1ff0",
   "metadata": {},
   "outputs": [
    {
     "data": {
      "text/plain": [
       "First              Apple:사과  :500   \n",
       "Second       Banana:바나나      :300   \n",
       "Third           Cherry:체리   :1000   \n",
       "Fourth                           NaN\n",
       "dtype: object"
      ]
     },
     "execution_count": 49,
     "metadata": {},
     "output_type": "execute_result"
    }
   ],
   "source": [
    "s_r = ser_str.str.replace(\"_\", \":\", regex=False) # 문자열 변경 (_ -> : 로 변경)\n",
    "s_r"
   ]
  },
  {
   "cell_type": "code",
   "execution_count": null,
   "id": "fd5f032e",
   "metadata": {},
   "outputs": [
    {
     "data": {
      "text/plain": [
       "First             Apple     \n",
       "Second       Banana         \n",
       "Third           Cherry      \n",
       "Fourth                   NaN\n",
       "dtype: object"
      ]
     },
     "execution_count": 57,
     "metadata": {},
     "output_type": "execute_result"
    }
   ],
   "source": [
    "s_r_r = ser_str.str.replace(\"[^a-zA-Z\\s]\", \"\", regex=True ) # a-zA-Z까지의 영문 빼고 삭제, ^는 시작을 나타냄, \\s는 공백 유지\n",
    "s_r_r"
   ]
  },
  {
   "cell_type": "code",
   "execution_count": null,
   "id": "a84f2eaa",
   "metadata": {},
   "outputs": [
    {
     "data": {
      "text/plain": [
       "First             사과     \n",
       "Second       바나나         \n",
       "Third            체리      \n",
       "Fourth                NaN\n",
       "dtype: object"
      ]
     },
     "execution_count": 12,
     "metadata": {},
     "output_type": "execute_result"
    }
   ],
   "source": [
    "s_r_r = ser_str.str.replace(\"[^가-힣\\s]\", \"\", regex=True ) # 가-힣 까지의 한글 빼고 삭제, ^는 시작을 나타냄, \\s는 공백 유지\n",
    "s_r_r"
   ]
  },
  {
   "cell_type": "code",
   "execution_count": null,
   "id": "ee6c4f21",
   "metadata": {},
   "outputs": [
    {
     "data": {
      "text/plain": [
       "First      500\n",
       "Second     300\n",
       "Third     1000\n",
       "Fourth     NaN\n",
       "dtype: object"
      ]
     },
     "execution_count": 56,
     "metadata": {},
     "output_type": "execute_result"
    }
   ],
   "source": [
    "s_r_s = ser_str.str.replace(\"[^0-9]\", \"\", regex=True ) # 숫자만 유지하고 나머지 삭제, ^는 시작을 나타냄 \\s를 빼면 공백 없어짐\n",
    "s_r_s"
   ]
  },
  {
   "cell_type": "code",
   "execution_count": null,
   "id": "ebbcb97a",
   "metadata": {},
   "outputs": [
    {
     "data": {
      "text/plain": [
       "First          사과  \n",
       "Second    바나나      \n",
       "Third         체리   \n",
       "Fourth          NaN\n",
       "dtype: object"
      ]
     },
     "execution_count": 4,
     "metadata": {},
     "output_type": "execute_result"
    }
   ],
   "source": [
    "get_1 = ser_str.str.split(\"_\").str.get(1) # 스플릿으로 나눈 후 첫번째 것 출력하기\n",
    "get_1"
   ]
  },
  {
   "cell_type": "code",
   "execution_count": null,
   "id": "cd69bf22",
   "metadata": {},
   "outputs": [
    {
     "data": {
      "text/plain": [
       "First       l\n",
       "Second      n\n",
       "Third       e\n",
       "Fourth    NaN\n",
       "dtype: object"
      ]
     },
     "execution_count": 62,
     "metadata": {},
     "output_type": "execute_result"
    }
   ],
   "source": [
    "ser_str.str[5] # 각 줄 문자의 5번째 문자를 출력"
   ]
  },
  {
   "cell_type": "code",
   "execution_count": null,
   "id": "af534c14",
   "metadata": {},
   "outputs": [
    {
     "data": {
      "text/plain": [
       "First      True\n",
       "Second    False\n",
       "Third     False\n",
       "Fourth      NaN\n",
       "dtype: object"
      ]
     },
     "execution_count": 63,
     "metadata": {},
     "output_type": "execute_result"
    }
   ],
   "source": [
    "ser_str.str.contains(\"A\") # 문자에 A 가 있는지 물어봄"
   ]
  },
  {
   "cell_type": "code",
   "execution_count": null,
   "id": "a774e962",
   "metadata": {},
   "outputs": [
    {
     "data": {
      "text/plain": [
       "First      True\n",
       "Second    False\n",
       "Third     False\n",
       "Fourth    False\n",
       "dtype: bool"
      ]
     },
     "execution_count": 65,
     "metadata": {},
     "output_type": "execute_result"
    }
   ],
   "source": [
    "ser_str.str.contains(\"A\", na=False) # nan 값은 False로 처리"
   ]
  },
  {
   "cell_type": "code",
   "execution_count": null,
   "id": "52001bd5",
   "metadata": {},
   "outputs": [
    {
     "data": {
      "text/plain": [
       "First      True\n",
       "Second     True\n",
       "Third     False\n",
       "Fourth      NaN\n",
       "dtype: object"
      ]
     },
     "execution_count": 66,
     "metadata": {},
     "output_type": "execute_result"
    }
   ],
   "source": [
    "ser_str.str.contains(r\"[A|B][a-z]+\") #r은 정규표현식을 표현하는 것임, 패턴 포함 여부 확인\n",
    "# 첫글자가 [A 또는 B],[두번째 글자는 소문자], +는 처음 조건을 포함한 나머지 글자들도 계속 비교해서 맞는지 확인함."
   ]
  },
  {
   "cell_type": "code",
   "execution_count": null,
   "id": "6e96c821",
   "metadata": {},
   "outputs": [
    {
     "name": "stdout",
     "output_type": "stream",
     "text": [
      "<re.Match object; span=(0, 2), match='Ap'>\n",
      "<re.Match object; span=(0, 2), match='Ca'>\n",
      "None\n",
      "None\n",
      "None\n"
     ]
    }
   ],
   "source": [
    "import re\n",
    "pattern = r\"[A|C][a-z]\"\n",
    "test_string = [ \"Apple\", \"Cat\",\"hello\", \"Bat\", \"A\" ]\n",
    "for s in test_string:\n",
    "    match = re.match( pattern, s )\n",
    "    print(match)"
   ]
  },
  {
   "cell_type": "code",
   "execution_count": null,
   "id": "3363f192",
   "metadata": {},
   "outputs": [
    {
     "name": "stdout",
     "output_type": "stream",
     "text": [
      "<re.Match object; span=(0, 5), match='Apple'>\n",
      "<re.Match object; span=(0, 3), match='Cat'>\n",
      "None\n",
      "None\n",
      "None\n"
     ]
    }
   ],
   "source": [
    "import re\n",
    "pattern = r\"[A|C][a-z]+\"\n",
    "test_string = [ \"Apple\", \"Cat\",\"hello\", \"Bat\", \"A\" ]\n",
    "for s in test_string:\n",
    "    match = re.match( pattern, s )\n",
    "    print(match)"
   ]
  },
  {
   "cell_type": "code",
   "execution_count": null,
   "id": "4b35c397",
   "metadata": {},
   "outputs": [
    {
     "data": {
      "text/plain": [
       "First     False\n",
       "Second    False\n",
       "Third     False\n",
       "Fourth      NaN\n",
       "dtype: object"
      ]
     },
     "execution_count": 67,
     "metadata": {},
     "output_type": "execute_result"
    }
   ],
   "source": [
    "ser_str.str.fullmatch(r\"[A|B][a-z]+\") # 정확하게 똑같은 것 찾기\n"
   ]
  },
  {
   "cell_type": "code",
   "execution_count": null,
   "id": "163d2669",
   "metadata": {},
   "outputs": [
    {
     "data": {
      "text/plain": [
       "First              Apple_사과  _500   \n",
       "Second       Banana_바나나      _300   \n",
       "Third           Cherry_체리   _1000   \n",
       "Fourth                           NaN\n",
       "dtype: object"
      ]
     },
     "execution_count": 70,
     "metadata": {},
     "output_type": "execute_result"
    }
   ],
   "source": [
    "ser_str"
   ]
  },
  {
   "cell_type": "code",
   "execution_count": null,
   "id": "9a5e62c3",
   "metadata": {},
   "outputs": [
    {
     "data": {
      "text/plain": [
       "First      True\n",
       "Second    False\n",
       "Third     False\n",
       "Fourth      NaN\n",
       "dtype: object"
      ]
     },
     "execution_count": 72,
     "metadata": {},
     "output_type": "execute_result"
    }
   ],
   "source": [
    "ser_str.str.fullmatch(\"  Apple_사과  _500   \") # 정확하게 똑같은 것 찾기"
   ]
  },
  {
   "cell_type": "code",
   "execution_count": null,
   "id": "faa4db14",
   "metadata": {},
   "outputs": [
    {
     "data": {
      "text/plain": [
       "First               005_  과사_elppA  \n",
       "Second       003_      나나바_ananaB   \n",
       "Third           0001_   리체_yrrehC   \n",
       "Fourth                           NaN\n",
       "dtype: object"
      ]
     },
     "execution_count": 13,
     "metadata": {},
     "output_type": "execute_result"
    }
   ],
   "source": [
    "ser_str.str[::-1] # 슬라이싱 (python의 슬라이싱과 같음)"
   ]
  },
  {
   "cell_type": "code",
   "execution_count": 17,
   "id": "2896d41a",
   "metadata": {},
   "outputs": [
    {
     "data": {
      "application/vnd.microsoft.datawrangler.viewer.v0+json": {
       "columns": [
        {
         "name": "(None, 'match')",
         "rawType": "object",
         "type": "unknown"
        },
        {
         "name": "0",
         "rawType": "string",
         "type": "string"
        }
       ],
       "conversionMethod": "pd.DataFrame",
       "ref": "6ad9fd38-6fd3-4711-af27-d81be9616182",
       "rows": [
        [
         "(0, 0)",
         "1"
        ],
        [
         "(1, 0)",
         "2"
        ],
        [
         "(2, 0)",
         "3"
        ],
        [
         "(3, 0)",
         "4"
        ],
        [
         "(3, 1)",
         "5"
        ],
        [
         "(3, 2)",
         "9"
        ],
        [
         "(4, 0)",
         "6"
        ],
        [
         "(4, 1)",
         "7"
        ],
        [
         "(5, 0)",
         "8"
        ]
       ],
       "shape": {
        "columns": 1,
        "rows": 9
       }
      },
      "text/html": [
       "<div>\n",
       "<style scoped>\n",
       "    .dataframe tbody tr th:only-of-type {\n",
       "        vertical-align: middle;\n",
       "    }\n",
       "\n",
       "    .dataframe tbody tr th {\n",
       "        vertical-align: top;\n",
       "    }\n",
       "\n",
       "    .dataframe thead th {\n",
       "        text-align: right;\n",
       "    }\n",
       "</style>\n",
       "<table border=\"1\" class=\"dataframe\">\n",
       "  <thead>\n",
       "    <tr style=\"text-align: right;\">\n",
       "      <th></th>\n",
       "      <th></th>\n",
       "      <th>0</th>\n",
       "    </tr>\n",
       "    <tr>\n",
       "      <th></th>\n",
       "      <th>match</th>\n",
       "      <th></th>\n",
       "    </tr>\n",
       "  </thead>\n",
       "  <tbody>\n",
       "    <tr>\n",
       "      <th>0</th>\n",
       "      <th>0</th>\n",
       "      <td>1</td>\n",
       "    </tr>\n",
       "    <tr>\n",
       "      <th>1</th>\n",
       "      <th>0</th>\n",
       "      <td>2</td>\n",
       "    </tr>\n",
       "    <tr>\n",
       "      <th>2</th>\n",
       "      <th>0</th>\n",
       "      <td>3</td>\n",
       "    </tr>\n",
       "    <tr>\n",
       "      <th rowspan=\"3\" valign=\"top\">3</th>\n",
       "      <th>0</th>\n",
       "      <td>4</td>\n",
       "    </tr>\n",
       "    <tr>\n",
       "      <th>1</th>\n",
       "      <td>5</td>\n",
       "    </tr>\n",
       "    <tr>\n",
       "      <th>2</th>\n",
       "      <td>9</td>\n",
       "    </tr>\n",
       "    <tr>\n",
       "      <th rowspan=\"2\" valign=\"top\">4</th>\n",
       "      <th>0</th>\n",
       "      <td>6</td>\n",
       "    </tr>\n",
       "    <tr>\n",
       "      <th>1</th>\n",
       "      <td>7</td>\n",
       "    </tr>\n",
       "    <tr>\n",
       "      <th>5</th>\n",
       "      <th>0</th>\n",
       "      <td>8</td>\n",
       "    </tr>\n",
       "  </tbody>\n",
       "</table>\n",
       "</div>"
      ],
      "text/plain": [
       "         0\n",
       "  match   \n",
       "0 0      1\n",
       "1 0      2\n",
       "2 0      3\n",
       "3 0      4\n",
       "  1      5\n",
       "  2      9\n",
       "4 0      6\n",
       "  1      7\n",
       "5 0      8"
      ]
     },
     "execution_count": 17,
     "metadata": {},
     "output_type": "execute_result"
    }
   ],
   "source": [
    "import pandas as pd\n",
    "\n",
    "ser3 = pd.Series(['a1', 'b2', 'c3', 'd4e5f9', 'e6f7', 'f8'], dtype='string')\n",
    "ser3.str.extractall(r\"(\\d)\")"
   ]
  },
  {
   "cell_type": "code",
   "execution_count": 18,
   "id": "9666776d",
   "metadata": {},
   "outputs": [
    {
     "data": {
      "application/vnd.microsoft.datawrangler.viewer.v0+json": {
       "columns": [
        {
         "name": "(None, 'match')",
         "rawType": "object",
         "type": "unknown"
        },
        {
         "name": "0",
         "rawType": "string",
         "type": "string"
        }
       ],
       "conversionMethod": "pd.DataFrame",
       "ref": "72cd1b6e-c972-4067-ba6a-2bcee1eb9428",
       "rows": [
        [
         "(0, 0)",
         "a"
        ],
        [
         "(1, 0)",
         "b"
        ],
        [
         "(2, 0)",
         "c"
        ],
        [
         "(3, 0)",
         "d"
        ],
        [
         "(3, 1)",
         "e"
        ],
        [
         "(3, 2)",
         "f"
        ],
        [
         "(4, 0)",
         "e"
        ],
        [
         "(4, 1)",
         "f"
        ],
        [
         "(5, 0)",
         "f"
        ]
       ],
       "shape": {
        "columns": 1,
        "rows": 9
       }
      },
      "text/html": [
       "<div>\n",
       "<style scoped>\n",
       "    .dataframe tbody tr th:only-of-type {\n",
       "        vertical-align: middle;\n",
       "    }\n",
       "\n",
       "    .dataframe tbody tr th {\n",
       "        vertical-align: top;\n",
       "    }\n",
       "\n",
       "    .dataframe thead th {\n",
       "        text-align: right;\n",
       "    }\n",
       "</style>\n",
       "<table border=\"1\" class=\"dataframe\">\n",
       "  <thead>\n",
       "    <tr style=\"text-align: right;\">\n",
       "      <th></th>\n",
       "      <th></th>\n",
       "      <th>0</th>\n",
       "    </tr>\n",
       "    <tr>\n",
       "      <th></th>\n",
       "      <th>match</th>\n",
       "      <th></th>\n",
       "    </tr>\n",
       "  </thead>\n",
       "  <tbody>\n",
       "    <tr>\n",
       "      <th>0</th>\n",
       "      <th>0</th>\n",
       "      <td>a</td>\n",
       "    </tr>\n",
       "    <tr>\n",
       "      <th>1</th>\n",
       "      <th>0</th>\n",
       "      <td>b</td>\n",
       "    </tr>\n",
       "    <tr>\n",
       "      <th>2</th>\n",
       "      <th>0</th>\n",
       "      <td>c</td>\n",
       "    </tr>\n",
       "    <tr>\n",
       "      <th rowspan=\"3\" valign=\"top\">3</th>\n",
       "      <th>0</th>\n",
       "      <td>d</td>\n",
       "    </tr>\n",
       "    <tr>\n",
       "      <th>1</th>\n",
       "      <td>e</td>\n",
       "    </tr>\n",
       "    <tr>\n",
       "      <th>2</th>\n",
       "      <td>f</td>\n",
       "    </tr>\n",
       "    <tr>\n",
       "      <th rowspan=\"2\" valign=\"top\">4</th>\n",
       "      <th>0</th>\n",
       "      <td>e</td>\n",
       "    </tr>\n",
       "    <tr>\n",
       "      <th>1</th>\n",
       "      <td>f</td>\n",
       "    </tr>\n",
       "    <tr>\n",
       "      <th>5</th>\n",
       "      <th>0</th>\n",
       "      <td>f</td>\n",
       "    </tr>\n",
       "  </tbody>\n",
       "</table>\n",
       "</div>"
      ],
      "text/plain": [
       "         0\n",
       "  match   \n",
       "0 0      a\n",
       "1 0      b\n",
       "2 0      c\n",
       "3 0      d\n",
       "  1      e\n",
       "  2      f\n",
       "4 0      e\n",
       "  1      f\n",
       "5 0      f"
      ]
     },
     "execution_count": 18,
     "metadata": {},
     "output_type": "execute_result"
    }
   ],
   "source": [
    "ser3 = pd.Series(['a1', 'b2', 'c3', 'd4e5f9', 'e6f7', 'f8'], dtype='string')\n",
    "ser3.str.extractall(r\"([a-z])\")"
   ]
  },
  {
   "cell_type": "code",
   "execution_count": 19,
   "id": "906812f8",
   "metadata": {},
   "outputs": [
    {
     "data": {
      "application/vnd.microsoft.datawrangler.viewer.v0+json": {
       "columns": [
        {
         "name": "index",
         "rawType": "int64",
         "type": "integer"
        },
        {
         "name": "0",
         "rawType": "string",
         "type": "string"
        }
       ],
       "conversionMethod": "pd.DataFrame",
       "ref": "b4a6b0bc-5643-4205-b07b-78f4d05ea8a6",
       "rows": [
        [
         "0",
         "a"
        ],
        [
         "1",
         "b"
        ],
        [
         "2",
         "c"
        ],
        [
         "3",
         "d"
        ],
        [
         "4",
         "e"
        ],
        [
         "5",
         "f"
        ]
       ],
       "shape": {
        "columns": 1,
        "rows": 6
       }
      },
      "text/html": [
       "<div>\n",
       "<style scoped>\n",
       "    .dataframe tbody tr th:only-of-type {\n",
       "        vertical-align: middle;\n",
       "    }\n",
       "\n",
       "    .dataframe tbody tr th {\n",
       "        vertical-align: top;\n",
       "    }\n",
       "\n",
       "    .dataframe thead th {\n",
       "        text-align: right;\n",
       "    }\n",
       "</style>\n",
       "<table border=\"1\" class=\"dataframe\">\n",
       "  <thead>\n",
       "    <tr style=\"text-align: right;\">\n",
       "      <th></th>\n",
       "      <th>0</th>\n",
       "    </tr>\n",
       "  </thead>\n",
       "  <tbody>\n",
       "    <tr>\n",
       "      <th>0</th>\n",
       "      <td>a</td>\n",
       "    </tr>\n",
       "    <tr>\n",
       "      <th>1</th>\n",
       "      <td>b</td>\n",
       "    </tr>\n",
       "    <tr>\n",
       "      <th>2</th>\n",
       "      <td>c</td>\n",
       "    </tr>\n",
       "    <tr>\n",
       "      <th>3</th>\n",
       "      <td>d</td>\n",
       "    </tr>\n",
       "    <tr>\n",
       "      <th>4</th>\n",
       "      <td>e</td>\n",
       "    </tr>\n",
       "    <tr>\n",
       "      <th>5</th>\n",
       "      <td>f</td>\n",
       "    </tr>\n",
       "  </tbody>\n",
       "</table>\n",
       "</div>"
      ],
      "text/plain": [
       "   0\n",
       "0  a\n",
       "1  b\n",
       "2  c\n",
       "3  d\n",
       "4  e\n",
       "5  f"
      ]
     },
     "execution_count": 19,
     "metadata": {},
     "output_type": "execute_result"
    }
   ],
   "source": [
    "ser3 = pd.Series(['a1', 'b2', 'c3', 'd4e5f9', 'e6f7', 'f8'], dtype='string')\n",
    "ser3.str.extract(r\"([a-z])\") # 첫번째 오는 문자가 a-z 추출"
   ]
  },
  {
   "cell_type": "code",
   "execution_count": 20,
   "id": "544f5833",
   "metadata": {},
   "outputs": [
    {
     "data": {
      "text/plain": [
       "<bound method DataFrame.groupby of          0\n",
       "  match   \n",
       "0 0      1\n",
       "1 0      2\n",
       "2 0      3\n",
       "3 0      4\n",
       "  1      5\n",
       "  2      9\n",
       "4 0      6\n",
       "  1      7\n",
       "5 0      8>"
      ]
     },
     "execution_count": 20,
     "metadata": {},
     "output_type": "execute_result"
    }
   ],
   "source": [
    "ser3 = pd.Series(['a1', 'b2', 'c3', 'd4e5f9', 'e6f7', 'f8'], dtype='string')\n",
    "ser3.str.extractall(r\"(\\d)\").groupby"
   ]
  },
  {
   "cell_type": "code",
   "execution_count": 21,
   "id": "7a51b414",
   "metadata": {},
   "outputs": [
    {
     "data": {
      "application/vnd.microsoft.datawrangler.viewer.v0+json": {
       "columns": [
        {
         "name": "index",
         "rawType": "int64",
         "type": "integer"
        },
        {
         "name": "0",
         "rawType": "string",
         "type": "string"
        }
       ],
       "conversionMethod": "pd.DataFrame",
       "ref": "70fb1cc9-219e-41e2-8e1c-a7b691682a39",
       "rows": [
        [
         "0",
         "1"
        ],
        [
         "1",
         "2"
        ],
        [
         "2",
         "3"
        ],
        [
         "3",
         "459"
        ],
        [
         "4",
         "67"
        ],
        [
         "5",
         "8"
        ]
       ],
       "shape": {
        "columns": 1,
        "rows": 6
       }
      },
      "text/html": [
       "<div>\n",
       "<style scoped>\n",
       "    .dataframe tbody tr th:only-of-type {\n",
       "        vertical-align: middle;\n",
       "    }\n",
       "\n",
       "    .dataframe tbody tr th {\n",
       "        vertical-align: top;\n",
       "    }\n",
       "\n",
       "    .dataframe thead th {\n",
       "        text-align: right;\n",
       "    }\n",
       "</style>\n",
       "<table border=\"1\" class=\"dataframe\">\n",
       "  <thead>\n",
       "    <tr style=\"text-align: right;\">\n",
       "      <th></th>\n",
       "      <th>0</th>\n",
       "    </tr>\n",
       "  </thead>\n",
       "  <tbody>\n",
       "    <tr>\n",
       "      <th>0</th>\n",
       "      <td>1</td>\n",
       "    </tr>\n",
       "    <tr>\n",
       "      <th>1</th>\n",
       "      <td>2</td>\n",
       "    </tr>\n",
       "    <tr>\n",
       "      <th>2</th>\n",
       "      <td>3</td>\n",
       "    </tr>\n",
       "    <tr>\n",
       "      <th>3</th>\n",
       "      <td>459</td>\n",
       "    </tr>\n",
       "    <tr>\n",
       "      <th>4</th>\n",
       "      <td>67</td>\n",
       "    </tr>\n",
       "    <tr>\n",
       "      <th>5</th>\n",
       "      <td>8</td>\n",
       "    </tr>\n",
       "  </tbody>\n",
       "</table>\n",
       "</div>"
      ],
      "text/plain": [
       "     0\n",
       "0    1\n",
       "1    2\n",
       "2    3\n",
       "3  459\n",
       "4   67\n",
       "5    8"
      ]
     },
     "execution_count": 21,
     "metadata": {},
     "output_type": "execute_result"
    }
   ],
   "source": [
    "ser3 = pd.Series(['a1', 'b2', 'c3', 'd4e5f9', 'e6f7', 'f8'], dtype='string')\n",
    "digits = ser3.str.extractall(r\"(\\d)\").groupby(level=0).agg(''.join)\n",
    "digits"
   ]
  },
  {
   "cell_type": "code",
   "execution_count": 22,
   "id": "6ee09b24",
   "metadata": {},
   "outputs": [
    {
     "data": {
      "application/vnd.microsoft.datawrangler.viewer.v0+json": {
       "columns": [
        {
         "name": "index",
         "rawType": "int64",
         "type": "integer"
        },
        {
         "name": "0",
         "rawType": "string",
         "type": "string"
        }
       ],
       "conversionMethod": "pd.DataFrame",
       "ref": "3b303654-ddfb-4adb-8c1a-c483a33c06ab",
       "rows": [
        [
         "0",
         "1"
        ],
        [
         "1",
         "2"
        ],
        [
         "2",
         "3"
        ],
        [
         "3",
         "4,5,9"
        ],
        [
         "4",
         "6,7"
        ],
        [
         "5",
         "8"
        ]
       ],
       "shape": {
        "columns": 1,
        "rows": 6
       }
      },
      "text/html": [
       "<div>\n",
       "<style scoped>\n",
       "    .dataframe tbody tr th:only-of-type {\n",
       "        vertical-align: middle;\n",
       "    }\n",
       "\n",
       "    .dataframe tbody tr th {\n",
       "        vertical-align: top;\n",
       "    }\n",
       "\n",
       "    .dataframe thead th {\n",
       "        text-align: right;\n",
       "    }\n",
       "</style>\n",
       "<table border=\"1\" class=\"dataframe\">\n",
       "  <thead>\n",
       "    <tr style=\"text-align: right;\">\n",
       "      <th></th>\n",
       "      <th>0</th>\n",
       "    </tr>\n",
       "  </thead>\n",
       "  <tbody>\n",
       "    <tr>\n",
       "      <th>0</th>\n",
       "      <td>1</td>\n",
       "    </tr>\n",
       "    <tr>\n",
       "      <th>1</th>\n",
       "      <td>2</td>\n",
       "    </tr>\n",
       "    <tr>\n",
       "      <th>2</th>\n",
       "      <td>3</td>\n",
       "    </tr>\n",
       "    <tr>\n",
       "      <th>3</th>\n",
       "      <td>4,5,9</td>\n",
       "    </tr>\n",
       "    <tr>\n",
       "      <th>4</th>\n",
       "      <td>6,7</td>\n",
       "    </tr>\n",
       "    <tr>\n",
       "      <th>5</th>\n",
       "      <td>8</td>\n",
       "    </tr>\n",
       "  </tbody>\n",
       "</table>\n",
       "</div>"
      ],
      "text/plain": [
       "       0\n",
       "0      1\n",
       "1      2\n",
       "2      3\n",
       "3  4,5,9\n",
       "4    6,7\n",
       "5      8"
      ]
     },
     "execution_count": 22,
     "metadata": {},
     "output_type": "execute_result"
    }
   ],
   "source": [
    "ser3 = pd.Series(['a1', 'b2', 'c3', 'd4e5f9', 'e6f7', 'f8'], dtype='string')\n",
    "digits = ser3.str.extractall(r\"(\\d)\").groupby(level=0).agg(','.join)\n",
    "digits"
   ]
  },
  {
   "cell_type": "code",
   "execution_count": 23,
   "id": "131df65e",
   "metadata": {},
   "outputs": [
    {
     "data": {
      "application/vnd.microsoft.datawrangler.viewer.v0+json": {
       "columns": [
        {
         "name": "index",
         "rawType": "int64",
         "type": "integer"
        },
        {
         "name": "0",
         "rawType": "string",
         "type": "string"
        }
       ],
       "conversionMethod": "pd.DataFrame",
       "ref": "5a90de24-6fb4-42e9-8327-7af6b4cca0f0",
       "rows": [
        [
         "0",
         "A"
        ],
        [
         "1",
         "B"
        ],
        [
         "2",
         "C"
        ],
        [
         "3",
         "DEF"
        ],
        [
         "4",
         "EF"
        ],
        [
         "5",
         "F"
        ]
       ],
       "shape": {
        "columns": 1,
        "rows": 6
       }
      },
      "text/html": [
       "<div>\n",
       "<style scoped>\n",
       "    .dataframe tbody tr th:only-of-type {\n",
       "        vertical-align: middle;\n",
       "    }\n",
       "\n",
       "    .dataframe tbody tr th {\n",
       "        vertical-align: top;\n",
       "    }\n",
       "\n",
       "    .dataframe thead th {\n",
       "        text-align: right;\n",
       "    }\n",
       "</style>\n",
       "<table border=\"1\" class=\"dataframe\">\n",
       "  <thead>\n",
       "    <tr style=\"text-align: right;\">\n",
       "      <th></th>\n",
       "      <th>0</th>\n",
       "    </tr>\n",
       "  </thead>\n",
       "  <tbody>\n",
       "    <tr>\n",
       "      <th>0</th>\n",
       "      <td>A</td>\n",
       "    </tr>\n",
       "    <tr>\n",
       "      <th>1</th>\n",
       "      <td>B</td>\n",
       "    </tr>\n",
       "    <tr>\n",
       "      <th>2</th>\n",
       "      <td>C</td>\n",
       "    </tr>\n",
       "    <tr>\n",
       "      <th>3</th>\n",
       "      <td>DEF</td>\n",
       "    </tr>\n",
       "    <tr>\n",
       "      <th>4</th>\n",
       "      <td>EF</td>\n",
       "    </tr>\n",
       "    <tr>\n",
       "      <th>5</th>\n",
       "      <td>F</td>\n",
       "    </tr>\n",
       "  </tbody>\n",
       "</table>\n",
       "</div>"
      ],
      "text/plain": [
       "     0\n",
       "0    A\n",
       "1    B\n",
       "2    C\n",
       "3  DEF\n",
       "4   EF\n",
       "5    F"
      ]
     },
     "execution_count": 23,
     "metadata": {},
     "output_type": "execute_result"
    }
   ],
   "source": [
    "ser3 = pd.Series(['A1', 'B2', 'C3', 'D4E5F9', 'E6F7', 'F8'], dtype='string')\n",
    "대문자 = ser3.str.extractall(r\"([A-Z])\").groupby(level=0).agg(''.join)\n",
    "대문자"
   ]
  },
  {
   "cell_type": "code",
   "execution_count": 24,
   "id": "d3916038",
   "metadata": {},
   "outputs": [
    {
     "data": {
      "application/vnd.microsoft.datawrangler.viewer.v0+json": {
       "columns": [
        {
         "name": "index",
         "rawType": "int64",
         "type": "integer"
        },
        {
         "name": "0",
         "rawType": "string",
         "type": "string"
        }
       ],
       "conversionMethod": "pd.DataFrame",
       "ref": "54c2f038-1fda-4f38-b792-35ed5fe05f4d",
       "rows": [
        [
         "0",
         "가"
        ],
        [
         "1",
         "나"
        ],
        [
         "2",
         "다"
        ],
        [
         "3",
         "라마바"
        ],
        [
         "4",
         "사아"
        ],
        [
         "5",
         "자"
        ]
       ],
       "shape": {
        "columns": 1,
        "rows": 6
       }
      },
      "text/html": [
       "<div>\n",
       "<style scoped>\n",
       "    .dataframe tbody tr th:only-of-type {\n",
       "        vertical-align: middle;\n",
       "    }\n",
       "\n",
       "    .dataframe tbody tr th {\n",
       "        vertical-align: top;\n",
       "    }\n",
       "\n",
       "    .dataframe thead th {\n",
       "        text-align: right;\n",
       "    }\n",
       "</style>\n",
       "<table border=\"1\" class=\"dataframe\">\n",
       "  <thead>\n",
       "    <tr style=\"text-align: right;\">\n",
       "      <th></th>\n",
       "      <th>0</th>\n",
       "    </tr>\n",
       "  </thead>\n",
       "  <tbody>\n",
       "    <tr>\n",
       "      <th>0</th>\n",
       "      <td>가</td>\n",
       "    </tr>\n",
       "    <tr>\n",
       "      <th>1</th>\n",
       "      <td>나</td>\n",
       "    </tr>\n",
       "    <tr>\n",
       "      <th>2</th>\n",
       "      <td>다</td>\n",
       "    </tr>\n",
       "    <tr>\n",
       "      <th>3</th>\n",
       "      <td>라마바</td>\n",
       "    </tr>\n",
       "    <tr>\n",
       "      <th>4</th>\n",
       "      <td>사아</td>\n",
       "    </tr>\n",
       "    <tr>\n",
       "      <th>5</th>\n",
       "      <td>자</td>\n",
       "    </tr>\n",
       "  </tbody>\n",
       "</table>\n",
       "</div>"
      ],
      "text/plain": [
       "     0\n",
       "0    가\n",
       "1    나\n",
       "2    다\n",
       "3  라마바\n",
       "4   사아\n",
       "5    자"
      ]
     },
     "execution_count": 24,
     "metadata": {},
     "output_type": "execute_result"
    }
   ],
   "source": [
    "ser3 = pd.Series(['가1', '나2', '다3', '라4마5바9', '사6아7', '자8'], dtype='string')\n",
    "한글 = ser3.str.extractall(r\"([가-힣])\").groupby(level=0).agg(''.join)\n",
    "한글"
   ]
  },
  {
   "cell_type": "code",
   "execution_count": 25,
   "id": "2a4f2a9a",
   "metadata": {},
   "outputs": [
    {
     "data": {
      "application/vnd.microsoft.datawrangler.viewer.v0+json": {
       "columns": [
        {
         "name": "index",
         "rawType": "int64",
         "type": "integer"
        },
        {
         "name": "Letter",
         "rawType": "string",
         "type": "string"
        },
        {
         "name": "Digit",
         "rawType": "string",
         "type": "string"
        }
       ],
       "conversionMethod": "pd.DataFrame",
       "ref": "c24a21c9-0d4a-4081-b7d7-99b34dd48711",
       "rows": [
        [
         "0",
         "a",
         "1"
        ],
        [
         "1",
         "b",
         "2"
        ],
        [
         "2",
         "c",
         "3"
        ],
        [
         "3",
         "d",
         "4"
        ],
        [
         "4",
         "e",
         "6"
        ],
        [
         "5",
         "f",
         "8"
        ]
       ],
       "shape": {
        "columns": 2,
        "rows": 6
       }
      },
      "text/html": [
       "<div>\n",
       "<style scoped>\n",
       "    .dataframe tbody tr th:only-of-type {\n",
       "        vertical-align: middle;\n",
       "    }\n",
       "\n",
       "    .dataframe tbody tr th {\n",
       "        vertical-align: top;\n",
       "    }\n",
       "\n",
       "    .dataframe thead th {\n",
       "        text-align: right;\n",
       "    }\n",
       "</style>\n",
       "<table border=\"1\" class=\"dataframe\">\n",
       "  <thead>\n",
       "    <tr style=\"text-align: right;\">\n",
       "      <th></th>\n",
       "      <th>Letter</th>\n",
       "      <th>Digit</th>\n",
       "    </tr>\n",
       "  </thead>\n",
       "  <tbody>\n",
       "    <tr>\n",
       "      <th>0</th>\n",
       "      <td>a</td>\n",
       "      <td>1</td>\n",
       "    </tr>\n",
       "    <tr>\n",
       "      <th>1</th>\n",
       "      <td>b</td>\n",
       "      <td>2</td>\n",
       "    </tr>\n",
       "    <tr>\n",
       "      <th>2</th>\n",
       "      <td>c</td>\n",
       "      <td>3</td>\n",
       "    </tr>\n",
       "    <tr>\n",
       "      <th>3</th>\n",
       "      <td>d</td>\n",
       "      <td>4</td>\n",
       "    </tr>\n",
       "    <tr>\n",
       "      <th>4</th>\n",
       "      <td>e</td>\n",
       "      <td>6</td>\n",
       "    </tr>\n",
       "    <tr>\n",
       "      <th>5</th>\n",
       "      <td>f</td>\n",
       "      <td>8</td>\n",
       "    </tr>\n",
       "  </tbody>\n",
       "</table>\n",
       "</div>"
      ],
      "text/plain": [
       "  Letter Digit\n",
       "0      a     1\n",
       "1      b     2\n",
       "2      c     3\n",
       "3      d     4\n",
       "4      e     6\n",
       "5      f     8"
      ]
     },
     "execution_count": 25,
     "metadata": {},
     "output_type": "execute_result"
    }
   ],
   "source": [
    "ser3 = pd.Series(['a1', 'b2', 'c3', 'd4e5f9', 'e6f7', 'f8'], dtype='string')\n",
    "split_columns = ser3.str.extract(r\"(?P<Letter>[a-z]+)(?P<Digit>\\d+)\")\n",
    "split_columns"
   ]
  },
  {
   "cell_type": "code",
   "execution_count": 26,
   "id": "a8633c4a",
   "metadata": {},
   "outputs": [
    {
     "data": {
      "application/vnd.microsoft.datawrangler.viewer.v0+json": {
       "columns": [
        {
         "name": "(None, 'match')",
         "rawType": "object",
         "type": "unknown"
        },
        {
         "name": "Letter",
         "rawType": "string",
         "type": "string"
        },
        {
         "name": "Digit",
         "rawType": "string",
         "type": "string"
        }
       ],
       "conversionMethod": "pd.DataFrame",
       "ref": "eb095117-5bda-4589-a289-8861d1a5ab80",
       "rows": [
        [
         "(0, 0)",
         "a",
         "1"
        ],
        [
         "(1, 0)",
         "b",
         "2"
        ],
        [
         "(2, 0)",
         "c",
         "3"
        ],
        [
         "(3, 0)",
         "d",
         "4"
        ],
        [
         "(3, 1)",
         "e",
         "5"
        ],
        [
         "(3, 2)",
         "f",
         "9"
        ],
        [
         "(4, 0)",
         "e",
         "6"
        ],
        [
         "(4, 1)",
         "f",
         "7"
        ],
        [
         "(5, 0)",
         "f",
         "8"
        ]
       ],
       "shape": {
        "columns": 2,
        "rows": 9
       }
      },
      "text/html": [
       "<div>\n",
       "<style scoped>\n",
       "    .dataframe tbody tr th:only-of-type {\n",
       "        vertical-align: middle;\n",
       "    }\n",
       "\n",
       "    .dataframe tbody tr th {\n",
       "        vertical-align: top;\n",
       "    }\n",
       "\n",
       "    .dataframe thead th {\n",
       "        text-align: right;\n",
       "    }\n",
       "</style>\n",
       "<table border=\"1\" class=\"dataframe\">\n",
       "  <thead>\n",
       "    <tr style=\"text-align: right;\">\n",
       "      <th></th>\n",
       "      <th></th>\n",
       "      <th>Letter</th>\n",
       "      <th>Digit</th>\n",
       "    </tr>\n",
       "    <tr>\n",
       "      <th></th>\n",
       "      <th>match</th>\n",
       "      <th></th>\n",
       "      <th></th>\n",
       "    </tr>\n",
       "  </thead>\n",
       "  <tbody>\n",
       "    <tr>\n",
       "      <th>0</th>\n",
       "      <th>0</th>\n",
       "      <td>a</td>\n",
       "      <td>1</td>\n",
       "    </tr>\n",
       "    <tr>\n",
       "      <th>1</th>\n",
       "      <th>0</th>\n",
       "      <td>b</td>\n",
       "      <td>2</td>\n",
       "    </tr>\n",
       "    <tr>\n",
       "      <th>2</th>\n",
       "      <th>0</th>\n",
       "      <td>c</td>\n",
       "      <td>3</td>\n",
       "    </tr>\n",
       "    <tr>\n",
       "      <th rowspan=\"3\" valign=\"top\">3</th>\n",
       "      <th>0</th>\n",
       "      <td>d</td>\n",
       "      <td>4</td>\n",
       "    </tr>\n",
       "    <tr>\n",
       "      <th>1</th>\n",
       "      <td>e</td>\n",
       "      <td>5</td>\n",
       "    </tr>\n",
       "    <tr>\n",
       "      <th>2</th>\n",
       "      <td>f</td>\n",
       "      <td>9</td>\n",
       "    </tr>\n",
       "    <tr>\n",
       "      <th rowspan=\"2\" valign=\"top\">4</th>\n",
       "      <th>0</th>\n",
       "      <td>e</td>\n",
       "      <td>6</td>\n",
       "    </tr>\n",
       "    <tr>\n",
       "      <th>1</th>\n",
       "      <td>f</td>\n",
       "      <td>7</td>\n",
       "    </tr>\n",
       "    <tr>\n",
       "      <th>5</th>\n",
       "      <th>0</th>\n",
       "      <td>f</td>\n",
       "      <td>8</td>\n",
       "    </tr>\n",
       "  </tbody>\n",
       "</table>\n",
       "</div>"
      ],
      "text/plain": [
       "        Letter Digit\n",
       "  match             \n",
       "0 0          a     1\n",
       "1 0          b     2\n",
       "2 0          c     3\n",
       "3 0          d     4\n",
       "  1          e     5\n",
       "  2          f     9\n",
       "4 0          e     6\n",
       "  1          f     7\n",
       "5 0          f     8"
      ]
     },
     "execution_count": 26,
     "metadata": {},
     "output_type": "execute_result"
    }
   ],
   "source": [
    "ser3 = pd.Series(['a1', 'b2', 'c3', 'd4e5f9', 'e6f7', 'f8'], dtype='string')\n",
    "split_columns = ser3.str.extractall(r\"(?P<Letter>[a-z]+)(?P<Digit>\\d+)\")\n",
    "split_columns"
   ]
  },
  {
   "cell_type": "code",
   "execution_count": 27,
   "id": "686a350a",
   "metadata": {},
   "outputs": [
    {
     "data": {
      "application/vnd.microsoft.datawrangler.viewer.v0+json": {
       "columns": [
        {
         "name": "index",
         "rawType": "int64",
         "type": "integer"
        },
        {
         "name": "Letter",
         "rawType": "string",
         "type": "string"
        },
        {
         "name": "Digit",
         "rawType": "string",
         "type": "string"
        }
       ],
       "conversionMethod": "pd.DataFrame",
       "ref": "4bdc36c5-2bf1-4480-bd7d-1e44c9814ba6",
       "rows": [
        [
         "0",
         "a",
         "1"
        ],
        [
         "1",
         "b",
         "2"
        ],
        [
         "2",
         "c",
         "3"
        ],
        [
         "3",
         "def",
         "459"
        ],
        [
         "4",
         "ef",
         "67"
        ],
        [
         "5",
         "f",
         "8"
        ]
       ],
       "shape": {
        "columns": 2,
        "rows": 6
       }
      },
      "text/html": [
       "<div>\n",
       "<style scoped>\n",
       "    .dataframe tbody tr th:only-of-type {\n",
       "        vertical-align: middle;\n",
       "    }\n",
       "\n",
       "    .dataframe tbody tr th {\n",
       "        vertical-align: top;\n",
       "    }\n",
       "\n",
       "    .dataframe thead th {\n",
       "        text-align: right;\n",
       "    }\n",
       "</style>\n",
       "<table border=\"1\" class=\"dataframe\">\n",
       "  <thead>\n",
       "    <tr style=\"text-align: right;\">\n",
       "      <th></th>\n",
       "      <th>Letter</th>\n",
       "      <th>Digit</th>\n",
       "    </tr>\n",
       "  </thead>\n",
       "  <tbody>\n",
       "    <tr>\n",
       "      <th>0</th>\n",
       "      <td>a</td>\n",
       "      <td>1</td>\n",
       "    </tr>\n",
       "    <tr>\n",
       "      <th>1</th>\n",
       "      <td>b</td>\n",
       "      <td>2</td>\n",
       "    </tr>\n",
       "    <tr>\n",
       "      <th>2</th>\n",
       "      <td>c</td>\n",
       "      <td>3</td>\n",
       "    </tr>\n",
       "    <tr>\n",
       "      <th>3</th>\n",
       "      <td>def</td>\n",
       "      <td>459</td>\n",
       "    </tr>\n",
       "    <tr>\n",
       "      <th>4</th>\n",
       "      <td>ef</td>\n",
       "      <td>67</td>\n",
       "    </tr>\n",
       "    <tr>\n",
       "      <th>5</th>\n",
       "      <td>f</td>\n",
       "      <td>8</td>\n",
       "    </tr>\n",
       "  </tbody>\n",
       "</table>\n",
       "</div>"
      ],
      "text/plain": [
       "  Letter Digit\n",
       "0      a     1\n",
       "1      b     2\n",
       "2      c     3\n",
       "3    def   459\n",
       "4     ef    67\n",
       "5      f     8"
      ]
     },
     "execution_count": 27,
     "metadata": {},
     "output_type": "execute_result"
    }
   ],
   "source": [
    "ser3 = pd.Series(['a1', 'b2', 'c3', 'd4e5f9', 'e6f7', 'f8'], dtype='string')\n",
    "split_columns = ser3.str.extractall(r\"(?P<Letter>[a-z]+)(?P<Digit>\\d+)\").groupby(level=0).agg(\"\".join)\n",
    "split_columns"
   ]
  }
 ],
 "metadata": {
  "kernelspec": {
   "display_name": "ai",
   "language": "python",
   "name": "python3"
  },
  "language_info": {
   "codemirror_mode": {
    "name": "ipython",
    "version": 3
   },
   "file_extension": ".py",
   "mimetype": "text/x-python",
   "name": "python",
   "nbconvert_exporter": "python",
   "pygments_lexer": "ipython3",
   "version": "3.10.16"
  }
 },
 "nbformat": 4,
 "nbformat_minor": 5
}
