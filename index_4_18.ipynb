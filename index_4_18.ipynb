{
 "cells": [
  {
   "cell_type": "code",
   "execution_count": 2,
   "id": "3fb0b605",
   "metadata": {},
   "outputs": [
    {
     "name": "stdout",
     "output_type": "stream",
     "text": [
      "   이름  수학  영어   음악   체육\n",
      "0  서준  90  98   85  100\n",
      "1  우현  80  89   95   90\n",
      "2  인아  70  95  100   90\n"
     ]
    }
   ],
   "source": [
    "import pandas as pd\n",
    "\n",
    "# DataFrame() 함수로 데이터프레임 변환. 변수 df에 저장\n",
    "exam_data = {'이름' : [ '서준', '우현', '인아'],\n",
    "             '수학' : [ 90, 80, 70],\n",
    "             '영어' : [ 98, 89, 95],\n",
    "             '음악' : [ 85, 95, 100],\n",
    "             '체육' : [ 100, 90, 90]}\n",
    "\n",
    "df = pd.DataFrame(exam_data)\n",
    "df_이름 = df.set_index('이름')\n",
    "bunho = [251011, 240203, 251122]\n",
    "df_번호_이름 = df.set_index([pd.Index([251011, 240203, 251122]), '이름'])\n",
    "print(df)\n"
   ]
  },
  {
   "cell_type": "markdown",
   "id": "ea62afb5",
   "metadata": {},
   "source": [
    "문제1) 데이터 프레임 만들기 \n",
    "\n",
    "학생 성적 데이터프레임 만들기\n",
    "\n",
    "아래 데이터를 기반으로 DataFrame을 만들어 보세요.\n"
   ]
  },
  {
   "cell_type": "code",
   "execution_count": 3,
   "id": "386e21e5",
   "metadata": {},
   "outputs": [
    {
     "name": "stdout",
     "output_type": "stream",
     "text": [
      "   이름  국어   영어  수학\n",
      "0  철수  90   70  85\n",
      "1  영희  85   95  80\n",
      "2  민수  80  100  90\n"
     ]
    }
   ],
   "source": [
    "import pandas as pd\n",
    "\n",
    "grade_Data = {\n",
    "                '이름' : ['철수', '영희', '민수'],\n",
    "                '국어' : [90, 85, 80],\n",
    "                '영어' : [70, 95, 100],\n",
    "                '수학' : [85, 80, 90]}\n",
    "\n",
    "gread_pd = pd.DataFrame(grade_Data)\n",
    "\n",
    "print(gread_pd)\n",
    "\n"
   ]
  },
  {
   "cell_type": "markdown",
   "id": "61dea4c2",
   "metadata": {},
   "source": [
    "문제2) 상품 주문 내역 데이터프레임 만들기\n",
    "\n",
    "다음과 같은 상품 주문 정보를 DataFrame으로 만들어 보세요."
   ]
  },
  {
   "cell_type": "code",
   "execution_count": 4,
   "id": "adde7b4e",
   "metadata": {},
   "outputs": [
    {
     "name": "stdout",
     "output_type": "stream",
     "text": [
      "      상품명 수량      단가\n",
      "1001  키보드  2   30000\n",
      "1002  모니터  1  150000\n",
      "1003  마우스  3    2000\n"
     ]
    }
   ],
   "source": [
    "import pandas as pd\n",
    "\n",
    "price_data = {'1001': ['키보드', 2, 30000],\n",
    "             '1002': ['모니터', 1, 150000],\n",
    "             '1003': ['마우스', 3, 2000]}\n",
    "\n",
    "price_pd = pd.DataFrame(price_data)\n",
    "\n",
    "price_pd = price_pd.T\n",
    "price_pd.columns = [['상품명', '수량', '단가']]\n",
    "print(price_pd)"
   ]
  },
  {
   "cell_type": "markdown",
   "id": "1920b293",
   "metadata": {},
   "source": [
    "문제3) 행인덱스/열이름 설정하기 \n",
    "\n",
    "학생 출석부 데이터\n",
    "\n",
    "​\n",
    "\n",
    "요구사항 \n",
    "\n",
    "아래 데이터를 가지고 DataFrame을 만들고,\n",
    "\n",
    "행 인덱스를 '학생명' 으로, 열 이름을 한글로 변경 하세요.\n",
    "\n",
    "열 이름을 [\"나이\", \"반\"] 으로 변경하세요.\n",
    "```python\n",
    "data = {\n",
    "    \"Name\": [\"철수\", \"영희\", \"민수\"],\n",
    "    \"Age\": [16, 17, 16],\n",
    "    \"Class\": [\"A\", \"B\", \"A\"]\n",
    "}\n",
    "```"
   ]
  },
  {
   "cell_type": "code",
   "execution_count": 5,
   "id": "62c6fa69",
   "metadata": {},
   "outputs": [
    {
     "data": {
      "application/vnd.microsoft.datawrangler.viewer.v0+json": {
       "columns": [
        {
         "name": "학생명",
         "rawType": "object",
         "type": "string"
        },
        {
         "name": "나이",
         "rawType": "int64",
         "type": "integer"
        },
        {
         "name": "반",
         "rawType": "object",
         "type": "string"
        }
       ],
       "conversionMethod": "pd.DataFrame",
       "ref": "19fe8805-6f31-4054-9b43-a9f626c186c5",
       "rows": [
        [
         "철수",
         "16",
         "A"
        ],
        [
         "영희",
         "17",
         "B"
        ],
        [
         "민수",
         "16",
         "A"
        ]
       ],
       "shape": {
        "columns": 2,
        "rows": 3
       }
      },
      "text/html": [
       "<div>\n",
       "<style scoped>\n",
       "    .dataframe tbody tr th:only-of-type {\n",
       "        vertical-align: middle;\n",
       "    }\n",
       "\n",
       "    .dataframe tbody tr th {\n",
       "        vertical-align: top;\n",
       "    }\n",
       "\n",
       "    .dataframe thead th {\n",
       "        text-align: right;\n",
       "    }\n",
       "</style>\n",
       "<table border=\"1\" class=\"dataframe\">\n",
       "  <thead>\n",
       "    <tr style=\"text-align: right;\">\n",
       "      <th></th>\n",
       "      <th>나이</th>\n",
       "      <th>반</th>\n",
       "    </tr>\n",
       "    <tr>\n",
       "      <th>학생명</th>\n",
       "      <th></th>\n",
       "      <th></th>\n",
       "    </tr>\n",
       "  </thead>\n",
       "  <tbody>\n",
       "    <tr>\n",
       "      <th>철수</th>\n",
       "      <td>16</td>\n",
       "      <td>A</td>\n",
       "    </tr>\n",
       "    <tr>\n",
       "      <th>영희</th>\n",
       "      <td>17</td>\n",
       "      <td>B</td>\n",
       "    </tr>\n",
       "    <tr>\n",
       "      <th>민수</th>\n",
       "      <td>16</td>\n",
       "      <td>A</td>\n",
       "    </tr>\n",
       "  </tbody>\n",
       "</table>\n",
       "</div>"
      ],
      "text/plain": [
       "     나이  반\n",
       "학생명       \n",
       "철수   16  A\n",
       "영희   17  B\n",
       "민수   16  A"
      ]
     },
     "execution_count": 5,
     "metadata": {},
     "output_type": "execute_result"
    }
   ],
   "source": [
    "data = {\n",
    "    \"Name\": [\"철수\", \"영희\", \"민수\"],\n",
    "    \"Age\": [16, 17, 16],\n",
    "    \"Class\": [\"A\", \"B\", \"A\"]\n",
    "}\n",
    "\n",
    "data_pd = pd.DataFrame(data)\n",
    "\n",
    "data_pd.columns = [\"학생명\", \"나이\", \"반\"]\n",
    "\n",
    "data_pd = data_pd.set_index('학생명')\n",
    "\n",
    "\n",
    "data_pd"
   ]
  },
  {
   "cell_type": "code",
   "execution_count": 6,
   "id": "d56ecf85",
   "metadata": {},
   "outputs": [
    {
     "data": {
      "application/vnd.microsoft.datawrangler.viewer.v0+json": {
       "columns": [
        {
         "name": "학생명",
         "rawType": "object",
         "type": "string"
        },
        {
         "name": "나이",
         "rawType": "int64",
         "type": "integer"
        },
        {
         "name": "반",
         "rawType": "object",
         "type": "string"
        }
       ],
       "conversionMethod": "pd.DataFrame",
       "ref": "659198df-247c-4019-911a-6bdac5c3ee88",
       "rows": [
        [
         "철수",
         "16",
         "A"
        ],
        [
         "영희",
         "17",
         "B"
        ],
        [
         "민수",
         "16",
         "A"
        ]
       ],
       "shape": {
        "columns": 2,
        "rows": 3
       }
      },
      "text/html": [
       "<div>\n",
       "<style scoped>\n",
       "    .dataframe tbody tr th:only-of-type {\n",
       "        vertical-align: middle;\n",
       "    }\n",
       "\n",
       "    .dataframe tbody tr th {\n",
       "        vertical-align: top;\n",
       "    }\n",
       "\n",
       "    .dataframe thead th {\n",
       "        text-align: right;\n",
       "    }\n",
       "</style>\n",
       "<table border=\"1\" class=\"dataframe\">\n",
       "  <thead>\n",
       "    <tr style=\"text-align: right;\">\n",
       "      <th></th>\n",
       "      <th>나이</th>\n",
       "      <th>반</th>\n",
       "    </tr>\n",
       "    <tr>\n",
       "      <th>학생명</th>\n",
       "      <th></th>\n",
       "      <th></th>\n",
       "    </tr>\n",
       "  </thead>\n",
       "  <tbody>\n",
       "    <tr>\n",
       "      <th>철수</th>\n",
       "      <td>16</td>\n",
       "      <td>A</td>\n",
       "    </tr>\n",
       "    <tr>\n",
       "      <th>영희</th>\n",
       "      <td>17</td>\n",
       "      <td>B</td>\n",
       "    </tr>\n",
       "    <tr>\n",
       "      <th>민수</th>\n",
       "      <td>16</td>\n",
       "      <td>A</td>\n",
       "    </tr>\n",
       "  </tbody>\n",
       "</table>\n",
       "</div>"
      ],
      "text/plain": [
       "     나이  반\n",
       "학생명       \n",
       "철수   16  A\n",
       "영희   17  B\n",
       "민수   16  A"
      ]
     },
     "execution_count": 6,
     "metadata": {},
     "output_type": "execute_result"
    }
   ],
   "source": [
    "data3 = {\"Name\": [\"철수\", \"영희\", \"민수\"],\n",
    "        \"Age\": [16, 17, 16],\n",
    "        \"Class\": [\"A\", \"B\", \"A\"]\n",
    "       }\n",
    "\n",
    "df3 = pd.DataFrame(data3)\n",
    "# 변수 = 데이터프레임.rename(columns = { 기존 이름 : 변경후 이름 , ...})\n",
    "df3 = df3.rename(columns = {'Name':'학생명', 'Age':'나이','Class':'반'})\n",
    "# 변수 = 데이터프레임.rename(index = { 기존 이름 : 변경후 이름 , ...})\n",
    "df3_1 = df3.set_index(['학생명'])\n",
    "\n",
    "df3_1"
   ]
  },
  {
   "cell_type": "markdown",
   "id": "d487d191",
   "metadata": {},
   "source": [
    "문제4) 행/열삭제\n",
    "\n",
    "\n",
    "고객 주문 데이터에서 행과 열 삭제하기 아래 데이터를 pandas DataFrame으로 만들고, 특정 행과 열을 삭제해보세요.\n",
    "\n",
    "요구사항\n",
    "\n",
    "- 주문번호 1002인 데이터를 행 삭제하세요\n",
    "\n",
    "- 가격 컬럼을 열 삭제하세요"
   ]
  },
  {
   "cell_type": "code",
   "execution_count": 7,
   "id": "62172fda",
   "metadata": {},
   "outputs": [
    {
     "name": "stdout",
     "output_type": "stream",
     "text": [
      "Index([1], dtype='int64')\n"
     ]
    },
    {
     "data": {
      "application/vnd.microsoft.datawrangler.viewer.v0+json": {
       "columns": [
        {
         "name": "index",
         "rawType": "int64",
         "type": "integer"
        },
        {
         "name": "주문번호",
         "rawType": "int64",
         "type": "integer"
        },
        {
         "name": "고객명",
         "rawType": "object",
         "type": "string"
        },
        {
         "name": "상품명",
         "rawType": "object",
         "type": "string"
        },
        {
         "name": "수량",
         "rawType": "int64",
         "type": "integer"
        },
        {
         "name": "가격",
         "rawType": "int64",
         "type": "integer"
        }
       ],
       "conversionMethod": "pd.DataFrame",
       "ref": "e5f19be1-9514-448d-8eee-910a44c3d867",
       "rows": [
        [
         "0",
         "1001",
         "김철수",
         "키보드",
         "2",
         "30000"
        ],
        [
         "2",
         "1003",
         "박민수",
         "마우스",
         "3",
         "20000"
        ]
       ],
       "shape": {
        "columns": 5,
        "rows": 2
       }
      },
      "text/html": [
       "<div>\n",
       "<style scoped>\n",
       "    .dataframe tbody tr th:only-of-type {\n",
       "        vertical-align: middle;\n",
       "    }\n",
       "\n",
       "    .dataframe tbody tr th {\n",
       "        vertical-align: top;\n",
       "    }\n",
       "\n",
       "    .dataframe thead th {\n",
       "        text-align: right;\n",
       "    }\n",
       "</style>\n",
       "<table border=\"1\" class=\"dataframe\">\n",
       "  <thead>\n",
       "    <tr style=\"text-align: right;\">\n",
       "      <th></th>\n",
       "      <th>주문번호</th>\n",
       "      <th>고객명</th>\n",
       "      <th>상품명</th>\n",
       "      <th>수량</th>\n",
       "      <th>가격</th>\n",
       "    </tr>\n",
       "  </thead>\n",
       "  <tbody>\n",
       "    <tr>\n",
       "      <th>0</th>\n",
       "      <td>1001</td>\n",
       "      <td>김철수</td>\n",
       "      <td>키보드</td>\n",
       "      <td>2</td>\n",
       "      <td>30000</td>\n",
       "    </tr>\n",
       "    <tr>\n",
       "      <th>2</th>\n",
       "      <td>1003</td>\n",
       "      <td>박민수</td>\n",
       "      <td>마우스</td>\n",
       "      <td>3</td>\n",
       "      <td>20000</td>\n",
       "    </tr>\n",
       "  </tbody>\n",
       "</table>\n",
       "</div>"
      ],
      "text/plain": [
       "   주문번호  고객명  상품명  수량     가격\n",
       "0  1001  김철수  키보드   2  30000\n",
       "2  1003  박민수  마우스   3  20000"
      ]
     },
     "execution_count": 7,
     "metadata": {},
     "output_type": "execute_result"
    }
   ],
   "source": [
    "Oder_Data = {\n",
    "             '주문번호':[1001,1002,1003],\n",
    "             '고객명':['김철수','이영희','박민수',],\n",
    "             '상품명':['키보드','모니터','마우스'],\n",
    "             '수량':[2,1,3],\n",
    "             '가격':[30000, 150000, 20000]\n",
    "             }\n",
    "\n",
    "\n",
    "Oder_Data_pd = pd.DataFrame(Oder_Data)\n",
    "\n",
    "drop_index = Oder_Data_pd[Oder_Data_pd['주문번호']==1002].index\n",
    "print(drop_index)\n",
    "\n",
    "Oder_Data_pd = Oder_Data_pd.drop(drop_index, axis=0)\n",
    "\n",
    "drop_가격 = Oder_Data_pd.drop( '가격', axis=1 )\n",
    "drop_가격\n",
    "\n",
    "Oder_Data_pd"
   ]
  },
  {
   "cell_type": "code",
   "execution_count": 8,
   "id": "a5a3414f",
   "metadata": {},
   "outputs": [
    {
     "data": {
      "application/vnd.microsoft.datawrangler.viewer.v0+json": {
       "columns": [
        {
         "name": "index",
         "rawType": "int64",
         "type": "integer"
        },
        {
         "name": "주문번호",
         "rawType": "object",
         "type": "string"
        },
        {
         "name": "고객명",
         "rawType": "object",
         "type": "string"
        },
        {
         "name": "상품명",
         "rawType": "object",
         "type": "string"
        },
        {
         "name": "수량",
         "rawType": "int64",
         "type": "integer"
        }
       ],
       "conversionMethod": "pd.DataFrame",
       "ref": "8b3dd517-1d69-4d82-a634-aa7ae1cf0f49",
       "rows": [
        [
         "0",
         "1001",
         "김철수",
         "키보드",
         "2"
        ],
        [
         "2",
         "1003",
         "박민수",
         "마우스",
         "3"
        ]
       ],
       "shape": {
        "columns": 4,
        "rows": 2
       }
      },
      "text/html": [
       "<div>\n",
       "<style scoped>\n",
       "    .dataframe tbody tr th:only-of-type {\n",
       "        vertical-align: middle;\n",
       "    }\n",
       "\n",
       "    .dataframe tbody tr th {\n",
       "        vertical-align: top;\n",
       "    }\n",
       "\n",
       "    .dataframe thead th {\n",
       "        text-align: right;\n",
       "    }\n",
       "</style>\n",
       "<table border=\"1\" class=\"dataframe\">\n",
       "  <thead>\n",
       "    <tr style=\"text-align: right;\">\n",
       "      <th></th>\n",
       "      <th>주문번호</th>\n",
       "      <th>고객명</th>\n",
       "      <th>상품명</th>\n",
       "      <th>수량</th>\n",
       "    </tr>\n",
       "  </thead>\n",
       "  <tbody>\n",
       "    <tr>\n",
       "      <th>0</th>\n",
       "      <td>1001</td>\n",
       "      <td>김철수</td>\n",
       "      <td>키보드</td>\n",
       "      <td>2</td>\n",
       "    </tr>\n",
       "    <tr>\n",
       "      <th>2</th>\n",
       "      <td>1003</td>\n",
       "      <td>박민수</td>\n",
       "      <td>마우스</td>\n",
       "      <td>3</td>\n",
       "    </tr>\n",
       "  </tbody>\n",
       "</table>\n",
       "</div>"
      ],
      "text/plain": [
       "   주문번호  고객명  상품명  수량\n",
       "0  1001  김철수  키보드   2\n",
       "2  1003  박민수  마우스   3"
      ]
     },
     "execution_count": 8,
     "metadata": {},
     "output_type": "execute_result"
    }
   ],
   "source": [
    "import pandas as pd\n",
    "data = {'주문번호': ['1001', '1002', '1003'],\n",
    "        '고객명': ['김철수', '이영희', '박민수'],\n",
    "        '상품명': ['키보드', '모니터', '마우스'],\n",
    "        '수량': [2, 1, 3],\n",
    "        '가격': [3000, 150000, 20000]}\n",
    "df = pd.DataFrame(data)\n",
    "df2 = df.drop([1])\n",
    "df3 = df2.drop('가격', axis=1)\n",
    "df3"
   ]
  },
  {
   "cell_type": "code",
   "execution_count": 9,
   "id": "f60fbde3",
   "metadata": {},
   "outputs": [
    {
     "data": {
      "application/vnd.microsoft.datawrangler.viewer.v0+json": {
       "columns": [
        {
         "name": "주문번호",
         "rawType": "int64",
         "type": "integer"
        },
        {
         "name": "고객명",
         "rawType": "object",
         "type": "string"
        },
        {
         "name": "상품명",
         "rawType": "object",
         "type": "string"
        },
        {
         "name": "수량",
         "rawType": "int64",
         "type": "integer"
        }
       ],
       "conversionMethod": "pd.DataFrame",
       "ref": "e899c207-3fc8-4ef2-80e2-09bf4174bc34",
       "rows": [
        [
         "1001",
         "김철수",
         "키보드",
         "2"
        ],
        [
         "1003",
         "박민수",
         "마우스",
         "3"
        ]
       ],
       "shape": {
        "columns": 3,
        "rows": 2
       }
      },
      "text/html": [
       "<div>\n",
       "<style scoped>\n",
       "    .dataframe tbody tr th:only-of-type {\n",
       "        vertical-align: middle;\n",
       "    }\n",
       "\n",
       "    .dataframe tbody tr th {\n",
       "        vertical-align: top;\n",
       "    }\n",
       "\n",
       "    .dataframe thead th {\n",
       "        text-align: right;\n",
       "    }\n",
       "</style>\n",
       "<table border=\"1\" class=\"dataframe\">\n",
       "  <thead>\n",
       "    <tr style=\"text-align: right;\">\n",
       "      <th></th>\n",
       "      <th>고객명</th>\n",
       "      <th>상품명</th>\n",
       "      <th>수량</th>\n",
       "    </tr>\n",
       "    <tr>\n",
       "      <th>주문번호</th>\n",
       "      <th></th>\n",
       "      <th></th>\n",
       "      <th></th>\n",
       "    </tr>\n",
       "  </thead>\n",
       "  <tbody>\n",
       "    <tr>\n",
       "      <th>1001</th>\n",
       "      <td>김철수</td>\n",
       "      <td>키보드</td>\n",
       "      <td>2</td>\n",
       "    </tr>\n",
       "    <tr>\n",
       "      <th>1003</th>\n",
       "      <td>박민수</td>\n",
       "      <td>마우스</td>\n",
       "      <td>3</td>\n",
       "    </tr>\n",
       "  </tbody>\n",
       "</table>\n",
       "</div>"
      ],
      "text/plain": [
       "      고객명  상품명  수량\n",
       "주문번호              \n",
       "1001  김철수  키보드   2\n",
       "1003  박민수  마우스   3"
      ]
     },
     "execution_count": 9,
     "metadata": {},
     "output_type": "execute_result"
    }
   ],
   "source": [
    "data4 = {\n",
    "         '주문번호' : [1001,1002,1003],\n",
    "         '고객명' : ['김철수','이영희','박민수'],\n",
    "         '상품명' : ['키보드','모니터','마우스'],\n",
    "         '수량' : [2,1,3],\n",
    "         '가격' : [30000,150000,200000]\n",
    "        }\n",
    "\n",
    "df4 = pd.DataFrame(data4)\n",
    "\n",
    "# drop_index = df4 [ df4[ '주문번호' ]  == 1002 ].index\n",
    "\n",
    "df4 = df4.set_index(['주문번호'])\n",
    "\n",
    "# 변수 = 데이터프레임.drop(행 인덱스, axis = 0)\n",
    "df4 = df4.drop([1002],axis = 0)\n",
    "# 변수 = 데이터프레임.drop(열 인덱스, axis = 1)\n",
    "df4 = df4.drop(['가격'],axis = 1)\n",
    "\n",
    "df4"
   ]
  },
  {
   "cell_type": "markdown",
   "id": "575f3347",
   "metadata": {},
   "source": [
    "문제5) 행/열 선택\n",
    " 쇼핑몰 주문 데이터\n",
    "\n",
    "다음 데이터를 DataFrame으로 만들고, 행과 열을 선택해보세요!\n",
    "\n",
    "- 1~2번째 행과 '고객명', '상품명' 열만 선택해서 출력하세요"
   ]
  },
  {
   "cell_type": "code",
   "execution_count": 10,
   "id": "294f69ce",
   "metadata": {},
   "outputs": [
    {
     "name": "stdout",
     "output_type": "stream",
     "text": [
      "   주문번호  고객명  상품명  수량      가격\n",
      "0  1001  김철수  키보드   2   30000\n",
      "1  1002  이영희  모니터   1  150000\n",
      "2  1003  박민수  마우스   3   20000\n"
     ]
    }
   ],
   "source": [
    "data = {\n",
    "    \"주문번호\": [1001, 1002, 1003],\n",
    "    \"고객명\": [\"김철수\", \"이영희\", \"박민수\"],\n",
    "    \"상품명\": [\"키보드\", \"모니터\", \"마우스\"],\n",
    "    \"수량\": [2, 1, 3],\n",
    "    \"가격\": [30000, 150000, 20000]\n",
    "}\n",
    "\n",
    "data_pd = pd.DataFrame(data)\n",
    "print(data_pd)\n"
   ]
  },
  {
   "cell_type": "markdown",
   "id": "11b6eada",
   "metadata": {},
   "source": [
    "요구사항\n",
    "\n",
    "- 주문번호 1002의 상품명만 선택해서 출력하세요"
   ]
  },
  {
   "cell_type": "code",
   "execution_count": 11,
   "id": "646a144c",
   "metadata": {},
   "outputs": [
    {
     "data": {
      "text/plain": [
       "주문번호      1002\n",
       "고객명        이영희\n",
       "상품명        모니터\n",
       "수량           1\n",
       "가격      150000\n",
       "Name: 1, dtype: object"
      ]
     },
     "execution_count": 11,
     "metadata": {},
     "output_type": "execute_result"
    }
   ],
   "source": [
    "data_pd.iloc[1]"
   ]
  },
  {
   "cell_type": "code",
   "execution_count": 12,
   "id": "e5a53137",
   "metadata": {},
   "outputs": [
    {
     "ename": "KeyError",
     "evalue": "1002",
     "output_type": "error",
     "traceback": [
      "\u001b[1;31m---------------------------------------------------------------------------\u001b[0m",
      "\u001b[1;31mKeyError\u001b[0m                                  Traceback (most recent call last)",
      "File \u001b[1;32mc:\\Users\\ye\\anaconda3\\envs\\ai\\lib\\site-packages\\pandas\\core\\indexes\\base.py:3802\u001b[0m, in \u001b[0;36mIndex.get_loc\u001b[1;34m(self, key)\u001b[0m\n\u001b[0;32m   3801\u001b[0m \u001b[38;5;28;01mtry\u001b[39;00m:\n\u001b[1;32m-> 3802\u001b[0m     \u001b[38;5;28;01mreturn\u001b[39;00m \u001b[38;5;28;43mself\u001b[39;49m\u001b[38;5;241;43m.\u001b[39;49m\u001b[43m_engine\u001b[49m\u001b[38;5;241;43m.\u001b[39;49m\u001b[43mget_loc\u001b[49m\u001b[43m(\u001b[49m\u001b[43mcasted_key\u001b[49m\u001b[43m)\u001b[49m\n\u001b[0;32m   3803\u001b[0m \u001b[38;5;28;01mexcept\u001b[39;00m \u001b[38;5;167;01mKeyError\u001b[39;00m \u001b[38;5;28;01mas\u001b[39;00m err:\n",
      "File \u001b[1;32mindex.pyx:153\u001b[0m, in \u001b[0;36mpandas._libs.index.IndexEngine.get_loc\u001b[1;34m()\u001b[0m\n",
      "File \u001b[1;32mindex.pyx:182\u001b[0m, in \u001b[0;36mpandas._libs.index.IndexEngine.get_loc\u001b[1;34m()\u001b[0m\n",
      "File \u001b[1;32mpandas\\\\_libs\\\\hashtable_class_helper.pxi:7081\u001b[0m, in \u001b[0;36mpandas._libs.hashtable.PyObjectHashTable.get_item\u001b[1;34m()\u001b[0m\n",
      "File \u001b[1;32mpandas\\\\_libs\\\\hashtable_class_helper.pxi:7089\u001b[0m, in \u001b[0;36mpandas._libs.hashtable.PyObjectHashTable.get_item\u001b[1;34m()\u001b[0m\n",
      "\u001b[1;31mKeyError\u001b[0m: 1002",
      "\nThe above exception was the direct cause of the following exception:\n",
      "\u001b[1;31mKeyError\u001b[0m                                  Traceback (most recent call last)",
      "Cell \u001b[1;32mIn[12], line 2\u001b[0m\n\u001b[0;32m      1\u001b[0m data_pd\u001b[38;5;241m=\u001b[39mdf\u001b[38;5;241m.\u001b[39mset_index(\u001b[38;5;124m'\u001b[39m\u001b[38;5;124m주문번호\u001b[39m\u001b[38;5;124m'\u001b[39m)\n\u001b[1;32m----> 2\u001b[0m \u001b[43mdata_pd\u001b[49m\u001b[38;5;241;43m.\u001b[39;49m\u001b[43mloc\u001b[49m\u001b[43m[\u001b[49m\u001b[38;5;241;43m1002\u001b[39;49m\u001b[43m]\u001b[49m\n",
      "File \u001b[1;32mc:\\Users\\ye\\anaconda3\\envs\\ai\\lib\\site-packages\\pandas\\core\\indexing.py:1192\u001b[0m, in \u001b[0;36m_LocationIndexer.__getitem__\u001b[1;34m(self, key)\u001b[0m\n\u001b[0;32m   1190\u001b[0m maybe_callable \u001b[38;5;241m=\u001b[39m com\u001b[38;5;241m.\u001b[39mapply_if_callable(key, \u001b[38;5;28mself\u001b[39m\u001b[38;5;241m.\u001b[39mobj)\n\u001b[0;32m   1191\u001b[0m maybe_callable \u001b[38;5;241m=\u001b[39m \u001b[38;5;28mself\u001b[39m\u001b[38;5;241m.\u001b[39m_check_deprecated_callable_usage(key, maybe_callable)\n\u001b[1;32m-> 1192\u001b[0m \u001b[38;5;28;01mreturn\u001b[39;00m \u001b[38;5;28;43mself\u001b[39;49m\u001b[38;5;241;43m.\u001b[39;49m\u001b[43m_getitem_axis\u001b[49m\u001b[43m(\u001b[49m\u001b[43mmaybe_callable\u001b[49m\u001b[43m,\u001b[49m\u001b[43m \u001b[49m\u001b[43maxis\u001b[49m\u001b[38;5;241;43m=\u001b[39;49m\u001b[43maxis\u001b[49m\u001b[43m)\u001b[49m\n",
      "File \u001b[1;32mc:\\Users\\ye\\anaconda3\\envs\\ai\\lib\\site-packages\\pandas\\core\\indexing.py:1432\u001b[0m, in \u001b[0;36m_LocIndexer._getitem_axis\u001b[1;34m(self, key, axis)\u001b[0m\n\u001b[0;32m   1430\u001b[0m \u001b[38;5;66;03m# fall thru to straight lookup\u001b[39;00m\n\u001b[0;32m   1431\u001b[0m \u001b[38;5;28mself\u001b[39m\u001b[38;5;241m.\u001b[39m_validate_key(key, axis)\n\u001b[1;32m-> 1432\u001b[0m \u001b[38;5;28;01mreturn\u001b[39;00m \u001b[38;5;28;43mself\u001b[39;49m\u001b[38;5;241;43m.\u001b[39;49m\u001b[43m_get_label\u001b[49m\u001b[43m(\u001b[49m\u001b[43mkey\u001b[49m\u001b[43m,\u001b[49m\u001b[43m \u001b[49m\u001b[43maxis\u001b[49m\u001b[38;5;241;43m=\u001b[39;49m\u001b[43maxis\u001b[49m\u001b[43m)\u001b[49m\n",
      "File \u001b[1;32mc:\\Users\\ye\\anaconda3\\envs\\ai\\lib\\site-packages\\pandas\\core\\indexing.py:1382\u001b[0m, in \u001b[0;36m_LocIndexer._get_label\u001b[1;34m(self, label, axis)\u001b[0m\n\u001b[0;32m   1380\u001b[0m \u001b[38;5;28;01mdef\u001b[39;00m\u001b[38;5;250m \u001b[39m\u001b[38;5;21m_get_label\u001b[39m(\u001b[38;5;28mself\u001b[39m, label, axis: AxisInt):\n\u001b[0;32m   1381\u001b[0m     \u001b[38;5;66;03m# GH#5567 this will fail if the label is not present in the axis.\u001b[39;00m\n\u001b[1;32m-> 1382\u001b[0m     \u001b[38;5;28;01mreturn\u001b[39;00m \u001b[38;5;28;43mself\u001b[39;49m\u001b[38;5;241;43m.\u001b[39;49m\u001b[43mobj\u001b[49m\u001b[38;5;241;43m.\u001b[39;49m\u001b[43mxs\u001b[49m\u001b[43m(\u001b[49m\u001b[43mlabel\u001b[49m\u001b[43m,\u001b[49m\u001b[43m \u001b[49m\u001b[43maxis\u001b[49m\u001b[38;5;241;43m=\u001b[39;49m\u001b[43maxis\u001b[49m\u001b[43m)\u001b[49m\n",
      "File \u001b[1;32mc:\\Users\\ye\\anaconda3\\envs\\ai\\lib\\site-packages\\pandas\\core\\generic.py:4295\u001b[0m, in \u001b[0;36mNDFrame.xs\u001b[1;34m(self, key, axis, level, drop_level)\u001b[0m\n\u001b[0;32m   4293\u001b[0m             new_index \u001b[38;5;241m=\u001b[39m index[loc]\n\u001b[0;32m   4294\u001b[0m \u001b[38;5;28;01melse\u001b[39;00m:\n\u001b[1;32m-> 4295\u001b[0m     loc \u001b[38;5;241m=\u001b[39m \u001b[43mindex\u001b[49m\u001b[38;5;241;43m.\u001b[39;49m\u001b[43mget_loc\u001b[49m\u001b[43m(\u001b[49m\u001b[43mkey\u001b[49m\u001b[43m)\u001b[49m\n\u001b[0;32m   4297\u001b[0m     \u001b[38;5;28;01mif\u001b[39;00m \u001b[38;5;28misinstance\u001b[39m(loc, np\u001b[38;5;241m.\u001b[39mndarray):\n\u001b[0;32m   4298\u001b[0m         \u001b[38;5;28;01mif\u001b[39;00m loc\u001b[38;5;241m.\u001b[39mdtype \u001b[38;5;241m==\u001b[39m np\u001b[38;5;241m.\u001b[39mbool_:\n",
      "File \u001b[1;32mc:\\Users\\ye\\anaconda3\\envs\\ai\\lib\\site-packages\\pandas\\core\\indexes\\base.py:3809\u001b[0m, in \u001b[0;36mIndex.get_loc\u001b[1;34m(self, key)\u001b[0m\n\u001b[0;32m   3804\u001b[0m     \u001b[38;5;28;01mif\u001b[39;00m \u001b[38;5;28misinstance\u001b[39m(casted_key, \u001b[38;5;28mslice\u001b[39m) \u001b[38;5;129;01mor\u001b[39;00m (\n\u001b[0;32m   3805\u001b[0m         \u001b[38;5;28misinstance\u001b[39m(casted_key, abc\u001b[38;5;241m.\u001b[39mIterable)\n\u001b[0;32m   3806\u001b[0m         \u001b[38;5;129;01mand\u001b[39;00m \u001b[38;5;28many\u001b[39m(\u001b[38;5;28misinstance\u001b[39m(x, \u001b[38;5;28mslice\u001b[39m) \u001b[38;5;28;01mfor\u001b[39;00m x \u001b[38;5;129;01min\u001b[39;00m casted_key)\n\u001b[0;32m   3807\u001b[0m     ):\n\u001b[0;32m   3808\u001b[0m         \u001b[38;5;28;01mraise\u001b[39;00m InvalidIndexError(key)\n\u001b[1;32m-> 3809\u001b[0m     \u001b[38;5;28;01mraise\u001b[39;00m \u001b[38;5;167;01mKeyError\u001b[39;00m(key) \u001b[38;5;28;01mfrom\u001b[39;00m\u001b[38;5;250m \u001b[39m\u001b[38;5;21;01merr\u001b[39;00m\n\u001b[0;32m   3810\u001b[0m \u001b[38;5;28;01mexcept\u001b[39;00m \u001b[38;5;167;01mTypeError\u001b[39;00m:\n\u001b[0;32m   3811\u001b[0m     \u001b[38;5;66;03m# If we have a listlike key, _check_indexing_error will raise\u001b[39;00m\n\u001b[0;32m   3812\u001b[0m     \u001b[38;5;66;03m#  InvalidIndexError. Otherwise we fall through and re-raise\u001b[39;00m\n\u001b[0;32m   3813\u001b[0m     \u001b[38;5;66;03m#  the TypeError.\u001b[39;00m\n\u001b[0;32m   3814\u001b[0m     \u001b[38;5;28mself\u001b[39m\u001b[38;5;241m.\u001b[39m_check_indexing_error(key)\n",
      "\u001b[1;31mKeyError\u001b[0m: 1002"
     ]
    }
   ],
   "source": [
    "data_pd=df.set_index('주문번호')\n",
    "data_pd.loc[1002] # 주문번호 1002의 상품명만 선택해서 출력"
   ]
  },
  {
   "cell_type": "markdown",
   "id": "28ff06c2",
   "metadata": {},
   "source": [
    "- 수량과 가격 열만 선택해서 모든 행 출력하세요"
   ]
  },
  {
   "cell_type": "code",
   "execution_count": null,
   "id": "1ffbe055",
   "metadata": {},
   "outputs": [
    {
     "data": {
      "application/vnd.microsoft.datawrangler.viewer.v0+json": {
       "columns": [
        {
         "name": "index",
         "rawType": "int64",
         "type": "integer"
        },
        {
         "name": "수량",
         "rawType": "int64",
         "type": "integer"
        },
        {
         "name": "가격",
         "rawType": "int64",
         "type": "integer"
        }
       ],
       "conversionMethod": "pd.DataFrame",
       "ref": "c1163fcc-74cd-43e4-9547-39a524544a41",
       "rows": [
        [
         "0",
         "2",
         "30000"
        ],
        [
         "1",
         "1",
         "150000"
        ],
        [
         "2",
         "3",
         "20000"
        ]
       ],
       "shape": {
        "columns": 2,
        "rows": 3
       }
      },
      "text/html": [
       "<div>\n",
       "<style scoped>\n",
       "    .dataframe tbody tr th:only-of-type {\n",
       "        vertical-align: middle;\n",
       "    }\n",
       "\n",
       "    .dataframe tbody tr th {\n",
       "        vertical-align: top;\n",
       "    }\n",
       "\n",
       "    .dataframe thead th {\n",
       "        text-align: right;\n",
       "    }\n",
       "</style>\n",
       "<table border=\"1\" class=\"dataframe\">\n",
       "  <thead>\n",
       "    <tr style=\"text-align: right;\">\n",
       "      <th></th>\n",
       "      <th>수량</th>\n",
       "      <th>가격</th>\n",
       "    </tr>\n",
       "  </thead>\n",
       "  <tbody>\n",
       "    <tr>\n",
       "      <th>0</th>\n",
       "      <td>2</td>\n",
       "      <td>30000</td>\n",
       "    </tr>\n",
       "    <tr>\n",
       "      <th>1</th>\n",
       "      <td>1</td>\n",
       "      <td>150000</td>\n",
       "    </tr>\n",
       "    <tr>\n",
       "      <th>2</th>\n",
       "      <td>3</td>\n",
       "      <td>20000</td>\n",
       "    </tr>\n",
       "  </tbody>\n",
       "</table>\n",
       "</div>"
      ],
      "text/plain": [
       "   수량      가격\n",
       "0   2   30000\n",
       "1   1  150000\n",
       "2   3   20000"
      ]
     },
     "execution_count": 84,
     "metadata": {},
     "output_type": "execute_result"
    }
   ],
   "source": [
    "data_pd[['수량','가격']]\n"
   ]
  },
  {
   "cell_type": "markdown",
   "id": "b9f5ca7f",
   "metadata": {},
   "source": [
    "1~2번째 행과 '고객명', '상품명' 열만 선택해서 출력"
   ]
  },
  {
   "cell_type": "code",
   "execution_count": null,
   "id": "7f4bda9a",
   "metadata": {},
   "outputs": [
    {
     "data": {
      "application/vnd.microsoft.datawrangler.viewer.v0+json": {
       "columns": [
        {
         "name": "index",
         "rawType": "int64",
         "type": "integer"
        },
        {
         "name": "수학",
         "rawType": "int64",
         "type": "integer"
        },
        {
         "name": "영어",
         "rawType": "int64",
         "type": "integer"
        }
       ],
       "conversionMethod": "pd.DataFrame",
       "ref": "e5320940-e859-435c-ac2f-61012f0dbd0d",
       "rows": [
        [
         "1",
         "80",
         "89"
        ],
        [
         "2",
         "70",
         "95"
        ]
       ],
       "shape": {
        "columns": 2,
        "rows": 2
       }
      },
      "text/html": [
       "<div>\n",
       "<style scoped>\n",
       "    .dataframe tbody tr th:only-of-type {\n",
       "        vertical-align: middle;\n",
       "    }\n",
       "\n",
       "    .dataframe tbody tr th {\n",
       "        vertical-align: top;\n",
       "    }\n",
       "\n",
       "    .dataframe thead th {\n",
       "        text-align: right;\n",
       "    }\n",
       "</style>\n",
       "<table border=\"1\" class=\"dataframe\">\n",
       "  <thead>\n",
       "    <tr style=\"text-align: right;\">\n",
       "      <th></th>\n",
       "      <th>수학</th>\n",
       "      <th>영어</th>\n",
       "    </tr>\n",
       "  </thead>\n",
       "  <tbody>\n",
       "    <tr>\n",
       "      <th>1</th>\n",
       "      <td>80</td>\n",
       "      <td>89</td>\n",
       "    </tr>\n",
       "    <tr>\n",
       "      <th>2</th>\n",
       "      <td>70</td>\n",
       "      <td>95</td>\n",
       "    </tr>\n",
       "  </tbody>\n",
       "</table>\n",
       "</div>"
      ],
      "text/plain": [
       "   수학  영어\n",
       "1  80  89\n",
       "2  70  95"
      ]
     },
     "execution_count": 85,
     "metadata": {},
     "output_type": "execute_result"
    }
   ],
   "source": [
    "df.iloc[ [1,2], [1,2] ]"
   ]
  },
  {
   "cell_type": "code",
   "execution_count": null,
   "id": "71fe867a",
   "metadata": {},
   "outputs": [],
   "source": [
    "import pandas as pd\n",
    "data = {'주문번호': ['1001', '1002', '1003'],\n",
    "        '고객명': ['김철수', '이영희', '박민수'],\n",
    "        '상품명': ['키보드', '모니터', '마우스'],\n",
    "        '수량': [2, 1, 3],\n",
    "        '단가': [30000, 150000, 20000]}\n",
    "df = pd.DataFrame(data)\n",
    "label = df.loc[1]\n",
    "print(label)\n",
    "print('-----------↑ 요구1 ↑ -- ↓ 요구2 ↓------------')\n",
    "d_e = df[['수량', '단가']]\n",
    "print(d_e)\n",
    "print('-----------↑ 요구2 ↑ -- ↓ 요구3 ↓------------')\n",
    "b_c = df.iloc[0:2:1, [2, 3]]\n",
    "b_c"
   ]
  },
  {
   "cell_type": "markdown",
   "id": "196de545",
   "metadata": {},
   "source": [
    "문제6)  원소값 수정하기 \n",
    "\n",
    "학생 성적 데이터 수정하기\n",
    "\n",
    "다음 데이터를 DataFrame으로 만들고,\n",
    "\n",
    "특정 원소 값을 수정하세요!"
   ]
  },
  {
   "cell_type": "code",
   "execution_count": null,
   "id": "32646c7d",
   "metadata": {},
   "outputs": [
    {
     "data": {
      "application/vnd.microsoft.datawrangler.viewer.v0+json": {
       "columns": [
        {
         "name": "이름",
         "rawType": "object",
         "type": "string"
        },
        {
         "name": "국어",
         "rawType": "int64",
         "type": "integer"
        },
        {
         "name": "영어",
         "rawType": "int64",
         "type": "integer"
        },
        {
         "name": "수학",
         "rawType": "int64",
         "type": "integer"
        }
       ],
       "conversionMethod": "pd.DataFrame",
       "ref": "7d8ff7b3-dee4-4d03-b2d0-ff462fed82c7",
       "rows": [
        [
         "철수",
         "90",
         "85",
         "80"
        ],
        [
         "영희",
         "70",
         "95",
         "98"
        ],
        [
         "민수",
         "85",
         "82",
         "90"
        ]
       ],
       "shape": {
        "columns": 3,
        "rows": 3
       }
      },
      "text/html": [
       "<div>\n",
       "<style scoped>\n",
       "    .dataframe tbody tr th:only-of-type {\n",
       "        vertical-align: middle;\n",
       "    }\n",
       "\n",
       "    .dataframe tbody tr th {\n",
       "        vertical-align: top;\n",
       "    }\n",
       "\n",
       "    .dataframe thead th {\n",
       "        text-align: right;\n",
       "    }\n",
       "</style>\n",
       "<table border=\"1\" class=\"dataframe\">\n",
       "  <thead>\n",
       "    <tr style=\"text-align: right;\">\n",
       "      <th></th>\n",
       "      <th>국어</th>\n",
       "      <th>영어</th>\n",
       "      <th>수학</th>\n",
       "    </tr>\n",
       "    <tr>\n",
       "      <th>이름</th>\n",
       "      <th></th>\n",
       "      <th></th>\n",
       "      <th></th>\n",
       "    </tr>\n",
       "  </thead>\n",
       "  <tbody>\n",
       "    <tr>\n",
       "      <th>철수</th>\n",
       "      <td>90</td>\n",
       "      <td>85</td>\n",
       "      <td>80</td>\n",
       "    </tr>\n",
       "    <tr>\n",
       "      <th>영희</th>\n",
       "      <td>70</td>\n",
       "      <td>95</td>\n",
       "      <td>98</td>\n",
       "    </tr>\n",
       "    <tr>\n",
       "      <th>민수</th>\n",
       "      <td>85</td>\n",
       "      <td>82</td>\n",
       "      <td>90</td>\n",
       "    </tr>\n",
       "  </tbody>\n",
       "</table>\n",
       "</div>"
      ],
      "text/plain": [
       "    국어  영어  수학\n",
       "이름            \n",
       "철수  90  85  80\n",
       "영희  70  95  98\n",
       "민수  85  82  90"
      ]
     },
     "execution_count": 86,
     "metadata": {},
     "output_type": "execute_result"
    }
   ],
   "source": [
    "data = {\n",
    "    \"이름\": [\"철수\", \"영희\", \"민수\"],\n",
    "    \"국어\": [90, 70, 85],\n",
    "    \"영어\": [85, 95, 80],\n",
    "    \"수학\": [80, 100, 90]\n",
    "}\n",
    "\n",
    "df = pd.DataFrame( data )\n",
    "df\n",
    "df=df.set_index( '이름' )\n",
    "df\n",
    "df.loc[ '영희', '수학' ] = 98\n",
    "df.loc['민수','영어'] = 82\n",
    "df\n"
   ]
  },
  {
   "cell_type": "markdown",
   "id": "f3f0fe46",
   "metadata": {},
   "source": [
    "    키보드로 입력 받아서 수정하기\n",
    "    이름? 영희\n",
    "    과목? 수학\n",
    "    수정 할 점수는? 98"
   ]
  },
  {
   "cell_type": "code",
   "execution_count": null,
   "id": "ea6d1003",
   "metadata": {},
   "outputs": [],
   "source": [
    "name = input(\"이름은?\")\n",
    "subject = input(\"과목은?\")\n",
    "score = int(input(\"수정할 점수\"))\n",
    "df.loc[name,subject] = score"
   ]
  },
  {
   "cell_type": "markdown",
   "id": "34840930",
   "metadata": {},
   "source": [
    "문제7) set_index() \n",
    "\n",
    "특정 열을 행 인덱스로 설정하는 함수\n",
    "\n",
    "​\n",
    "\n",
    "** 이용분야 \n",
    "\n",
    "- 고유한 값으로 데이터 조회:\n",
    "\n",
    "예를 들어, 고객 ID, 주문번호, 제품 코드 등과 같이 고유한 값을 인덱스로 설정하면, 특정 데이터를 찾을 때 더 빠르고 쉽게 접근할 수 있어요.\n",
    "\n",
    "- 다중 인덱스 설정:\n",
    "\n",
    "여러 컬럼을 인덱스로 설정하면, 다중 인덱스를 활용해 계층적으로 데이터를 관리할 수 있습니다. 예를 들어, 연도, 지역을 인덱스로 설정하면, 두 컬럼을 기준으로 데이터를 그룹화하고 쉽게 탐색할 수 있어요.\n",
    "\n",
    "- 정렬 및 집계:\n",
    "\n",
    "인덱스를 활용하면 데이터를 정렬, 그룹화 또는 집계할 때 매우 유용합니다."
   ]
  },
  {
   "cell_type": "markdown",
   "id": "f9d36053",
   "metadata": {},
   "source": [
    "문제 \n",
    "\n",
    "고객 주문 데이터에서 주문번호를 인덱스로 설정하고 데이터 조회하기\n",
    "\n",
    "다음 데이터를 가지고 주문번호를 인덱스로 설정한 후,\n",
    "\n",
    "주문번호 1002에 해당하는 고객 정보를 조회해보세요."
   ]
  },
  {
   "cell_type": "code",
   "execution_count": null,
   "id": "2c4eb69f",
   "metadata": {},
   "outputs": [],
   "source": [
    "# 문제7\n",
    "custom_order_data = {\n",
    "    \"주문번호\": [1001, 1002, 1003],\n",
    "    \"고객명\": [\"김철수\", \"이영희\", \"박민수\"],\n",
    "    \"상품명\": [\"키보드\", \"모니터\", \"마우스\"],\n",
    "    \"수량\": [2, 1, 3],\n",
    "    \"가격\": [30000, 150000, 20000]\n",
    "}\n",
    "\n",
    "df = pd.DataFrame( custom_order_data )\n",
    "# 주문번호를 인덱스로 설정\n",
    "df = df.set_index( '주문번호' )\n",
    "df\n",
    "# 주문번호 1002에 해당하는 고객명과 상품명을 출력\n",
    "df.loc[1002, ['고객명','상품명'] ]"
   ]
  },
  {
   "cell_type": "markdown",
   "id": "c18a1263",
   "metadata": {},
   "source": [
    "문제8) reindex() 행 인덱스 재배열\n",
    "\n",
    "​\n",
    "\n",
    "*** reindex() 주로 사용하는 분야\n",
    "\n",
    "데이터 정렬 변경\n",
    "\n",
    "원래 순서와 관계없이, 원하는 순서로 인덱스를 다시 배열할 때.\n",
    "\n",
    "누락된 인덱스 추가 (NaN)\n",
    "\n",
    "데이터에 없는 값도 인덱스로 추가해서 결측치를 생성, 이후 fillna로 처리 가능.\n",
    "\n",
    "다른 DataFrame과 인덱스를 맞출 때\n",
    "\n",
    "다른 데이터셋과 병합하거나 비교할 때, 인덱스를 동일하게 맞출 수 있음.\n",
    "\n",
    "\n",
    "문제 \n",
    "\n",
    "아래 데이터를 DataFrame으로 만든 뒤,\n",
    "\n",
    "reindex()를 사용해 주문번호 순서를 [1003, 1001, 1004, 1002]로 변경하세요."
   ]
  },
  {
   "cell_type": "code",
   "execution_count": null,
   "id": "855405a3",
   "metadata": {},
   "outputs": [],
   "source": [
    "# 문제8 \n",
    "data = {\n",
    "    \"주문번호\": [1001, 1002, 1003],\n",
    "    \"고객명\": [\"김철수\", \"이영희\", \"박민수\"],\n",
    "    \"상품명\": [\"키보드\", \"모니터\", \"마우스\"]\n",
    "}\n",
    "df = pd.DataFrame( data )\n",
    "df = df.set_index('주문번호')\n",
    "print( df, \"!!!\") \n",
    "df = df.reindex( [1003, 1001, 1004, 1002 ] )\n",
    "df"
   ]
  },
  {
   "cell_type": "markdown",
   "id": "31092c8c",
   "metadata": {},
   "source": [
    "문제9 ) reset_index() - 행 인덱스 초기화\n",
    "\n",
    "reset_index()는 DataFrame에서 인덱스를 기본 숫자형(기본 0,1,2,3...)으로 되돌리는 함수\n",
    "\n",
    "데이터 전처리에서 인덱스 → 컬럼으로 되돌릴 때 정말 자주 쓰는 함수\n",
    "\n",
    "​\n",
    "\n",
    "*** 이용분야 \n",
    "\n",
    "인덱스를 일반 컬럼으로 되돌릴 때\n",
    "\n",
    "set_index()로 지정한 인덱스를 해제하고 원래 형태로 돌리고 싶을 때.\n",
    "\n",
    "정렬/조작 후 데이터 초기화해서 깔끔한 테이블 형태로 만들 때.\n",
    "\n",
    "중복된 인덱스가 있을 때 재정비\n",
    "\n",
    "중복/다중 인덱스를 컬럼으로 빼고 새로 자동 인덱스를 만들고 싶을 때.\n",
    "\n",
    "인덱스 초기화 후 데이터 export 준비\n",
    "\n",
    "인덱스를 데이터로 포함해 csv로 저장하거나 다른 포맷으로 내보낼 때.\n",
    "\n",
    "​\n",
    "\n",
    "문제\n",
    "\n",
    "아래 데이터를 DataFrame으로 만들고,\n",
    "\n",
    "고객명을 인덱스로 설정한 뒤,\n",
    "\n",
    "다시 reset_index()를 이용해 인덱스를 기본 숫자형으로 초기화하세요."
   ]
  },
  {
   "cell_type": "code",
   "execution_count": null,
   "id": "e8f0e132",
   "metadata": {},
   "outputs": [],
   "source": [
    "# 문제9\n",
    "data = {\n",
    "    \"고객명\": [\"김철수\", \"이영희\", \"박민수\"],\n",
    "    \"상품명\": [\"키보드\", \"모니터\", \"마우스\"],\n",
    "    \"수량\": [2, 1, 3]\n",
    "       }\n",
    "df = pd.DataFrame(data)\n",
    "print(df)\n",
    "\n",
    "df = df.set_index('고객명')\n",
    "\n",
    "# 인덱스 설정후\n",
    "print(\"인덱스설정 후\")\n",
    "print(df)\n",
    "# reset_index후\n",
    "df = df.reset_index()\n",
    "df"
   ]
  },
  {
   "cell_type": "markdown",
   "id": "ebab7d84",
   "metadata": {},
   "source": [
    "sort_index()"
   ]
  },
  {
   "cell_type": "code",
   "execution_count": 20,
   "id": "9c980848",
   "metadata": {},
   "outputs": [
    {
     "name": "stdout",
     "output_type": "stream",
     "text": [
      "    c0  c1  c2  c3  c4\n",
      "r0  10   2  57  10  18\n",
      "r2   2   2  18  11  14\n",
      "r1  23  -1   9  12  15\n"
     ]
    }
   ],
   "source": [
    "import pandas as pd\n",
    "\n",
    "# 딕셔서리를 정의\n",
    "dict_data = {'c0':[10,2,23], 'c1':[2,2,-1], 'c2':[57,18,9], 'c3':[10,11,12], 'c4':[18,14,15]}\n",
    "\n",
    "# 딕셔서리를 데이터프레임으로 변환. 인덱스를 [r0, r2, r1]로 지정\n",
    "df = pd.DataFrame(dict_data, index=['r0', 'r2', 'r1'])\n",
    "print(df)"
   ]
  },
  {
   "cell_type": "code",
   "execution_count": 22,
   "id": "99eafe74",
   "metadata": {},
   "outputs": [
    {
     "name": "stdout",
     "output_type": "stream",
     "text": [
      "    c0  c1  c2  c3  c4\n",
      "r0  10   2  57  10  18\n",
      "r2   2   2  18  11  14\n",
      "r1  23  -1   9  12  15\n"
     ]
    }
   ],
   "source": [
    "ndf = df.sort_values(by='c1', ascending=False)\n",
    "print(ndf)"
   ]
  },
  {
   "cell_type": "markdown",
   "id": "d962045e",
   "metadata": {},
   "source": [
    "C1열을 기준(첫번째)으로 내림차순 정렬을하는데 만약 동일하면 c3열을 기준(두번째)으로 내림차순 정렬하세요."
   ]
  },
  {
   "cell_type": "code",
   "execution_count": 23,
   "id": "8b01e057",
   "metadata": {},
   "outputs": [
    {
     "name": "stdout",
     "output_type": "stream",
     "text": [
      "    c0  c1  c2  c3  c4\n",
      "r2   2   2  18  11  14\n",
      "r0  10   2  57  10  18\n",
      "r1  23  -1   9  12  15\n"
     ]
    }
   ],
   "source": [
    "ndf = df.sort_values(by=['c1', 'c3'], ascending=False)\n",
    "print(ndf)"
   ]
  },
  {
   "cell_type": "code",
   "execution_count": 24,
   "id": "a454f71b",
   "metadata": {},
   "outputs": [
    {
     "name": "stdout",
     "output_type": "stream",
     "text": [
      "    c0  c1  c2  c3  c4\n",
      "r1  23  -1   9  12  15\n",
      "r2   2   2  18  11  14\n",
      "r0  10   2  57  10  18\n"
     ]
    }
   ],
   "source": [
    "ndf = df.sort_values(by=['c3','c4'], ascending=[False,True])\n",
    "print(ndf)"
   ]
  },
  {
   "cell_type": "code",
   "execution_count": 29,
   "id": "5d32f8c0",
   "metadata": {},
   "outputs": [
    {
     "data": {
      "text/plain": [
       "국어    110\n",
       "영어     90\n",
       "수학    100\n",
       "dtype: object"
      ]
     },
     "execution_count": 29,
     "metadata": {},
     "output_type": "execute_result"
    }
   ],
   "source": [
    "import pandas as pd\n",
    "\n",
    "sr = pd.Series({\n",
    "                        '국어':100,\n",
    "                        '영어':80,\n",
    "                        '수학':90,\n",
    "                        '학점':'A'\n",
    "})\n",
    "\n",
    "sr_div = sr[0:3]+ 10\n",
    "sr_div\n"
   ]
  },
  {
   "cell_type": "code",
   "execution_count": 36,
   "id": "7711ad4b",
   "metadata": {},
   "outputs": [
    {
     "data": {
      "text/plain": [
       "국어    180\n",
       "수학    190\n",
       "영어    170\n",
       "dtype: int64"
      ]
     },
     "execution_count": 36,
     "metadata": {},
     "output_type": "execute_result"
    }
   ],
   "source": [
    "student1 = pd.Series({\n",
    "                        '국어':100,\n",
    "                        '영어':80,\n",
    "                        '수학':90,\n",
    "})\n",
    "\n",
    "student2 = pd.Series({\n",
    "                        '수학':100,\n",
    "                        '국어':80,\n",
    "                        '영어':90,\n",
    "})\n",
    "student1 + student2"
   ]
  },
  {
   "cell_type": "code",
   "execution_count": 35,
   "id": "7b0f15ab",
   "metadata": {},
   "outputs": [
    {
     "data": {
      "text/plain": [
       "국어    180.0\n",
       "수학    190.0\n",
       "영어      NaN\n",
       "체육      NaN\n",
       "dtype: float64"
      ]
     },
     "execution_count": 35,
     "metadata": {},
     "output_type": "execute_result"
    }
   ],
   "source": [
    "student1 = pd.Series({\n",
    "                        '국어':100,\n",
    "                        '영어':80,\n",
    "                        '수학':90,\n",
    "})\n",
    "\n",
    "student2 = pd.Series({\n",
    "                        '수학':100,\n",
    "                        '국어':80,\n",
    "                        '체육':90,\n",
    "})\n",
    "\n",
    "student1 + student2"
   ]
  },
  {
   "cell_type": "code",
   "execution_count": null,
   "id": "344f1a4f",
   "metadata": {},
   "outputs": [
    {
     "data": {
      "application/vnd.microsoft.datawrangler.viewer.v0+json": {
       "columns": [
        {
         "name": "index",
         "rawType": "object",
         "type": "string"
        },
        {
         "name": "합",
         "rawType": "float64",
         "type": "float"
        },
        {
         "name": "차",
         "rawType": "float64",
         "type": "float"
        },
        {
         "name": "곱",
         "rawType": "float64",
         "type": "float"
        },
        {
         "name": "나누기",
         "rawType": "float64",
         "type": "float"
        }
       ],
       "conversionMethod": "pd.DataFrame",
       "ref": "382b2133-f53b-4cee-93e7-a866a119941a",
       "rows": [
        [
         "국어",
         "180.0",
         "20.0",
         "8000.0",
         "1.25"
        ],
        [
         "수학",
         "190.0",
         "-10.0",
         "9000.0",
         "0.9"
        ],
        [
         "영어",
         "170.0",
         "-10.0",
         "7200.0",
         "0.89"
        ]
       ],
       "shape": {
        "columns": 4,
        "rows": 3
       }
      },
      "text/html": [
       "<div>\n",
       "<style scoped>\n",
       "    .dataframe tbody tr th:only-of-type {\n",
       "        vertical-align: middle;\n",
       "    }\n",
       "\n",
       "    .dataframe tbody tr th {\n",
       "        vertical-align: top;\n",
       "    }\n",
       "\n",
       "    .dataframe thead th {\n",
       "        text-align: right;\n",
       "    }\n",
       "</style>\n",
       "<table border=\"1\" class=\"dataframe\">\n",
       "  <thead>\n",
       "    <tr style=\"text-align: right;\">\n",
       "      <th></th>\n",
       "      <th>합</th>\n",
       "      <th>차</th>\n",
       "      <th>곱</th>\n",
       "      <th>나누기</th>\n",
       "    </tr>\n",
       "  </thead>\n",
       "  <tbody>\n",
       "    <tr>\n",
       "      <th>국어</th>\n",
       "      <td>180.0</td>\n",
       "      <td>20.0</td>\n",
       "      <td>8000.0</td>\n",
       "      <td>1.25</td>\n",
       "    </tr>\n",
       "    <tr>\n",
       "      <th>수학</th>\n",
       "      <td>190.0</td>\n",
       "      <td>-10.0</td>\n",
       "      <td>9000.0</td>\n",
       "      <td>0.90</td>\n",
       "    </tr>\n",
       "    <tr>\n",
       "      <th>영어</th>\n",
       "      <td>170.0</td>\n",
       "      <td>-10.0</td>\n",
       "      <td>7200.0</td>\n",
       "      <td>0.89</td>\n",
       "    </tr>\n",
       "  </tbody>\n",
       "</table>\n",
       "</div>"
      ],
      "text/plain": [
       "        합     차       곱   나누기\n",
       "국어  180.0  20.0  8000.0  1.25\n",
       "수학  190.0 -10.0  9000.0  0.90\n",
       "영어  170.0 -10.0  7200.0  0.89"
      ]
     },
     "execution_count": 7,
     "metadata": {},
     "output_type": "execute_result"
    }
   ],
   "source": [
    "import pandas as pd\n",
    "\n",
    "student1 = pd.Series({\n",
    "                        '국어':100,\n",
    "                        '영어':80,\n",
    "                        '수학':90,\n",
    "})\n",
    "\n",
    "student2 = pd.Series({\n",
    "                        '수학':100,\n",
    "                        '국어':80,\n",
    "                        '영어':90,\n",
    "})\n",
    "\n",
    "덧셈 = student1 + student2\n",
    "뺄셈 = student1 - student2\n",
    "곱셈 = student1 * student2\n",
    "나눗셈 = round(student1 / student2, 2)\n",
    "\n",
    "df = pd.DataFrame([덧셈, 뺄셈, 곱셈, 나눗셈], index=['합', '차', '곱', '나누기']).T\n",
    "df"
   ]
  },
  {
   "cell_type": "code",
   "execution_count": 10,
   "id": "2a95ec2f",
   "metadata": {},
   "outputs": [
    {
     "name": "stdout",
     "output_type": "stream",
     "text": [
      "국어     NaN\n",
      "영어    80.0\n",
      "수학    90.0\n",
      "dtype: float64\n",
      "수학    80\n",
      "국어    90\n",
      "dtype: int64\n"
     ]
    },
    {
     "data": {
      "application/vnd.microsoft.datawrangler.viewer.v0+json": {
       "columns": [
        {
         "name": "index",
         "rawType": "object",
         "type": "string"
        },
        {
         "name": "국어",
         "rawType": "float64",
         "type": "float"
        },
        {
         "name": "수학",
         "rawType": "float64",
         "type": "float"
        },
        {
         "name": "영어",
         "rawType": "float64",
         "type": "float"
        }
       ],
       "conversionMethod": "pd.DataFrame",
       "ref": "72eecf3e-9bb8-4b3c-88fd-1fd15d96c4f0",
       "rows": [
        [
         "덧셈",
         "90.0",
         "170.0",
         "80.0"
        ],
        [
         "뺄셈",
         "-90.0",
         "10.0",
         "80.0"
        ],
        [
         "곱셈",
         "0.0",
         "7200.0",
         "0.0"
        ],
        [
         "나눗셈",
         "0.0",
         "1.125",
         "inf"
        ]
       ],
       "shape": {
        "columns": 3,
        "rows": 4
       }
      },
      "text/html": [
       "<div>\n",
       "<style scoped>\n",
       "    .dataframe tbody tr th:only-of-type {\n",
       "        vertical-align: middle;\n",
       "    }\n",
       "\n",
       "    .dataframe tbody tr th {\n",
       "        vertical-align: top;\n",
       "    }\n",
       "\n",
       "    .dataframe thead th {\n",
       "        text-align: right;\n",
       "    }\n",
       "</style>\n",
       "<table border=\"1\" class=\"dataframe\">\n",
       "  <thead>\n",
       "    <tr style=\"text-align: right;\">\n",
       "      <th></th>\n",
       "      <th>국어</th>\n",
       "      <th>수학</th>\n",
       "      <th>영어</th>\n",
       "    </tr>\n",
       "  </thead>\n",
       "  <tbody>\n",
       "    <tr>\n",
       "      <th>덧셈</th>\n",
       "      <td>90.0</td>\n",
       "      <td>170.000</td>\n",
       "      <td>80.0</td>\n",
       "    </tr>\n",
       "    <tr>\n",
       "      <th>뺄셈</th>\n",
       "      <td>-90.0</td>\n",
       "      <td>10.000</td>\n",
       "      <td>80.0</td>\n",
       "    </tr>\n",
       "    <tr>\n",
       "      <th>곱셈</th>\n",
       "      <td>0.0</td>\n",
       "      <td>7200.000</td>\n",
       "      <td>0.0</td>\n",
       "    </tr>\n",
       "    <tr>\n",
       "      <th>나눗셈</th>\n",
       "      <td>0.0</td>\n",
       "      <td>1.125</td>\n",
       "      <td>inf</td>\n",
       "    </tr>\n",
       "  </tbody>\n",
       "</table>\n",
       "</div>"
      ],
      "text/plain": [
       "       국어        수학    영어\n",
       "덧셈   90.0   170.000  80.0\n",
       "뺄셈  -90.0    10.000  80.0\n",
       "곱셈    0.0  7200.000   0.0\n",
       "나눗셈   0.0     1.125   inf"
      ]
     },
     "execution_count": 10,
     "metadata": {},
     "output_type": "execute_result"
    }
   ],
   "source": [
    "import pandas as pd\n",
    "import numpy as np\n",
    "\n",
    "student1 = pd.Series(\n",
    "                        {'국어': np.nan,\n",
    "                         '영어': 80,\n",
    "                         '수학': 90})\n",
    "student2 = pd.Series(\n",
    "                        {'수학': 80,\n",
    "                         '국어': 90})\n",
    "\n",
    "print(student1)\n",
    "print(student2)\n",
    "\n",
    "sr_add = student1.add(student2, fill_value=0)\n",
    "sr_sub = student1.sub(student2, fill_value=0)\n",
    "sr_mul = student1.mul(student2, fill_value=0)\n",
    "sr_div = student1.div(student2, fill_value=0)\n",
    "\n",
    "result = pd.DataFrame(\n",
    "                        [sr_add, sr_sub, sr_mul, sr_div],\n",
    "                        index=['덧셈', '뺄셈', '곱셈', '나눗셈'])\n",
    "\n",
    "result"
   ]
  }
 ],
 "metadata": {
  "kernelspec": {
   "display_name": "ai",
   "language": "python",
   "name": "python3"
  },
  "language_info": {
   "codemirror_mode": {
    "name": "ipython",
    "version": 3
   },
   "file_extension": ".py",
   "mimetype": "text/x-python",
   "name": "python",
   "nbconvert_exporter": "python",
   "pygments_lexer": "ipython3",
   "version": "3.10.16"
  }
 },
 "nbformat": 4,
 "nbformat_minor": 5
}
